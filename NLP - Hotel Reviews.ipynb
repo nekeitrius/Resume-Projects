{
 "cells": [
  {
   "cell_type": "markdown",
   "id": "f2d09547",
   "metadata": {},
   "source": [
    "Hotels always wondering about the flow of business and what makes people want to stay with us versus somewhere else or vice versa especially since covid has affected soo much that is going on in our lives with traveling being at the top of that list. Most people before they go to new restuarants, bars, hotels, etc, they look at the reviews that the business might have on the internet. Those reviews influence others and if they are likely to want to visit that place or not. \n",
    "\n",
    "A company could find this review model beneficial when looking at how customers view how they are doing as a company and what they can work on without having to read each view one by one and filtering out certain things. During this project I will train a model that classify review ratings from different hotels using it's text and using different models and see how it performs. I hope to use the other source of data from Datafiniti to make sure the perfomance of my model works because that then means it could be use across any data set with reviews. "
   ]
  },
  {
   "cell_type": "markdown",
   "id": "2ad3b2e0",
   "metadata": {},
   "source": []
  },
  {
   "cell_type": "markdown",
   "id": "9ce21d75",
   "metadata": {},
   "source": [
    "Dataset: The dataset used is \"Datafiniti_Hotel_Reviews.csv\" from \n",
    "https://www.kaggle.com/datasets/datafiniti/hotel-reviews?select=Datafiniti_Hotel_Reviews.csv, it is list of 2,000 hotels and 10,000 reviews from \"Datafiniti's Business Database\""
   ]
  },
  {
   "cell_type": "markdown",
   "id": "b26d4b3a",
   "metadata": {},
   "source": [
    "Milestone 1 : Data Selection & EDA"
   ]
  },
  {
   "cell_type": "code",
   "execution_count": 1,
   "id": "e0e592e0",
   "metadata": {},
   "outputs": [],
   "source": [
    "import pandas as pd\n",
    "import numpy as np"
   ]
  },
  {
   "cell_type": "code",
   "execution_count": 2,
   "id": "dd5c87ae",
   "metadata": {},
   "outputs": [
    {
     "data": {
      "text/html": [
       "<div>\n",
       "<style scoped>\n",
       "    .dataframe tbody tr th:only-of-type {\n",
       "        vertical-align: middle;\n",
       "    }\n",
       "\n",
       "    .dataframe tbody tr th {\n",
       "        vertical-align: top;\n",
       "    }\n",
       "\n",
       "    .dataframe thead th {\n",
       "        text-align: right;\n",
       "    }\n",
       "</style>\n",
       "<table border=\"1\" class=\"dataframe\">\n",
       "  <thead>\n",
       "    <tr style=\"text-align: right;\">\n",
       "      <th></th>\n",
       "      <th>id</th>\n",
       "      <th>dateAdded</th>\n",
       "      <th>dateUpdated</th>\n",
       "      <th>address</th>\n",
       "      <th>categories</th>\n",
       "      <th>primaryCategories</th>\n",
       "      <th>city</th>\n",
       "      <th>country</th>\n",
       "      <th>keys</th>\n",
       "      <th>latitude</th>\n",
       "      <th>...</th>\n",
       "      <th>reviews.dateSeen</th>\n",
       "      <th>reviews.rating</th>\n",
       "      <th>reviews.sourceURLs</th>\n",
       "      <th>reviews.text</th>\n",
       "      <th>reviews.title</th>\n",
       "      <th>reviews.userCity</th>\n",
       "      <th>reviews.userProvince</th>\n",
       "      <th>reviews.username</th>\n",
       "      <th>sourceURLs</th>\n",
       "      <th>websites</th>\n",
       "    </tr>\n",
       "  </thead>\n",
       "  <tbody>\n",
       "    <tr>\n",
       "      <th>0</th>\n",
       "      <td>AVwc252WIN2L1WUfpqLP</td>\n",
       "      <td>2016-10-30T21:42:42Z</td>\n",
       "      <td>2018-09-10T21:06:27Z</td>\n",
       "      <td>5921 Valencia Cir</td>\n",
       "      <td>Hotels,Hotels and motels,Hotel and motel reser...</td>\n",
       "      <td>Accommodation &amp; Food Services</td>\n",
       "      <td>Rancho Santa Fe</td>\n",
       "      <td>US</td>\n",
       "      <td>us/ca/ranchosantafe/5921valenciacir/359754519</td>\n",
       "      <td>32.990959</td>\n",
       "      <td>...</td>\n",
       "      <td>2016-08-03T00:00:00Z,2016-07-26T00:00:00Z,2016...</td>\n",
       "      <td>5.0</td>\n",
       "      <td>https://www.hotels.com/hotel/125419/reviews%20/</td>\n",
       "      <td>Our experience at Rancho Valencia was absolute...</td>\n",
       "      <td>Best romantic vacation ever!!!!</td>\n",
       "      <td>NaN</td>\n",
       "      <td>NaN</td>\n",
       "      <td>Paula</td>\n",
       "      <td>http://www.hotels.com/ho125419/%25252525253Flo...</td>\n",
       "      <td>http://www.ranchovalencia.com</td>\n",
       "    </tr>\n",
       "    <tr>\n",
       "      <th>1</th>\n",
       "      <td>AVwc252WIN2L1WUfpqLP</td>\n",
       "      <td>2016-10-30T21:42:42Z</td>\n",
       "      <td>2018-09-10T21:06:27Z</td>\n",
       "      <td>5921 Valencia Cir</td>\n",
       "      <td>Hotels,Hotels and motels,Hotel and motel reser...</td>\n",
       "      <td>Accommodation &amp; Food Services</td>\n",
       "      <td>Rancho Santa Fe</td>\n",
       "      <td>US</td>\n",
       "      <td>us/ca/ranchosantafe/5921valenciacir/359754519</td>\n",
       "      <td>32.990959</td>\n",
       "      <td>...</td>\n",
       "      <td>2016-08-02T00:00:00Z,2016-08-26T00:00:00Z,2016...</td>\n",
       "      <td>5.0</td>\n",
       "      <td>https://www.hotels.com/hotel/125419/reviews%20/</td>\n",
       "      <td>Amazing place. Everyone was extremely warm and...</td>\n",
       "      <td>Sweet sweet serenity</td>\n",
       "      <td>NaN</td>\n",
       "      <td>NaN</td>\n",
       "      <td>D</td>\n",
       "      <td>http://www.hotels.com/ho125419/%25252525253Flo...</td>\n",
       "      <td>http://www.ranchovalencia.com</td>\n",
       "    </tr>\n",
       "    <tr>\n",
       "      <th>2</th>\n",
       "      <td>AVwc252WIN2L1WUfpqLP</td>\n",
       "      <td>2016-10-30T21:42:42Z</td>\n",
       "      <td>2018-09-10T21:06:27Z</td>\n",
       "      <td>5921 Valencia Cir</td>\n",
       "      <td>Hotels,Hotels and motels,Hotel and motel reser...</td>\n",
       "      <td>Accommodation &amp; Food Services</td>\n",
       "      <td>Rancho Santa Fe</td>\n",
       "      <td>US</td>\n",
       "      <td>us/ca/ranchosantafe/5921valenciacir/359754519</td>\n",
       "      <td>32.990959</td>\n",
       "      <td>...</td>\n",
       "      <td>2016-11-15T00:00:00Z,2016-08-23T00:00:00Z,2016...</td>\n",
       "      <td>5.0</td>\n",
       "      <td>https://www.hotels.com/hotel/125419/reviews%20/</td>\n",
       "      <td>We booked a 3 night stay at Rancho Valencia to...</td>\n",
       "      <td>Amazing Property and Experience</td>\n",
       "      <td>NaN</td>\n",
       "      <td>NaN</td>\n",
       "      <td>Ron</td>\n",
       "      <td>http://www.hotels.com/ho125419/%25252525253Flo...</td>\n",
       "      <td>http://www.ranchovalencia.com</td>\n",
       "    </tr>\n",
       "    <tr>\n",
       "      <th>3</th>\n",
       "      <td>AVwdOclqIN2L1WUfti38</td>\n",
       "      <td>2015-11-28T19:19:35Z</td>\n",
       "      <td>2018-09-10T21:06:16Z</td>\n",
       "      <td>7520 Teague Rd</td>\n",
       "      <td>Hotels,Hotels and motels,Travel agencies and b...</td>\n",
       "      <td>Accommodation &amp; Food Services</td>\n",
       "      <td>Hanover</td>\n",
       "      <td>US</td>\n",
       "      <td>us/md/hanover/7520teaguerd/-2043779672</td>\n",
       "      <td>39.155929</td>\n",
       "      <td>...</td>\n",
       "      <td>2016-05-21T00:00:00Z,2016-07-31T00:00:00Z</td>\n",
       "      <td>2.0</td>\n",
       "      <td>https://www.tripadvisor.com/Hotel_Review-g4118...</td>\n",
       "      <td>Currently in bed writing this for the past hr ...</td>\n",
       "      <td>Never again...beware, if you want sleep.</td>\n",
       "      <td>Richmond</td>\n",
       "      <td>VA</td>\n",
       "      <td>jaeem2016</td>\n",
       "      <td>http://www.yellowbook.com/profile/aloft-arunde...</td>\n",
       "      <td>http://www.starwoodhotels.com/alofthotels/prop...</td>\n",
       "    </tr>\n",
       "    <tr>\n",
       "      <th>4</th>\n",
       "      <td>AVwdOclqIN2L1WUfti38</td>\n",
       "      <td>2015-11-28T19:19:35Z</td>\n",
       "      <td>2018-09-10T21:06:16Z</td>\n",
       "      <td>7520 Teague Rd</td>\n",
       "      <td>Hotels,Hotels and motels,Travel agencies and b...</td>\n",
       "      <td>Accommodation &amp; Food Services</td>\n",
       "      <td>Hanover</td>\n",
       "      <td>US</td>\n",
       "      <td>us/md/hanover/7520teaguerd/-2043779672</td>\n",
       "      <td>39.155929</td>\n",
       "      <td>...</td>\n",
       "      <td>2016-07-31T00:00:00Z</td>\n",
       "      <td>5.0</td>\n",
       "      <td>https://www.tripadvisor.com/Hotel_Review-g4118...</td>\n",
       "      <td>I live in Md and the Aloft is my Home away fro...</td>\n",
       "      <td>ALWAYS GREAT STAY...</td>\n",
       "      <td>Laurel</td>\n",
       "      <td>MD</td>\n",
       "      <td>MamaNiaOne</td>\n",
       "      <td>http://www.yellowbook.com/profile/aloft-arunde...</td>\n",
       "      <td>http://www.starwoodhotels.com/alofthotels/prop...</td>\n",
       "    </tr>\n",
       "  </tbody>\n",
       "</table>\n",
       "<p>5 rows × 25 columns</p>\n",
       "</div>"
      ],
      "text/plain": [
       "                     id             dateAdded           dateUpdated  \\\n",
       "0  AVwc252WIN2L1WUfpqLP  2016-10-30T21:42:42Z  2018-09-10T21:06:27Z   \n",
       "1  AVwc252WIN2L1WUfpqLP  2016-10-30T21:42:42Z  2018-09-10T21:06:27Z   \n",
       "2  AVwc252WIN2L1WUfpqLP  2016-10-30T21:42:42Z  2018-09-10T21:06:27Z   \n",
       "3  AVwdOclqIN2L1WUfti38  2015-11-28T19:19:35Z  2018-09-10T21:06:16Z   \n",
       "4  AVwdOclqIN2L1WUfti38  2015-11-28T19:19:35Z  2018-09-10T21:06:16Z   \n",
       "\n",
       "             address                                         categories  \\\n",
       "0  5921 Valencia Cir  Hotels,Hotels and motels,Hotel and motel reser...   \n",
       "1  5921 Valencia Cir  Hotels,Hotels and motels,Hotel and motel reser...   \n",
       "2  5921 Valencia Cir  Hotels,Hotels and motels,Hotel and motel reser...   \n",
       "3     7520 Teague Rd  Hotels,Hotels and motels,Travel agencies and b...   \n",
       "4     7520 Teague Rd  Hotels,Hotels and motels,Travel agencies and b...   \n",
       "\n",
       "               primaryCategories             city country  \\\n",
       "0  Accommodation & Food Services  Rancho Santa Fe      US   \n",
       "1  Accommodation & Food Services  Rancho Santa Fe      US   \n",
       "2  Accommodation & Food Services  Rancho Santa Fe      US   \n",
       "3  Accommodation & Food Services          Hanover      US   \n",
       "4  Accommodation & Food Services          Hanover      US   \n",
       "\n",
       "                                            keys   latitude  ...  \\\n",
       "0  us/ca/ranchosantafe/5921valenciacir/359754519  32.990959  ...   \n",
       "1  us/ca/ranchosantafe/5921valenciacir/359754519  32.990959  ...   \n",
       "2  us/ca/ranchosantafe/5921valenciacir/359754519  32.990959  ...   \n",
       "3         us/md/hanover/7520teaguerd/-2043779672  39.155929  ...   \n",
       "4         us/md/hanover/7520teaguerd/-2043779672  39.155929  ...   \n",
       "\n",
       "                                    reviews.dateSeen reviews.rating  \\\n",
       "0  2016-08-03T00:00:00Z,2016-07-26T00:00:00Z,2016...            5.0   \n",
       "1  2016-08-02T00:00:00Z,2016-08-26T00:00:00Z,2016...            5.0   \n",
       "2  2016-11-15T00:00:00Z,2016-08-23T00:00:00Z,2016...            5.0   \n",
       "3          2016-05-21T00:00:00Z,2016-07-31T00:00:00Z            2.0   \n",
       "4                               2016-07-31T00:00:00Z            5.0   \n",
       "\n",
       "                                  reviews.sourceURLs  \\\n",
       "0    https://www.hotels.com/hotel/125419/reviews%20/   \n",
       "1    https://www.hotels.com/hotel/125419/reviews%20/   \n",
       "2    https://www.hotels.com/hotel/125419/reviews%20/   \n",
       "3  https://www.tripadvisor.com/Hotel_Review-g4118...   \n",
       "4  https://www.tripadvisor.com/Hotel_Review-g4118...   \n",
       "\n",
       "                                        reviews.text  \\\n",
       "0  Our experience at Rancho Valencia was absolute...   \n",
       "1  Amazing place. Everyone was extremely warm and...   \n",
       "2  We booked a 3 night stay at Rancho Valencia to...   \n",
       "3  Currently in bed writing this for the past hr ...   \n",
       "4  I live in Md and the Aloft is my Home away fro...   \n",
       "\n",
       "                              reviews.title reviews.userCity  \\\n",
       "0           Best romantic vacation ever!!!!              NaN   \n",
       "1                      Sweet sweet serenity              NaN   \n",
       "2           Amazing Property and Experience              NaN   \n",
       "3  Never again...beware, if you want sleep.         Richmond   \n",
       "4                      ALWAYS GREAT STAY...           Laurel   \n",
       "\n",
       "   reviews.userProvince reviews.username  \\\n",
       "0                   NaN            Paula   \n",
       "1                   NaN                D   \n",
       "2                   NaN              Ron   \n",
       "3                    VA        jaeem2016   \n",
       "4                    MD       MamaNiaOne   \n",
       "\n",
       "                                          sourceURLs  \\\n",
       "0  http://www.hotels.com/ho125419/%25252525253Flo...   \n",
       "1  http://www.hotels.com/ho125419/%25252525253Flo...   \n",
       "2  http://www.hotels.com/ho125419/%25252525253Flo...   \n",
       "3  http://www.yellowbook.com/profile/aloft-arunde...   \n",
       "4  http://www.yellowbook.com/profile/aloft-arunde...   \n",
       "\n",
       "                                            websites  \n",
       "0                      http://www.ranchovalencia.com  \n",
       "1                      http://www.ranchovalencia.com  \n",
       "2                      http://www.ranchovalencia.com  \n",
       "3  http://www.starwoodhotels.com/alofthotels/prop...  \n",
       "4  http://www.starwoodhotels.com/alofthotels/prop...  \n",
       "\n",
       "[5 rows x 25 columns]"
      ]
     },
     "execution_count": 2,
     "metadata": {},
     "output_type": "execute_result"
    }
   ],
   "source": [
    "#importing and reading file\n",
    "df = pd.read_csv('Datafiniti_Hotel_Reviews.csv')\n",
    "df.head()"
   ]
  },
  {
   "cell_type": "code",
   "execution_count": 3,
   "id": "36786baa",
   "metadata": {},
   "outputs": [
    {
     "data": {
      "text/plain": [
       "(10000, 25)"
      ]
     },
     "execution_count": 3,
     "metadata": {},
     "output_type": "execute_result"
    }
   ],
   "source": [
    "#dimensions of dataframe\n",
    "df.shape"
   ]
  },
  {
   "cell_type": "code",
   "execution_count": 4,
   "id": "a1f32615",
   "metadata": {},
   "outputs": [
    {
     "data": {
      "text/plain": [
       "id                       object\n",
       "dateAdded                object\n",
       "dateUpdated              object\n",
       "address                  object\n",
       "categories               object\n",
       "primaryCategories        object\n",
       "city                     object\n",
       "country                  object\n",
       "keys                     object\n",
       "latitude                float64\n",
       "longitude               float64\n",
       "name                     object\n",
       "postalCode               object\n",
       "province                 object\n",
       "reviews.date             object\n",
       "reviews.dateSeen         object\n",
       "reviews.rating          float64\n",
       "reviews.sourceURLs       object\n",
       "reviews.text             object\n",
       "reviews.title            object\n",
       "reviews.userCity         object\n",
       "reviews.userProvince     object\n",
       "reviews.username         object\n",
       "sourceURLs               object\n",
       "websites                 object\n",
       "dtype: object"
      ]
     },
     "execution_count": 4,
     "metadata": {},
     "output_type": "execute_result"
    }
   ],
   "source": [
    "#column types\n",
    "df.dtypes"
   ]
  },
  {
   "cell_type": "code",
   "execution_count": 5,
   "id": "002064f3",
   "metadata": {},
   "outputs": [
    {
     "name": "stdout",
     "output_type": "stream",
     "text": [
      "id                         0\n",
      "dateAdded                  0\n",
      "dateUpdated                0\n",
      "address                    0\n",
      "categories                 0\n",
      "primaryCategories          0\n",
      "city                       0\n",
      "country                    0\n",
      "keys                       0\n",
      "latitude                   0\n",
      "longitude                  0\n",
      "name                       0\n",
      "postalCode                 0\n",
      "province                   0\n",
      "reviews.date               0\n",
      "reviews.dateSeen           0\n",
      "reviews.rating             0\n",
      "reviews.sourceURLs         0\n",
      "reviews.text               1\n",
      "reviews.title              1\n",
      "reviews.userCity        5836\n",
      "reviews.userProvince    7295\n",
      "reviews.username           0\n",
      "sourceURLs                 0\n",
      "websites                   0\n",
      "dtype: int64\n"
     ]
    }
   ],
   "source": [
    "#Finding missing info\n",
    "print(df.isna().sum())"
   ]
  },
  {
   "cell_type": "markdown",
   "id": "d91ce331",
   "metadata": {},
   "source": [
    "Observations: \n",
    "\n",
    "    - There are 10000 rows and 25 columns.\n",
    "    \n",
    "    - Some columns have NAN values so I will handle those according .\n",
    "    \n",
    "    - I know I wont use certain columns such as the city, province, or username of the people who wrote the review so I will be dropping them soon . "
   ]
  },
  {
   "cell_type": "code",
   "execution_count": 6,
   "id": "24ccb6d4",
   "metadata": {},
   "outputs": [
    {
     "data": {
      "text/plain": [
       "Text(0, 0.5, 'Review Occurance')"
      ]
     },
     "execution_count": 6,
     "metadata": {},
     "output_type": "execute_result"
    },
    {
     "data": {
      "image/png": "[encoded data removed]",
      "text/plain": [
       "<Figure size 576x360 with 1 Axes>"
      ]
     },
     "metadata": {
      "needs_background": "light"
     },
     "output_type": "display_data"
    }
   ],
   "source": [
    "#Graph 1 : Histogram of Reviews by Occurance\n",
    "import matplotlib.pyplot as plt\n",
    "fig, ax = plt.subplots(figsize= (8,5))\n",
    "plt.hist (df['reviews.rating'], bins=4 , color = 'blue', edgecolor='black')\n",
    "plt.xlabel('Review Rating')\n",
    "plt.ylabel('Review Occurance')"
   ]
  },
  {
   "cell_type": "markdown",
   "id": "2c2535dd",
   "metadata": {},
   "source": [
    "Graph 1 Observation: This histogram shows that most of the reviews are positive which is a good thing. I will use TextBlob later on to see if the ratings wording is eqivalent to this."
   ]
  },
  {
   "cell_type": "markdown",
   "id": "e3fa7145",
   "metadata": {},
   "source": [
    "I assume but could be wrong that there might be something I need to fix because the wordles always include \"dytpe\" and \"object\" which is not an list from that catergory or if it is then I need to examine that in future research."
   ]
  },
  {
   "cell_type": "code",
   "execution_count": 7,
   "id": "921f59d7",
   "metadata": {},
   "outputs": [
    {
     "data": {
      "image/png": "[encoded data removed]",
      "text/plain": [
       "<Figure size 1008x432 with 1 Axes>"
      ]
     },
     "metadata": {
      "needs_background": "light"
     },
     "output_type": "display_data"
    }
   ],
   "source": [
    "#Visual 3 : Country's occurances by count. \n",
    "import seaborn as sns\n",
    "\n",
    "plt.figure(figsize=(14,6))\n",
    "\n",
    "city = df.city.value_counts()[:20]\n",
    "\n",
    "g = sns.countplot(x='city', \n",
    "                  data=df[df.city.isin(city.index.values)],\n",
    "                 color='purple')\n",
    "\n",
    "g.set_xlabel(\"City\")\n",
    "g.set_ylabel(\"Count\")\n",
    "g.set_xticklabels(g.get_xticklabels(),rotation=45)\n",
    "\n",
    "plt.show()"
   ]
  },
  {
   "cell_type": "markdown",
   "id": "dee5d190",
   "metadata": {},
   "source": [
    "Just looking at this graph , Las Vegas is the highest followed by Chicago, I feel like just for assumption that these are two places that tourists visit alot ."
   ]
  },
  {
   "cell_type": "code",
   "execution_count": 8,
   "id": "afc2122e",
   "metadata": {},
   "outputs": [
    {
     "data": {
      "text/html": [
       "<div style=\"width:100%;\"><div style=\"position:relative;width:100%;height:0;padding-bottom:60%;\"><span style=\"color:#565656\">Make this Notebook Trusted to load map: File -> Trust Notebook</span><iframe srcdoc=\"&lt;!DOCTYPE html&gt;\n",
       "&lt;head&gt;    \n",
       "    &lt;meta http-equiv=&quot;content-type&quot; content=&quot;text/html; charset=UTF-8&quot; /&gt;\n",
       "    \n",
       "        &lt;script&gt;\n",
       "            L_NO_TOUCH = false;\n",
       "            L_DISABLE_3D = false;\n",
       "        &lt;/script&gt;\n",
       "    \n",
       "    &lt;style&gt;html, body {width: 100%;height: 100%;margin: 0;padding: 0;}&lt;/style&gt;\n",
       "    &lt;style&gt;#map {position:absolute;top:0;bottom:0;right:0;left:0;}&lt;/style&gt;\n",
       "    &lt;script src=&quot;https://cdn.jsdelivr.net/npm/leaflet@1.6.0/dist/leaflet.js&quot;&gt;&lt;/script&gt;\n",
       "    &lt;script src=&quot;https://code.jquery.com/jquery-1.12.4.min.js&quot;&gt;&lt;/script&gt;\n",
       "    &lt;script src=&quot;https://maxcdn.bootstrapcdn.com/bootstrap/3.2.0/js/bootstrap.min.js&quot;&gt;&lt;/script&gt;\n",
       "    &lt;script src=&quot;https://cdnjs.cloudflare.com/ajax/libs/Leaflet.awesome-markers/2.0.2/leaflet.awesome-markers.js&quot;&gt;&lt;/script&gt;\n",
       "    &lt;link rel=&quot;stylesheet&quot; href=&quot;https://cdn.jsdelivr.net/npm/leaflet@1.6.0/dist/leaflet.css&quot;/&gt;\n",
       "    &lt;link rel=&quot;stylesheet&quot; href=&quot;https://maxcdn.bootstrapcdn.com/bootstrap/3.2.0/css/bootstrap.min.css&quot;/&gt;\n",
       "    &lt;link rel=&quot;stylesheet&quot; href=&quot;https://maxcdn.bootstrapcdn.com/bootstrap/3.2.0/css/bootstrap-theme.min.css&quot;/&gt;\n",
       "    &lt;link rel=&quot;stylesheet&quot; href=&quot;https://maxcdn.bootstrapcdn.com/font-awesome/4.6.3/css/font-awesome.min.css&quot;/&gt;\n",
       "    &lt;link rel=&quot;stylesheet&quot; href=&quot;https://cdnjs.cloudflare.com/ajax/libs/Leaflet.awesome-markers/2.0.2/leaflet.awesome-markers.css&quot;/&gt;\n",
       "    &lt;link rel=&quot;stylesheet&quot; href=&quot;https://cdn.jsdelivr.net/gh/python-visualization/folium/folium/templates/leaflet.awesome.rotate.min.css&quot;/&gt;\n",
       "    \n",
       "            &lt;meta name=&quot;viewport&quot; content=&quot;width=device-width,\n",
       "                initial-scale=1.0, maximum-scale=1.0, user-scalable=no&quot; /&gt;\n",
       "            &lt;style&gt;\n",
       "                #map_ca68d51670059a5ff3a6e158e1f38684 {\n",
       "                    position: relative;\n",
       "                    width: 100.0%;\n",
       "                    height: 100.0%;\n",
       "                    left: 0.0%;\n",
       "                    top: 0.0%;\n",
       "                }\n",
       "            &lt;/style&gt;\n",
       "        \n",
       "    &lt;script src=&quot;https://cdn.jsdelivr.net/gh/python-visualization/folium@master/folium/templates/leaflet_heat.min.js&quot;&gt;&lt;/script&gt;\n",
       "&lt;/head&gt;\n",
       "&lt;body&gt;    \n",
       "    \n",
       "            &lt;div class=&quot;folium-map&quot; id=&quot;map_ca68d51670059a5ff3a6e158e1f38684&quot; &gt;&lt;/div&gt;\n",
       "        \n",
       "&lt;/body&gt;\n",
       "&lt;script&gt;    \n",
       "    \n",
       "            var map_ca68d51670059a5ff3a6e158e1f38684 = L.map(\n",
       "                &quot;map_ca68d51670059a5ff3a6e158e1f38684&quot;,\n",
       "                {\n",
       "                    center: [39.155929, -76.716341],\n",
       "                    crs: L.CRS.EPSG3857,\n",
       "                    zoom: 4,\n",
       "                    zoomControl: true,\n",
       "                    preferCanvas: false,\n",
       "                }\n",
       "            );\n",
       "\n",
       "            \n",
       "\n",
       "        \n",
       "    \n",
       "            var tile_layer_4162670e39c1cadc7889951810fb73e4 = L.tileLayer(\n",
       "                &quot;https://{s}.tile.openstreetmap.org/{z}/{x}/{y}.png&quot;,\n",
       "                {&quot;attribution&quot;: &quot;Data by \\u0026copy; \\u003ca href=\\&quot;http://openstreetmap.org\\&quot;\\u003eOpenStreetMap\\u003c/a\\u003e, under \\u003ca href=\\&quot;http://www.openstreetmap.org/copyright\\&quot;\\u003eODbL\\u003c/a\\u003e.&quot;, &quot;detectRetina&quot;: false, &quot;maxNativeZoom&quot;: 18, &quot;maxZoom&quot;: 18, &quot;minZoom&quot;: 0, &quot;noWrap&quot;: false, &quot;opacity&quot;: 1, &quot;subdomains&quot;: &quot;abc&quot;, &quot;tms&quot;: false}\n",
       "            ).addTo(map_ca68d51670059a5ff3a6e158e1f38684);\n",
       "        \n",
       "    \n",
       "            var heat_map_24ba0c5220214d0b3e8e35f192695155 = L.heatLayer(\n",
       "                [[32.990959, -117.186136], [32.990959, -117.186136], [32.990959, -117.186136], [39.155929, -76.716341], [39.155929, -76.716341], [39.155929, -76.716341], [39.155929, -76.716341], [39.155929, -76.716341], [39.155929, -76.716341], [45.619212, -122.525196], [45.619212, -122.525196], [45.619212, -122.525196], [45.619212, -122.525196], [45.619212, -122.525196], [45.619212, -122.525196], [39.100119, -94.584701], [39.100119, -94.584701], [39.100119, -94.584701], [39.100119, -94.584701], [39.100119, -94.584701], [40.527478, -77.969763], [32.471878, -83.745217], [37.785211, -122.40579], [37.785211, -122.40579], [37.785211, -122.40579], [37.785211, -122.40579], [39.487449, -75.044475], [39.487449, -75.044475], [38.782134, -77.015018], [38.782134, -77.015018], [38.782134, -77.015018], [38.782134, -77.015018], [38.782134, -77.015018], [38.782134, -77.015018], [38.782134, -77.015018], [38.782134, -77.015018], [38.782134, -77.015018], [38.782134, -77.015018], [38.782134, -77.015018], [38.782134, -77.015018], [38.782134, -77.015018], [38.782134, -77.015018], [38.782134, -77.015018], [38.782134, -77.015018], [38.782134, -77.015018], [38.782134, -77.015018], [38.782134, -77.015018], [38.782134, -77.015018], [38.782134, -77.015018], [38.782134, -77.015018], [38.782134, -77.015018], [38.782134, -77.015018], [38.782134, -77.015018], [38.782134, -77.015018], [38.782134, -77.015018], [38.782134, -77.015018], [38.782134, -77.015018], [38.782134, -77.015018], [38.782134, -77.015018], [32.938326, -117.197639], [32.938326, -117.197639], [32.938326, -117.197639], [32.938326, -117.197639], [32.938326, -117.197639], [32.938326, -117.197639], [32.938326, -117.197639], [32.938326, -117.197639], [32.938326, -117.197639], [32.938326, -117.197639], [32.938326, -117.197639], [32.938326, -117.197639], [32.938326, -117.197639], [32.938326, -117.197639], [32.938326, -117.197639], [32.938326, -117.197639], [41.999219, -87.886164], [41.999219, -87.886164], [41.999219, -87.886164], [41.999219, -87.886164], [28.286793, -81.350343], [41.885982, -87.6261], [41.885982, -87.6261], [41.885982, -87.6261], [41.885982, -87.6261], [41.885982, -87.6261], [41.885982, -87.6261], [41.885982, -87.6261], [41.885982, -87.6261], [41.885982, -87.6261], [41.885982, -87.6261], [41.885982, -87.6261], [41.885982, -87.6261], [41.885982, -87.6261], [41.885982, -87.6261], [41.885982, -87.6261], [41.885982, -87.6261], [41.885982, -87.6261], [41.885982, -87.6261], [41.885982, -87.6261], [42.363911, -71.0624], [42.363911, -71.0624], [42.363911, -71.0624], [42.363911, -71.0624], [42.363911, -71.0624], [42.363911, -71.0624], [42.363911, -71.0624], [42.363911, -71.0624], [42.363911, -71.0624], [42.363911, -71.0624], [42.363911, -71.0624], [42.363911, -71.0624], [42.363911, -71.0624], [42.363911, -71.0624], [42.363911, -71.0624], [42.363911, -71.0624], [42.363911, -71.0624], [42.363911, -71.0624], [42.363911, -71.0624], [42.363911, -71.0624], [42.363911, -71.0624], [42.363911, -71.0624], [42.363911, -71.0624], [42.363911, -71.0624], [42.363911, -71.0624], [42.363911, -71.0624], [42.363911, -71.0624], [42.363911, -71.0624], [42.363911, -71.0624], [42.363911, -71.0624], [42.363911, -71.0624], [42.363911, -71.0624], [42.363911, -71.0624], [42.363911, -71.0624], [42.363911, -71.0624], [42.363911, -71.0624], [42.363911, -71.0624], [42.363911, -71.0624], [42.363911, -71.0624], [42.363911, -71.0624], [42.363911, -71.0624], [42.363911, -71.0624], [42.363911, -71.0624], [42.363911, -71.0624], [42.363911, -71.0624], [42.363911, -71.0624], [42.363911, -71.0624], [42.363911, -71.0624], [42.363911, -71.0624], [42.363911, -71.0624], [29.947913, -90.06748], [29.947913, -90.06748], [29.947913, -90.06748], [29.947913, -90.06748], [29.947913, -90.06748], [36.17432, -115.14565], [36.1708905, -115.14307], [36.1708905, -115.14307], [36.1708905, -115.14307], [36.1708905, -115.14307], [36.17432, -115.14565], [36.1708905, -115.14307], [36.17432, -115.14565], [36.1708905, -115.14307], [36.1708905, -115.14307], [36.1708905, -115.14307], [36.1708905, -115.14307], [36.17432, -115.14565], [36.17432, -115.14565], [36.1708905, -115.14307], [36.1708905, -115.14307], [36.17432, -115.14565], [36.1708905, -115.14307], [36.17432, -115.14565], [36.1708905, -115.14307], [36.1708905, -115.14307], [36.1708905, -115.14307], [36.1708905, -115.14307], [36.1708905, -115.14307], [36.1708905, -115.14307], [36.1708905, -115.14307], [36.17432, -115.14565], [36.1708905, -115.14307], [36.1708905, -115.14307], [36.17432, -115.14565], [36.1708905, -115.14307], [36.17432, -115.14565], [36.1708905, -115.14307], [36.1708905, -115.14307], [36.1708905, -115.14307], [36.1708905, -115.14307], [36.1708905, -115.14307], [36.1708905, -115.14307], [36.1708905, -115.14307], [36.1708905, -115.14307], [36.1708905, -115.14307], [36.1708905, -115.14307], [36.17432, -115.14565], [36.1708905, -115.14307], [36.17432, -115.14565], [36.17432, -115.14565], [36.17432, -115.14565], [36.1708905, -115.14307], [36.1708905, -115.14307], [36.1708905, -115.14307], [36.1708905, -115.14307], [36.1708905, -115.14307], [36.17432, -115.14565], [36.1708905, -115.14307], [36.17432, -115.14565], [36.1708905, -115.14307], [36.1708905, -115.14307], [36.1708905, -115.14307], [36.1708905, -115.14307], [36.1708905, -115.14307], [36.1708905, -115.14307], [36.17432, -115.14565], [36.1708905, -115.14307], [36.1708905, -115.14307], [36.1708905, -115.14307], [36.1708905, -115.14307], [36.1708905, -115.14307], [36.1708905, -115.14307], [36.1708905, -115.14307], [36.1708905, -115.14307], [36.17432, -115.14565], [36.17432, -115.14565], [36.1708905, -115.14307], [36.17432, -115.14565], [36.17432, -115.14565], [36.17432, -115.14565], [36.1708905, -115.14307], [36.1708905, -115.14307], [36.1708905, -115.14307], [36.1708905, -115.14307], [36.1708905, -115.14307], [36.1708905, -115.14307], [36.1708905, -115.14307], [36.1708905, -115.14307], [36.1708905, -115.14307], [36.1708905, -115.14307], [36.1708905, -115.14307], [36.17432, -115.14565], [36.17432, -115.14565], [36.1708905, -115.14307], [36.1708905, -115.14307], [36.1708905, -115.14307], [36.1708905, -115.14307], [36.17432, -115.14565], [36.1708905, -115.14307], [36.17432, -115.14565], [36.1708905, -115.14307], [36.1708905, -115.14307], [36.1708905, -115.14307], [36.1708905, -115.14307], [36.17432, -115.14565], [36.1708905, -115.14307], [36.1708905, -115.14307], [36.1708905, -115.14307], [36.1708905, -115.14307], [36.1708905, -115.14307], [36.1708905, -115.14307], [36.17432, -115.14565], [36.1708905, -115.14307], [36.17432, -115.14565], [36.1708905, -115.14307], [36.1708905, -115.14307], [36.1708905, -115.14307], [36.1708905, -115.14307], [42.3499894, -71.07857], [42.3499894, -71.07857], [42.3499894, -71.07857], [42.3499894, -71.07857], [42.3499894, -71.07857], [42.3499894, -71.07857], [42.3499894, -71.07857], [42.3499894, -71.07857], [42.3499894, -71.07857], [42.3499894, -71.07857], [42.3499894, -71.07857], [42.3499894, -71.07857], [42.3499894, -71.07857], [42.3499894, -71.07857], [42.3499894, -71.07857], [42.3499894, -71.07857], [42.3499894, -71.07857], [42.3499894, -71.07857], [42.3499894, -71.07857], [42.3499894, -71.07857], [42.3499894, -71.07857], [42.3499894, -71.07857], [42.3499894, -71.07857], [42.3499894, -71.07857], [42.3499894, -71.07857], [42.3499894, -71.07857], [42.3499894, -71.07857], [42.3499894, -71.07857], [42.3499894, -71.07857], [42.3499894, -71.07857], [42.3499894, -71.07857], [42.3499894, -71.07857], [42.3499894, -71.07857], [42.3499894, -71.07857], [42.3499894, -71.07857], [42.3499894, -71.07857], [42.3499894, -71.07857], [42.3499894, -71.07857], [42.3499894, -71.07857], [42.3499894, -71.07857], [42.3499894, -71.07857], [42.3499894, -71.07857], [42.3499894, -71.07857], [42.3499894, -71.07857], [42.3499894, -71.07857], [42.3499894, -71.07857], [42.3499894, -71.07857], [42.3499894, -71.07857], [42.3499894, -71.07857], [42.3499894, -71.07857], [42.3499894, -71.07857], [42.3499894, -71.07857], [42.3499894, -71.07857], [42.3499894, -71.07857], [42.3499894, -71.07857], [42.3499894, -71.07857], [42.3499894, -71.07857], [42.3499894, -71.07857], [42.3499894, -71.07857], [42.3499894, -71.07857], [42.3499894, -71.07857], [42.3499894, -71.07857], [42.3499894, -71.07857], [42.3499894, -71.07857], [42.3499894, -71.07857], [42.3499894, -71.07857], [42.3499894, -71.07857], [42.3499894, -71.07857], [42.3499894, -71.07857], [42.3499894, -71.07857], [42.3499894, -71.07857], [42.3499894, -71.07857], [42.3499894, -71.07857], [42.3499894, -71.07857], [42.3499894, -71.07857], [42.3499894, -71.07857], [42.3499894, -71.07857], [42.3499894, -71.07857], [42.3499894, -71.07857], [42.3499894, -71.07857], [42.3499894, -71.07857], [42.3499894, -71.07857], [42.3499894, -71.07857], [42.3499894, -71.07857], [42.3499894, -71.07857], [42.3499894, -71.07857], [42.3499894, -71.07857], [42.3499894, -71.07857], [42.3499894, -71.07857], [42.3499894, -71.07857], [42.3499894, -71.07857], [42.3499894, -71.07857], [42.3499894, -71.07857], [42.3499894, -71.07857], [42.3499894, -71.07857], [42.3499894, -71.07857], [42.3499894, -71.07857], [42.3499894, -71.07857], [42.3499894, -71.07857], [42.3450899, -71.06181], [25.77828, -80.13189], [25.77828, -80.13189], [25.77828, -80.13189], [25.77828, -80.13189], [25.77828, -80.13189], [25.77828, -80.13189], [25.77828, -80.13189], [40.761483, -73.98547], [21.27278, -157.82226], [21.27278, -157.82226], [21.27278, -157.82226], [21.27278, -157.82226], [21.27278, -157.82226], [21.27278, -157.82226], [21.27278, -157.82226], [21.27278, -157.82226], [21.27278, -157.82226], [21.27278, -157.82226], [21.27278, -157.82226], [21.27278, -157.82226], [21.27278, -157.82226], [21.27278, -157.82226], [21.27278, -157.82226], [21.27278, -157.82226], [21.27278, -157.82226], [21.27278, -157.82226], [40.7124701, -74.00908], [40.7445978, -73.98543], [29.953565, -90.07317], [29.9538338, -90.06527], [25.773148, -80.1326], [25.773148, -80.1326], [25.773148, -80.1326], [25.773148, -80.1326], [25.773148, -80.1326], [25.773148, -80.1326], [25.773148, -80.1326], [25.773148, -80.1326], [25.773148, -80.1326], [25.773148, -80.1326], [25.773148, -80.1326], [25.773148, -80.1326], [25.773148, -80.1326], [25.773148, -80.1326], [25.773148, -80.1326], [25.773148, -80.1326], [25.773148, -80.1326], [25.773148, -80.1326], [25.773148, -80.1326], [25.773148, -80.1326], [25.773148, -80.1326], [25.773148, -80.1326], [25.773148, -80.1326], [25.773148, -80.1326], [25.773148, -80.1326], [25.773148, -80.1326], [25.773148, -80.1326], [25.773148, -80.1326], [25.773148, -80.1326], [25.773148, -80.1326], [25.773148, -80.1326], [25.773148, -80.1326], [25.773148, -80.1326], [25.773148, -80.1326], [25.773148, -80.1326], [25.773148, -80.1326], [25.773148, -80.1326], [25.773148, -80.1326], [25.773148, -80.1326], [25.773148, -80.1326], [25.773148, -80.1326], [25.773148, -80.1326], [25.773148, -80.1326], [25.773148, -80.1326], [25.773148, -80.1326], [25.773148, -80.1326], [25.773148, -80.1326], [25.773148, -80.1326], [25.773148, -80.1326], [25.773148, -80.1326], [25.773148, -80.1326], [25.773148, -80.1326], [25.773148, -80.1326], [25.773148, -80.1326], [25.773148, -80.1326], [25.773148, -80.1326], [25.773148, -80.1326], [25.773148, -80.1326], [25.773148, -80.1326], [25.773148, -80.1326], [25.773148, -80.1326], [25.773148, -80.1326], [25.773148, -80.1326], [25.773148, -80.1326], [25.773148, -80.1326], [36.1151369, -115.16572], [36.1151369, -115.16572], [36.1151369, -115.16572], [36.1151369, -115.16572], [36.1151369, -115.16572], [36.1151369, -115.16572], [36.1151369, -115.16572], [36.1151369, -115.16572], [36.1151369, -115.16572], [36.1151369, -115.16572], [36.1151369, -115.16572], [36.1151369, -115.16572], [36.1151369, -115.16572], [36.1151369, -115.16572], [36.1151369, -115.16572], [36.1151369, -115.16572], [36.1151369, -115.16572], [36.1151369, -115.16572], [36.1151369, -115.16572], [36.1151369, -115.16572], [36.1151369, -115.16572], [36.1151369, -115.16572], [36.1151369, -115.16572], [36.1151369, -115.16572], [36.1151369, -115.16572], [36.1151369, -115.16572], [36.1151369, -115.16572], [36.1151369, -115.16572], [36.1151369, -115.16572], [36.1151369, -115.16572], [36.1151369, -115.16572], [36.1151369, -115.16572], [36.1151369, -115.16572], [36.1151369, -115.16572], [36.1151369, -115.16572], [36.1151369, -115.16572], [36.1151369, -115.16572], [36.1151369, -115.16572], [36.1151369, -115.16572], [36.1151369, -115.16572], [36.1151369, -115.16572], [36.1151369, -115.16572], [36.1151369, -115.16572], [36.1151369, -115.16572], [36.1151369, -115.16572], [36.1151369, -115.16572], [36.1151369, -115.16572], [36.1151369, -115.16572], [36.1151369, -115.16572], [36.1151369, -115.16572], [36.1151369, -115.16572], [36.1151369, -115.16572], [36.1151369, -115.16572], [36.1151369, -115.16572], [36.1151369, -115.16572], [36.1151369, -115.16572], [36.1151369, -115.16572], [36.1151369, -115.16572], [36.1151369, -115.16572], [36.1151369, -115.16572], [36.1151369, -115.16572], [36.1151369, -115.16572], [36.1151369, -115.16572], [36.1151369, -115.16572], [36.1151369, -115.16572], [36.1151369, -115.16572], [36.1151369, -115.16572], [36.1151369, -115.16572], [36.1151369, -115.16572], [36.1151369, -115.16572], [36.1151369, -115.16572], [36.1151369, -115.16572], [36.1151369, -115.16572], [36.1151369, -115.16572], [36.1151369, -115.16572], [36.1151369, -115.16572], [36.1151369, -115.16572], [36.1151369, -115.16572], [36.1151369, -115.16572], [36.1151369, -115.16572], [36.1151369, -115.16572], [36.1151369, -115.16572], [36.1151369, -115.16572], [36.1151369, -115.16572], [36.1151369, -115.16572], [36.1151369, -115.16572], [36.1151369, -115.16572], [36.1151369, -115.16572], [36.1151369, -115.16572], [36.1151369, -115.16572], [36.1151369, -115.16572], [36.1151369, -115.16572], [36.1151369, -115.16572], [36.1151369, -115.16572], [36.1151369, -115.16572], [36.1151369, -115.16572], [36.1151369, -115.16572], [36.1151369, -115.16572], [36.1151369, -115.16572], [36.1151369, -115.16572], [36.1151369, -115.16572], [36.1151369, -115.16572], [36.1151369, -115.16572], [36.1151369, -115.16572], [36.1151369, -115.16572], [36.1151369, -115.16572], [36.1151369, -115.16572], [36.1151369, -115.16572], [36.1151369, -115.16572], [36.1151369, -115.16572], [36.1151369, -115.16572], [36.1151369, -115.16572], [36.1151369, -115.16572], [36.1151369, -115.16572], [36.1151369, -115.16572], [36.1151369, -115.16572], [36.1151369, -115.16572], [36.1151369, -115.16572], [36.1151369, -115.16572], [36.1151369, -115.16572], [36.1151369, -115.16572], [36.1151369, -115.16572], [36.1151369, -115.16572], [36.1151369, -115.16572], [36.1151369, -115.16572], [36.1151369, -115.16572], [36.1151369, -115.16572], [36.1151369, -115.16572], [36.1151369, -115.16572], [36.1151369, -115.16572], [36.1151369, -115.16572], [36.1151369, -115.16572], [36.1151369, -115.16572], [36.1151369, -115.16572], [36.1151369, -115.16572], [36.1151369, -115.16572], [36.1151369, -115.16572], [36.1151369, -115.16572], [36.1151369, -115.16572], [36.1151369, -115.16572], [36.1151369, -115.16572], [36.1151369, -115.16572], [36.1151369, -115.16572], [36.1151369, -115.16572], [36.1151369, -115.16572], [36.1151369, -115.16572], [36.1151369, -115.16572], [36.1151369, -115.16572], [36.1151369, -115.16572], [36.1151369, -115.16572], [36.1151369, -115.16572], [36.1151369, -115.16572], [36.1151369, -115.16572], [36.1151369, -115.16572], [36.1151369, -115.16572], [36.1151369, -115.16572], [36.1151369, -115.16572], [36.1151369, -115.16572], [36.1151369, -115.16572], [36.1151369, -115.16572], [36.1151369, -115.16572], [36.1151369, -115.16572], [36.1151369, -115.16572], [36.1151369, -115.16572], [36.1151369, -115.16572], [36.1151369, -115.16572], [36.1151369, -115.16572], [36.1151369, -115.16572], [36.1151369, -115.16572], [36.1151369, -115.16572], [36.1151369, -115.16572], [40.7213701, -73.99934], [40.7213701, -73.99934], [42.350811, -71.06557], [42.350811, -71.06557], [42.350811, -71.06557], [42.350811, -71.06557], [42.350811, -71.06557], [42.350811, -71.06557], [42.350811, -71.06557], [42.350811, -71.06557], [42.350811, -71.06557], [42.350811, -71.06557], [42.350811, -71.06557], [42.350811, -71.06557], [42.350811, -71.06557], [42.350811, -71.06557], [42.350811, -71.06557], [42.350811, -71.06557], [42.350811, -71.06557], [42.350811, -71.06557], [42.350811, -71.06557], [42.350811, -71.06557], [42.350811, -71.06557], [42.350811, -71.06557], [42.350811, -71.06557], [42.350811, -71.06557], [42.350811, -71.06557], [42.350811, -71.06557], [42.350811, -71.06557], [42.350811, -71.06557], [42.350811, -71.06557], [42.350811, -71.06557], [42.350811, -71.06557], [42.350811, -71.06557], [42.350811, -71.06557], [42.350811, -71.06557], [42.350811, -71.06557], [42.350811, -71.06557], [42.350811, -71.06557], [42.350811, -71.06557], [42.350811, -71.06557], [42.350811, -71.06557], [42.350811, -71.06557], [42.350811, -71.06557], [42.350811, -71.06557], [42.350811, -71.06557], [42.350811, -71.06557], [42.350811, -71.06557], [42.350811, -71.06557], [42.350811, -71.06557], [42.350811, -71.06557], [42.350811, -71.06557], [42.350811, -71.06557], [42.350811, -71.06557], [42.350811, -71.06557], [42.350811, -71.06557], [42.350811, -71.06557], [42.350811, -71.06557], [42.350811, -71.06557], [42.350811, -71.06557], [42.350811, -71.06557], [42.350811, -71.06557], [42.350811, -71.06557], [42.350811, -71.06557], [42.350811, -71.06557], [42.350811, -71.06557], [42.350811, -71.06557], [42.350811, -71.06557], [42.350811, -71.06557], [42.350811, -71.06557], [42.350811, -71.06557], [42.350811, -71.06557], [42.350811, -71.06557], [42.350811, -71.06557], [42.350811, -71.06557], [42.350811, -71.06557], [42.350811, -71.06557], [42.350811, -71.06557], [42.350811, -71.06557], [42.350811, -71.06557], [25.76499, -80.18503], [42.3531032, -71.06333], [40.761408, -73.9743], [40.761408, -73.9743], [40.761408, -73.9743], [40.761408, -73.9743], [40.761408, -73.9743], [40.761408, -73.9743], [40.761408, -73.9743], [40.761408, -73.9743], [40.761408, -73.9743], [40.761408, -73.9743], [40.761408, -73.9743], [40.761408, -73.9743], [40.761408, -73.9743], [40.761408, -73.9743], [40.761408, -73.9743], [40.761408, -73.9743], [40.761408, -73.9743], [40.761408, -73.9743], [40.761408, -73.9743], [40.761408, -73.9743], [40.761408, -73.9743], [40.761408, -73.9743], [40.761408, -73.9743], [40.761408, -73.9743], [40.761408, -73.9743], [40.761408, -73.9743], [40.761408, -73.9743], [40.761408, -73.9743], [40.761408, -73.9743], [40.761408, -73.9743], [40.761408, -73.9743], [40.761408, -73.9743], [40.761408, -73.9743], [40.761408, -73.9743], [40.761408, -73.9743], [40.761408, -73.9743], [40.761408, -73.9743], [40.761408, -73.9743], [40.761408, -73.9743], [40.761408, -73.9743], [40.761408, -73.9743], [40.761408, -73.9743], [40.761408, -73.9743], [40.761408, -73.9743], [40.761408, -73.9743], [40.761408, -73.9743], [40.761408, -73.9743], [40.761408, -73.9743], [40.761408, -73.9743], [40.761408, -73.9743], [40.761408, -73.9743], [34.049671, -118.24019], [34.049671, -118.24019], [34.049671, -118.24019], [34.049671, -118.24019], [34.049671, -118.24019], [34.049671, -118.24019], [34.049671, -118.24019], [34.049671, -118.24019], [34.049671, -118.24019], [34.049671, -118.24019], [34.049671, -118.24019], [34.049671, -118.24019], [34.049671, -118.24019], [34.049671, -118.24019], [34.049671, -118.24019], [34.049671, -118.24019], [34.049671, -118.24019], [34.049671, -118.24019], [34.049671, -118.24019], [34.049671, -118.24019], [41.8935352, -87.62563], [41.8935352, -87.62563], [41.8935352, -87.62563], [41.8935352, -87.62563], [41.8935352, -87.62563], [41.8935352, -87.62563], [41.8935352, -87.62563], [41.88757, -87.65201], [41.8935352, -87.62563], [41.8935352, -87.62563], [41.8935352, -87.62563], [41.88757, -87.65201], [41.88757, -87.65201], [41.88757, -87.65201], [41.8935352, -87.62563], [41.89424, -87.62837], [41.89424, -87.62837], [41.889408, -87.628939], [41.889408, -87.628939], [41.889408, -87.628939], [41.89424, -87.62837], [41.889408, -87.628939], [41.89424, -87.62837], [41.889408, -87.628939], [41.889408, -87.628939], [41.889408, -87.628939], [41.89424, -87.62837], [41.89424, -87.62837], [41.89424, -87.62837], [41.889408, -87.628939], [41.889408, -87.628939], [41.889408, -87.628939], [41.889408, -87.628939], [41.889408, -87.628939], [41.89424, -87.62837], [41.89424, -87.62837], [41.889408, -87.628939], [41.889408, -87.628939], [41.889408, -87.628939], [41.889408, -87.628939], [41.889408, -87.628939], [41.889408, -87.628939], [41.889408, -87.628939], [41.889408, -87.628939], [41.889408, -87.628939], [41.89424, -87.62837], [41.889408, -87.628939], [41.889408, -87.628939], [41.889408, -87.628939], [41.89424, -87.62837], [41.889408, -87.628939], [41.89424, -87.62837], [41.89424, -87.62837], [41.889408, -87.628939], [41.89424, -87.62837], [41.89424, -87.62837], [41.889408, -87.628939], [41.889408, -87.628939], [41.89424, -87.62837], [41.889408, -87.628939], [41.889408, -87.628939], [41.889408, -87.628939], [41.889408, -87.628939], [41.889408, -87.628939], [41.89424, -87.62837], [41.889408, -87.628939], [41.89424, -87.62837], [41.889408, -87.628939], [41.889408, -87.628939], [41.889408, -87.628939], [41.889408, -87.628939], [41.889408, -87.628939], [41.889408, -87.628939], [41.889408, -87.628939], [41.89424, -87.62837], [41.89424, -87.62837], [41.889408, -87.628939], [41.889408, -87.628939], [41.89424, -87.62837], [41.889408, -87.628939], [41.889408, -87.628939], [41.889408, -87.628939], [41.889408, -87.628939], [41.889408, -87.628939], [41.889408, -87.628939], [41.889408, -87.628939], [41.89424, -87.62837], [41.89424, -87.62837], [41.89424, -87.62837], [41.889408, -87.628939], [41.889408, -87.628939], [41.889408, -87.628939], [41.889408, -87.628939], [41.889408, -87.628939], [41.89424, -87.62837], [41.889408, -87.628939], [41.889408, -87.628939], [41.89424, -87.62837], [41.889408, -87.628939], [41.889408, -87.628939], [41.889408, -87.628939], [41.889408, -87.628939], [41.889408, -87.628939], [41.889408, -87.628939], [41.889408, -87.628939], [41.889408, -87.628939], [41.889408, -87.628939], [41.889408, -87.628939], [41.89424, -87.62837], [41.889408, -87.628939], [41.889408, -87.628939], [41.889408, -87.628939], [41.89424, -87.62837], [41.889408, -87.628939], [41.889408, -87.628939], [41.889408, -87.628939], [41.889408, -87.628939], [41.89424, -87.62837], [41.889408, -87.628939], [41.889408, -87.628939], [41.889408, -87.628939], [41.89424, -87.62837], [41.889408, -87.628939], [41.889408, -87.628939], [41.889408, -87.628939], [41.889408, -87.628939], [41.889408, -87.628939], [41.889408, -87.628939], [41.889408, -87.628939], [41.889408, -87.628939], [41.889408, -87.628939], [41.889408, -87.628939], [41.889408, -87.628939], [41.889408, -87.628939], [41.89424, -87.62837], [41.889408, -87.628939], [41.889408, -87.628939], [41.889408, -87.628939], [41.89424, -87.62837], [41.89424, -87.62837], [41.89424, -87.62837], [41.889408, -87.628939], [41.89424, -87.62837], [41.889408, -87.628939], [41.889408, -87.628939], [41.89424, -87.62837], [41.889408, -87.628939], [41.889408, -87.628939], [41.89424, -87.62837], [41.889408, -87.628939], [41.889408, -87.628939], [41.889408, -87.628939], [41.889408, -87.628939], [41.889408, -87.628939], [41.89424, -87.62837], [41.889408, -87.628939], [41.889408, -87.628939], [41.889408, -87.628939], [41.889408, -87.628939], [41.889408, -87.628939], [41.889408, -87.628939], [41.889408, -87.628939], [41.889408, -87.628939], [41.889408, -87.628939], [41.889408, -87.628939], [41.89424, -87.62837], [41.89424, -87.62837], [41.89424, -87.62837], [41.889408, -87.628939], [41.889408, -87.628939], [41.89424, -87.62837], [41.89424, -87.62837], [41.889408, -87.628939], [41.889408, -87.628939], [41.889408, -87.628939], [41.889408, -87.628939], [41.889408, -87.628939], [41.889408, -87.628939], [41.889408, -87.628939], [41.89424, -87.62837], [41.889408, -87.628939], [41.889408, -87.628939], [41.889408, -87.628939], [41.889408, -87.628939], [41.889408, -87.628939], [41.889408, -87.628939], [41.889408, -87.628939], [41.89424, -87.62837], [41.8917552, -87.63284], [41.89424, -87.62837], [41.889408, -87.628939], [41.889408, -87.628939], [41.889408, -87.628939], [41.889408, -87.628939], [41.889408, -87.628939], [41.889408, -87.628939], [41.889408, -87.628939], [41.889408, -87.628939], [41.889408, -87.628939], [41.889408, -87.628939], [34.06773, -118.39892], [34.06773, -118.39892], [34.06773, -118.39892], [34.06773, -118.39892], [34.06773, -118.39892], [34.06773, -118.39892], [34.06773, -118.39892], [34.06773, -118.39892], [34.06773, -118.39892], [34.06773, -118.39892], [34.06773, -118.39892], [37.783529, -122.40686], [37.783529, -122.40686], [37.783529, -122.40686], [37.783529, -122.40686], [37.783529, -122.40686], [37.783529, -122.40686], [37.783529, -122.40686], [37.783529, -122.40686], [37.783529, -122.40686], [37.783529, -122.40686], [37.783529, -122.40686], [37.783529, -122.40686], [37.783529, -122.40686], [37.783529, -122.40686], [37.783529, -122.40686], [37.783529, -122.40686], [37.783529, -122.40686], [37.783529, -122.40686], [37.783529, -122.40686], [37.783529, -122.40686], [37.783529, -122.40686], [37.783529, -122.40686], [37.783529, -122.40686], [37.783529, -122.40686], [37.783529, -122.40686], [37.783529, -122.40686], [37.783529, -122.40686], [37.783529, -122.40686], [37.783529, -122.40686], [37.783529, -122.40686], [37.783529, -122.40686], [37.783529, -122.40686], [37.783529, -122.40686], [37.783529, -122.40686], [37.783529, -122.40686], [37.783529, -122.40686], [37.783529, -122.40686], [37.783529, -122.40686], [37.783529, -122.40686], [37.783529, -122.40686], [37.783529, -122.40686], [37.783529, -122.40686], [37.783529, -122.40686], [37.783529, -122.40686], [37.783529, -122.40686], [37.783529, -122.40686], [37.783529, -122.40686], [37.783529, -122.40686], [37.783529, -122.40686], [37.783529, -122.40686], [37.783529, -122.40686], [37.783529, -122.40686], [37.783529, -122.40686], [37.783529, -122.40686], [37.783529, -122.40686], [37.783529, -122.40686], [37.783529, -122.40686], [37.783529, -122.40686], [37.783529, -122.40686], [37.783529, -122.40686], [37.783529, -122.40686], [37.783529, -122.40686], [37.783529, -122.40686], [32.683517, -117.176483], [39.953892, -75.160093], [39.953892, -75.160093], [39.953892, -75.160093], [39.953892, -75.160093], [39.953892, -75.160093], [39.953892, -75.160093], [39.953892, -75.160093], [39.953892, -75.160093], [39.953892, -75.160093], [39.953892, -75.160093], [39.953892, -75.160093], [39.953892, -75.160093], [39.953892, -75.160093], [39.953892, -75.160093], [39.953892, -75.160093], [39.953892, -75.160093], [39.953892, -75.160093], [39.953892, -75.160093], [40.744092, -73.995989], [40.744092, -73.995989], [41.879294, -87.631016], [41.879294, -87.631016], [41.879294, -87.631016], [41.879294, -87.631016], [41.879294, -87.631016], [41.879294, -87.631016], [41.879294, -87.631016], [41.879294, -87.631016], [41.879294, -87.631016], [41.879294, -87.631016], [41.879294, -87.631016], [41.879294, -87.631016], [41.879294, -87.631016], [41.879294, -87.631016], [41.879294, -87.631016], [41.879294, -87.631016], [41.879294, -87.631016], [41.879294, -87.631016], [41.879294, -87.631016], [41.879294, -87.631016], [36.13234, -115.16201], [36.13234, -115.16201], [36.16118, -115.12369], [36.13499, -115.15548], [37.7895, -122.4092], [37.7895, -122.4092], [38.2809, -122.27375], [38.2809, -122.27375], [38.2809, -122.27375], [38.2809, -122.27375], [38.2809, -122.27375], [38.2809, -122.27375], [38.2809, -122.27375], [38.2809, -122.27375], [38.2809, -122.27375], [38.2809, -122.27375], [38.2809, -122.27375], [38.2809, -122.27375], [38.2809, -122.27375], [38.2809, -122.27375], [38.2809, -122.27375], [38.2809, -122.27375], [38.2809, -122.27375], [38.2809, -122.27375], [38.2809, -122.27375], [38.2809, -122.27375], [38.2809, -122.27375], [38.2809, -122.27375], [38.2809, -122.27375], [38.2809, -122.27375], [38.2809, -122.27375], [38.2809, -122.27375], [38.2809, -122.27375], [38.2809, -122.27375], [38.2809, -122.27375], [38.2809, -122.27375], [38.2809, -122.27375], [38.2809, -122.27375], [38.2809, -122.27375], [38.2809, -122.27375], [38.2809, -122.27375], [38.2809, -122.27375], [38.2809, -122.27375], [38.2809, -122.27375], [38.2809, -122.27375], [38.2809, -122.27375], [38.2809, -122.27375], [38.2809, -122.27375], [38.2809, -122.27375], [38.2809, -122.27375], [38.2809, -122.27375], [38.2809, -122.27375], [38.2809, -122.27375], [38.2809, -122.27375], [38.2809, -122.27375], [38.2809, -122.27375], [38.2809, -122.27375], [38.2809, -122.27375], [38.2809, -122.27375], [38.2809, -122.27375], [38.2809, -122.27375], [38.2809, -122.27375], [38.2809, -122.27375], [38.2809, -122.27375], [38.2809, -122.27375], [38.2809, -122.27375], [38.2809, -122.27375], [38.2809, -122.27375], [38.2809, -122.27375], [38.2809, -122.27375], [38.2809, -122.27375], [38.2809, -122.27375], [38.2809, -122.27375], [38.2809, -122.27375], [38.2809, -122.27375], [38.2809, -122.27375], [38.2809, -122.27375], [38.2809, -122.27375], [38.2809, -122.27375], [38.2809, -122.27375], [29.952728, -90.07257], [29.952728, -90.07257], [29.952728, -90.07257], [29.952728, -90.07257], [29.952728, -90.07257], [29.952728, -90.07257], [29.952728, -90.07257], [29.952728, -90.07257], [29.952728, -90.07257], [29.952728, -90.07257], [29.952728, -90.07257], [29.952728, -90.07257], [29.952728, -90.07257], [29.952728, -90.07257], [29.952728, -90.07257], [29.952728, -90.07257], [29.952728, -90.07257], [29.952728, -90.07257], [29.952728, -90.07257], [29.952728, -90.07257], [29.952728, -90.07257], [29.952728, -90.07257], [29.952728, -90.07257], [29.952728, -90.07257], [29.952728, -90.07257], [29.952728, -90.07257], [29.952728, -90.07257], [29.952728, -90.07257], [29.952728, -90.07257], [29.952728, -90.07257], [29.952728, -90.07257], [29.952728, -90.07257], [29.952728, -90.07257], [29.952728, -90.07257], [29.952728, -90.07257], [29.952728, -90.07257], [29.952728, -90.07257], [29.952728, -90.07257], [29.952728, -90.07257], [38.28311, -122.2812895], [38.28311, -122.2812895], [38.28311, -122.2812895], [38.28311, -122.2812895], [38.28311, -122.2812895], [38.28311, -122.2812895], [38.28311, -122.2812895], [38.28311, -122.2812895], [38.28311, -122.2812895], [38.28311, -122.2812895], [38.28311, -122.2812895], [38.28311, -122.2812895], [38.28311, -122.2812895], [38.28311, -122.2812895], [38.28311, -122.2812895], [38.28311, -122.2812895], [38.28311, -122.2812895], [38.28311, -122.2812895], [38.28311, -122.2812895], [38.28311, -122.2812895], [38.28311, -122.2812895], [38.28311, -122.2812895], [38.28311, -122.2812895], [38.28311, -122.2812895], [38.28311, -122.2812895], [32.76907, -96.89504], [32.76907, -96.89504], [32.76907, -96.89504], [32.76907, -96.89504], [24.56863, -81.75256], [24.56863, -81.75256], [24.56863, -81.75256], [24.56863, -81.75256], [24.56863, -81.75256], [24.56863, -81.75256], [24.56863, -81.75256], [24.56863, -81.75256], [24.56863, -81.75256], [24.56863, -81.75256], [24.56863, -81.75256], [24.56863, -81.75256], [24.56863, -81.75256], [24.56863, -81.75256], [24.56863, -81.75256], [24.56863, -81.75256], [24.56863, -81.75256], [24.56863, -81.75256], [24.56863, -81.75256], [24.56863, -81.75256], [41.945041, -87.649413], [41.945041, -87.649413], [41.945041, -87.649413], [47.61878, -122.30823], [41.76036, -87.7415], [41.98916, -87.7059], [41.89233, -87.62727], [33.46376, -112.15198], [33.5944, -112.1199], [33.5944, -112.1199], [33.5944, -112.1199], [33.5944, -112.1199], [33.5944, -112.1199], [33.5944, -112.1199], [33.5944, -112.1199], [33.5944, -112.1199], [33.5944, -112.1199], [33.5944, -112.1199], [33.5944, -112.1199], [33.5944, -112.1199], [33.5944, -112.1199], [33.5944, -112.1199], [33.5944, -112.1199], [33.5944, -112.1199], [33.5944, -112.1199], [33.5944, -112.1199], [33.5944, -112.1199], [33.5944, -112.1199], [33.5944, -112.1199], [33.5944, -112.1199], [33.5944, -112.1199], [33.5944, -112.1199], [33.5944, -112.1199], [33.5944, -112.1199], [33.5944, -112.1199], [33.5944, -112.1199], [33.5944, -112.1199], [33.5944, -112.1199], [33.5944, -112.1199], [33.5944, -112.1199], [33.46131, -112.17149], [33.46131, -112.17149], [33.46131, -112.17149], [33.642735, -112.116394], [33.642735, -112.116394], [33.642735, -112.116394], [33.510227, -112.08061], [33.510227, -112.08061], [33.510227, -112.08061], [33.510227, -112.08061], [33.510227, -112.08061], [33.510227, -112.08061], [33.510227, -112.08061], [33.510227, -112.08061], [40.7206, -73.9953], [33.76201, -84.39575], [33.76201, -84.39575], [33.76201, -84.39575], [33.76201, -84.39575], [33.76201, -84.39575], [33.76201, -84.39575], [33.76201, -84.39575], [33.76201, -84.39575], [33.76201, -84.39575], [33.76201, -84.39575], [33.76201, -84.39575], [33.76201, -84.39575], [33.76201, -84.39575], [33.76201, -84.39575], [33.76201, -84.39575], [33.76201, -84.39575], [33.76201, -84.39575], [33.76201, -84.39575], [33.76201, -84.39575], [33.76201, -84.39575], [33.76201, -84.39575], [33.76201, -84.39575], [33.76201, -84.39575], [33.76201, -84.39575], [33.76201, -84.39575], [33.76201, -84.39575], [33.76201, -84.39575], [33.76201, -84.39575], [33.76201, -84.39575], [33.76201, -84.39575], [33.76201, -84.39575], [33.76201, -84.39575], [33.76201, -84.39575], [33.76201, -84.39575], [33.76201, -84.39575], [33.76201, -84.39575], [33.76201, -84.39575], [33.76201, -84.39575], [40.7112335, -74.006745], [33.83985, -84.38262], [33.83985, -84.38262], [33.83985, -84.38262], [33.83985, -84.38262], [33.83985, -84.38262], [33.83985, -84.38262], [33.83985, -84.38262], [33.91893, -84.35344], [33.771, -84.5158], [40.78858, -73.97481], [33.918404, -84.3589], [33.918404, -84.3589], [33.918404, -84.3589], [33.918404, -84.3589], [33.918404, -84.3589], [33.918404, -84.3589], [33.918404, -84.3589], [33.84947, -84.31455], [33.84947, -84.31455], [33.84947, -84.31455], [40.74455837, -73.98478813], [40.74455837, -73.98478813], [47.629745, -122.32902], [47.629745, -122.32902], [47.626358, -122.333984], [47.6148, -122.3491], [47.6148, -122.3491], [47.6148, -122.3491], [33.465954, -112.166363], [33.465954, -112.166363], [33.465954, -112.166363], [33.465954, -112.166363], [33.465954, -112.166363], [33.465954, -112.166363], [33.465954, -112.166363], [33.465954, -112.166363], [33.465954, -112.166363], [33.465954, -112.166363], [33.465954, -112.166363], [33.465954, -112.166363], [33.465954, -112.166363], [33.465954, -112.166363], [33.465954, -112.166363], [33.465954, -112.166363], [33.465954, -112.166363], [33.465954, -112.166363], [33.465954, -112.166363], [33.465954, -112.166363], [33.465954, -112.166363], [33.465954, -112.166363], [33.465954, -112.166363], [33.465954, -112.166363], [33.465954, -112.166363], [33.465954, -112.166363], [33.465954, -112.166363], [33.71098, -112.10363], [33.71008, -112.10357], [40.774347, -73.963113], [40.75682, -73.97196], [41.88843999, -87.62992635], [41.88843999, -87.62992635], [41.88843999, -87.62992635], [41.88843999, -87.62992635], [41.88843999, -87.62992635], [41.88843999, -87.62992635], [41.88843999, -87.62992635], [41.88843999, -87.62992635], [41.88843999, -87.62992635], [41.88843999, -87.62992635], [41.88843999, -87.62992635], [41.88843999, -87.62992635], [41.88843999, -87.62992635], [41.88843999, -87.62992635], [33.46, -112.0739], [33.46, -112.0739], [33.46, -112.0739], [33.46, -112.0739], [33.46, -112.0739], [33.46, -112.0739], [33.46, -112.0739], [33.46, -112.0739], [33.46, -112.0739], [33.46, -112.0739], [33.46, -112.0739], [33.46, -112.0739], [33.46, -112.0739], [33.46, -112.0739], [33.46, -112.0739], [33.46, -112.0739], [33.46, -112.0739], [33.46, -112.0739], [33.46, -112.0739], [33.46, -112.0739], [33.46, -112.0739], [33.804844, -117.888954], [33.804844, -117.888954], [33.804844, -117.888954], [33.804844, -117.888954], [33.804844, -117.888954], [33.804844, -117.888954], [33.804844, -117.888954], [33.804844, -117.888954], [33.804844, -117.888954], [33.804844, -117.888954], [33.804844, -117.888954], [33.804844, -117.888954], [33.804844, -117.888954], [33.804844, -117.888954], [33.804844, -117.888954], [33.804844, -117.888954], [33.804844, -117.888954], [33.804844, -117.888954], [33.804844, -117.888954], [33.804844, -117.888954], [33.804844, -117.888954], [33.804844, -117.888954], [33.804844, -117.888954], [33.804844, -117.888954], [33.804844, -117.888954], [33.804844, -117.888954], [33.804844, -117.888954], [33.804844, -117.888954], [33.804844, -117.888954], [33.804844, -117.888954], [33.804844, -117.888954], [33.804844, -117.888954], [33.804844, -117.888954], [33.804844, -117.888954], [33.804844, -117.888954], [33.804844, -117.888954], [33.804844, -117.888954], [33.804844, -117.888954], [29.96348, -90.0374], [29.96762, -90.06539], [30.00616, -90.03204], [29.948412, -90.07202], [29.948412, -90.07202], [29.948412, -90.07202], [42.3583231, -71.0619297], [42.363056, -71.055115], [42.363056, -71.055115], [42.356958, -71.0696757], [42.3704, -71.0316], [42.35273, -71.07334], [42.35273, -71.07334], [42.35273, -71.07334], [42.35273, -71.07334], [42.35273, -71.07334], [42.35273, -71.07334], [42.35273, -71.07334], [29.9543, -90.0722], [29.9543, -90.0722], [29.959764, -90.06318], [29.959764, -90.06318], [29.959764, -90.06318], [29.959764, -90.06318], [29.959764, -90.06318], [29.959764, -90.06318], [29.959764, -90.06318], [29.959764, -90.06318], [29.959764, -90.06318], [29.959764, -90.06318], [29.959764, -90.06318], [29.959764, -90.06318], [29.964303, -90.065584], [29.964303, -90.065584], [29.964303, -90.065584], [29.964303, -90.065584], [29.964303, -90.065584], [29.964303, -90.065584], [29.964303, -90.065584], [29.961279, -90.06055], [29.961279, -90.06055], [29.935118, -90.07953], [29.935118, -90.07953], [29.935118, -90.07953], [29.935118, -90.07953], [29.935118, -90.07953], [39.35245, -74.44787], [39.352068, -74.447882], [39.352068, -74.447882], [39.352068, -74.447882], [39.352068, -74.447882], [39.352068, -74.447882], [39.352068, -74.447882], [39.352068, -74.447882], [39.352068, -74.447882], [39.352068, -74.447882], [39.352068, -74.447882], [39.352068, -74.447882], [39.352068, -74.447882], [39.352068, -74.447882], [39.352068, -74.447882], [39.352068, -74.447882], [39.352068, -74.447882], [33.802116, -117.923615], [33.802116, -117.923615], [33.802116, -117.923615], [33.802116, -117.923615], [33.802116, -117.923615], [33.802116, -117.923615], [33.802116, -117.923615], [33.802116, -117.923615], [33.802116, -117.923615], [33.818059, -117.923649], [33.818059, -117.923649], [33.818059, -117.923649], [33.818059, -117.923649], [33.818059, -117.923649], [33.818059, -117.923649], [33.818059, -117.923649], [33.818059, -117.923649], [33.818059, -117.923649], [33.80886, -117.91406], [33.80886, -117.91406], [33.80886, -117.91406], [33.80886, -117.91406], [33.80886, -117.91406], [33.800358, -117.90158], [33.800358, -117.90158], [33.800358, -117.90158], [33.800358, -117.90158], [33.800358, -117.90158], [33.800358, -117.90158], [33.82613, -117.99274], [33.82277, -117.91631], [39.35999, -74.42784], [39.35999, -74.42784], [39.35999, -74.42784], [39.35999, -74.42784], [39.35999, -74.42784], [39.35999, -74.42784], [39.35999, -74.42784], [39.35999, -74.42784], [39.35999, -74.42784], [39.35999, -74.42784], [39.35999, -74.42784], [39.35999, -74.42784], [39.35999, -74.42784], [39.35999, -74.42784], [39.35999, -74.42784], [39.35999, -74.42784], [39.35999, -74.42784], [39.35999, -74.42784], [39.35999, -74.42784], [32.760746, -117.165945], [32.760746, -117.165945], [32.760746, -117.165945], [32.760746, -117.165945], [32.760746, -117.165945], [32.760746, -117.165945], [32.760746, -117.165945], [32.760746, -117.165945], [32.760746, -117.165945], [32.760746, -117.165945], [32.760746, -117.165945], [32.760746, -117.165945], [32.760746, -117.165945], [32.760746, -117.165945], [32.760746, -117.165945], [32.760746, -117.165945], [32.760746, -117.165945], [32.760746, -117.165945], [32.760746, -117.165945], [39.9563, -75.169], [32.781576, -117.083121], [32.781576, -117.083121], [32.781576, -117.083121], [32.781576, -117.083121], [32.803367, -117.217316], [32.803367, -117.217316], [32.847256, -117.27551], [32.847256, -117.27551], [32.847256, -117.27551], [32.847256, -117.27551], [32.834587, -117.143821], [32.937504, -117.109055], [32.937504, -117.109055], [39.8867, -75.24774], [39.8867, -75.24774], [39.8867, -75.24774], [39.8867, -75.24774], [39.8867, -75.24774], [28.43141, -81.30562], [38.3241, -122.313], [29.952141, -90.073082], [29.952141, -90.073082], [29.952141, -90.073082], [29.952141, -90.073082], [29.952141, -90.073082], [29.952141, -90.073082], [29.952141, -90.073082], [29.952141, -90.073082], [29.952141, -90.073082], [29.952141, -90.073082], [29.952141, -90.073082], [29.952141, -90.073082], [29.95325, -90.07435], [29.95325, -90.07435], [29.95325, -90.07435], [29.95325, -90.07435], [29.95325, -90.07435], [29.95325, -90.07435], [29.95325, -90.07435], [29.95325, -90.07435], [29.95325, -90.07435], [29.95325, -90.07435], [29.95325, -90.07435], [29.95325, -90.07435], [29.95325, -90.07435], [29.95325, -90.07435], [29.95325, -90.07435], [29.95325, -90.07435], [29.95325, -90.07435], [29.95325, -90.07435], [29.95325, -90.07435], [29.95325, -90.07435], [29.95325, -90.07435], [29.95325, -90.07435], [29.95325, -90.07435], [29.95325, -90.07435], [29.95325, -90.07435], [29.95325, -90.07435], [29.95325, -90.07435], [29.95325, -90.07435], [29.95325, -90.07435], [29.95325, -90.07435], [29.95325, -90.07435], [29.95325, -90.07435], [29.95325, -90.07435], [29.95325, -90.07435], [29.95325, -90.07435], [29.95325, -90.07435], [29.95325, -90.07435], [29.95325, -90.07435], [29.95325, -90.07435], [47.627487, -122.34056], [47.627487, -122.34056], [47.627487, -122.34056], [47.627487, -122.34056], [47.627487, -122.34056], [47.627487, -122.34056], [47.627487, -122.34056], [47.627487, -122.34056], [47.627487, -122.34056], [47.627487, -122.34056], [47.627487, -122.34056], [47.627487, -122.34056], [47.627487, -122.34056], [47.627487, -122.34056], [47.627487, -122.34056], [47.627487, -122.34056], [47.627487, -122.34056], [47.627487, -122.34056], [47.627487, -122.34056], [47.627487, -122.34056], [47.627487, -122.34056], [47.627487, -122.34056], [47.62013, -122.34797], [47.62013, -122.34797], [47.62013, -122.34797], [47.62013, -122.34797], [47.62013, -122.34797], [47.62013, -122.34797], [47.62013, -122.34797], [47.62013, -122.34797], [47.62013, -122.34797], [47.62013, -122.34797], [47.62013, -122.34797], [47.62013, -122.34797], [47.62013, -122.34797], [47.62013, -122.34797], [47.62013, -122.34797], [47.62013, -122.34797], [47.62013, -122.34797], [47.62013, -122.34797], [47.62013, -122.34797], [47.62013, -122.34797], [47.62013, -122.34797], [47.62013, -122.34797], [47.62013, -122.34797], [47.62013, -122.34797], [47.62013, -122.34797], [47.62013, -122.34797], [47.62013, -122.34797], [47.62013, -122.34797], [47.62013, -122.34797], [47.62013, -122.34797], [47.62013, -122.34797], [47.62013, -122.34797], [47.62013, -122.34797], [47.62013, -122.34797], [47.62013, -122.34797], [47.62013, -122.34797], [47.62013, -122.34797], [47.62013, -122.34797], [47.62013, -122.34797], [47.62013, -122.34797], [47.62013, -122.34797], [47.62013, -122.34797], [47.62013, -122.34797], [47.62013, -122.34797], [47.62013, -122.34797], [47.62013, -122.34797], [47.62013, -122.34797], [47.62013, -122.34797], [47.62013, -122.34797], [47.62013, -122.34797], [39.95465, -75.16277], [39.95465, -75.16277], [39.95465, -75.16277], [39.95465, -75.16277], [39.95465, -75.16277], [39.95465, -75.16277], [39.95465, -75.16277], [39.95465, -75.16277], [39.95465, -75.16277], [39.95465, -75.16277], [39.95465, -75.16277], [39.95465, -75.16277], [39.95465, -75.16277], [39.95465, -75.16277], [39.95465, -75.16277], [39.95465, -75.16277], [24.5568, -81.80429], [24.5568, -81.80429], [24.5568, -81.80429], [24.5568, -81.80429], [24.5568, -81.80429], [24.5568, -81.80429], [24.5568, -81.80429], [24.5568, -81.80429], [24.5568, -81.80429], [24.5568, -81.80429], [24.5568, -81.80429], [24.5568, -81.80429], [24.5568, -81.80429], [24.5568, -81.80429], [24.5568, -81.80429], [24.5568, -81.80429], [24.5568, -81.80429], [24.5568, -81.80429], [24.5568, -81.80429], [24.5568, -81.80429], [24.5568, -81.80429], [24.5568, -81.80429], [24.5568, -81.80429], [24.5568, -81.80429], [24.5568, -81.80429], [36.16883, -115.29116], [36.16883, -115.29116], [36.16883, -115.29116], [36.16883, -115.29116], [36.16883, -115.29116], [36.16883, -115.29116], [36.16883, -115.29116], [36.16883, -115.29116], [36.16883, -115.29116], [36.16883, -115.29116], [36.16883, -115.29116], [36.16883, -115.29116], [36.16883, -115.29116], [36.16883, -115.29116], [36.16883, -115.29116], [36.16883, -115.29116], [36.16883, -115.29116], [36.16883, -115.29116], [36.16883, -115.29116], [36.16883, -115.29116], [36.16883, -115.29116], [36.16883, -115.29116], [36.16883, -115.29116], [36.16883, -115.29116], [36.16883, -115.29116], [36.16883, -115.29116], [36.16883, -115.29116], [36.16883, -115.29116], [36.16883, -115.29116], [36.16883, -115.29116], [36.16883, -115.29116], [36.16883, -115.29116], [36.16883, -115.29116], [36.16883, -115.29116], [36.16883, -115.29116], [36.16883, -115.29116], [36.16883, -115.29116], [36.16883, -115.29116], [36.16883, -115.29116], [36.16883, -115.29116], [36.16883, -115.29116], [36.16883, -115.29116], [36.16883, -115.29116], [36.16883, -115.29116], [36.16883, -115.29116], [36.16883, -115.29116], [36.16883, -115.29116], [36.16883, -115.29116], [36.16883, -115.29116], [36.16883, -115.29116], [36.16883, -115.29116], [36.16883, -115.29116], [36.16883, -115.29116], [36.16883, -115.29116], [36.16883, -115.29116], [36.16883, -115.29116], [36.16883, -115.29116], [36.16883, -115.29116], [39.35143, -74.44898], [39.35143, -74.44898], [39.35143, -74.44898], [39.35143, -74.44898], [39.35143, -74.44898], [39.3605, -74.42425], [39.3605, -74.42425], [41.88762, -87.62544], [41.88762, -87.62544], [41.88762, -87.62544], [41.88762, -87.62544], [41.88762, -87.62544], [41.88762, -87.62544], [41.88762, -87.62544], [41.88762, -87.62544], [41.88762, -87.62544], [41.88762, -87.62544], [41.88762, -87.62544], [41.88762, -87.62544], [41.88762, -87.62544], [41.88762, -87.62544], [41.88762, -87.62544], [41.88762, -87.62544], [41.88762, -87.62544], [41.88762, -87.62544], [41.88762, -87.62544], [41.88762, -87.62544], [41.88762, -87.62544], [41.88762, -87.62544], [41.88762, -87.62544], [41.88762, -87.62544], [41.88762, -87.62544], [41.88762, -87.62544], [41.88762, -87.62544], [41.88762, -87.62544], [41.88762, -87.62544], [41.88762, -87.62544], [41.88762, -87.62544], [41.88762, -87.62544], [41.88762, -87.62544], [41.88762, -87.62544], [41.88762, -87.62544], [41.88762, -87.62544], [41.88762, -87.62544], [41.88762, -87.62544], [41.88762, -87.62544], [41.88762, -87.62544], [41.88762, -87.62544], [41.88762, -87.62544], [41.88762, -87.62544], [41.88762, -87.62544], [41.88762, -87.62544], [41.88762, -87.62544], [41.88762, -87.62544], [41.88762, -87.62544], [41.88762, -87.62544], [41.88762, -87.62544], [41.88762, -87.62544], [41.88762, -87.62544], [41.88762, -87.62544], [41.88762, -87.62544], [41.88762, -87.62544], [41.88762, -87.62544], [37.788994, -122.41281], [37.788994, -122.41281], [37.788994, -122.41281], [37.788994, -122.41281], [37.788994, -122.41281], [37.788994, -122.41281], [37.788994, -122.41281], [37.788994, -122.41281], [37.788994, -122.41281], [37.788994, -122.41281], [33.763016, -84.383865], [33.763016, -84.383865], [33.763016, -84.383865], [33.763016, -84.383865], [33.763016, -84.383865], [33.763016, -84.383865], [33.763016, -84.383865], [33.763016, -84.383865], [33.763016, -84.383865], [33.763016, -84.383865], [33.763016, -84.383865], [33.6592, -84.4339], [33.6592, -84.4339], [33.6592, -84.4339], [33.6592, -84.4339], [33.6592, -84.4339], [33.6592, -84.4339], [33.6592, -84.4339], [33.6592, -84.4339], [33.6592, -84.4339], [33.6592, -84.4339], [33.6592, -84.4339], [33.6592, -84.4339], [33.6592, -84.4339], [33.6592, -84.4339], [33.6592, -84.4339], [33.6592, -84.4339], [33.6592, -84.4339], [33.6592, -84.4339], [33.6592, -84.4339], [33.6592, -84.4339], [33.6592, -84.4339], [33.6592, -84.4339], [33.6592, -84.4339], [33.6592, -84.4339], [33.6592, -84.4339], [33.6592, -84.4339], [33.6592, -84.4339], [33.6592, -84.4339], [33.6592, -84.4339], [37.786957, -122.413384], [43.189562, -71.525797], [41.759111, -87.741423], [41.759111, -87.741423], [41.759111, -87.741423], [41.759111, -87.741423], [41.759111, -87.741423], [41.759111, -87.741423], [41.759111, -87.741423], [41.759111, -87.741423], [41.759111, -87.741423], [41.759111, -87.741423], [41.759111, -87.741423], [41.759111, -87.741423], [41.759111, -87.741423], [41.759111, -87.741423], [41.759111, -87.741423], [41.759111, -87.741423], [41.759111, -87.741423], [41.759111, -87.741423], [41.759111, -87.741423], [41.759111, -87.741423], [41.759111, -87.741423], [41.759111, -87.741423], [25.77323, -80.13436], [25.77323, -80.13436], [25.77323, -80.13436], [25.77323, -80.13436], [25.77323, -80.13436], [25.77323, -80.13436], [25.77323, -80.13436], [25.77323, -80.13436], [25.77323, -80.13436], [25.77323, -80.13436], [25.77323, -80.13436], [25.77323, -80.13436], [25.77323, -80.13436], [25.77323, -80.13436], [25.77323, -80.13436], [25.77323, -80.13436], [25.77323, -80.13436], [25.77323, -80.13436], [25.77323, -80.13436], [25.77323, -80.13436], [25.77323, -80.13436], [25.77323, -80.13436], [25.77323, -80.13436], [25.77323, -80.13436], [25.77323, -80.13436], [25.77323, -80.13436], [25.77323, -80.13436], [25.77323, -80.13436], [25.77323, -80.13436], [25.77323, -80.13436], [25.77323, -80.13436], [25.77323, -80.13436], [25.77323, -80.13436], [25.77323, -80.13436], [29.9605, -90.0623], [29.9605, -90.0623], [42.58192, -85.514609], [38.666375, -77.250458], [38.666375, -77.250458], [38.666375, -77.250458], [38.666375, -77.250458], [38.666375, -77.250458], [36.027977, -78.958867], [33.787749, -117.865958], [33.787749, -117.865958], [38.949329, -104.804688], [33.916172, -118.373279], [37.864761, -87.573296], [37.864761, -87.573296], [32.746592, -97.33847], [29.547636, -98.673692], [29.547636, -98.673692], [29.547636, -98.673692], [29.547636, -98.673692], [29.547636, -98.673692], [41.10661, -76.65025], [41.10661, -76.65025], [34.78843009, -111.7635301], [34.78843009, -111.7635301], [34.78843009, -111.7635301], [34.78843009, -111.7635301], [34.07542, -84.65365], [37.76599, -100.05909], [37.76599, -100.05909], [37.76599, -100.05909], [37.76599, -100.05909], [37.76599, -100.05909], [37.76599, -100.05909], [30.393513, -91.06225], [35.158066, -111.65575], [35.158066, -111.65575], [35.158066, -111.65575], [35.158066, -111.65575], [35.158066, -111.65575], [39.6611, -75.6098], [35.46881, -83.3034], [35.46881, -83.3034], [47.69342, -116.80824], [41.51423, -71.30143], [41.51423, -71.30143], [41.51423, -71.30143], [41.51423, -71.30143], [41.51423, -71.30143], [39.57532, -106.11013], [39.57532, -106.11013], [37.08145, -97.04019], [37.23989, -97.0039], [39.17276, -75.52201], [42.56463, -71.949262], [42.56463, -71.949262], [41.7307, -93.57961], [41.7307, -93.57961], [39.96016, -104.77092], [37.7547, -100.05255], [19.722576, -155.084253], [32.7146, -117.1624], [32.7146, -117.1624], [32.7146, -117.1624], [32.7146, -117.1624], [32.7146, -117.1624], [32.7146, -117.1624], [36.24119, -115.11024], [36.24119, -115.11024], [36.24119, -115.11024], [36.072049, -115.081676], [28.480418, -81.461524], [28.480418, -81.461524], [28.382258, -81.510118], [28.382258, -81.510118], [28.382258, -81.510118], [28.382258, -81.510118], [28.382258, -81.510118], [28.382258, -81.510118], [28.382258, -81.510118], [28.382258, -81.510118], [28.382258, -81.510118], [28.382258, -81.510118], [28.382258, -81.510118], [28.382258, -81.510118], [28.382258, -81.510118], [28.382258, -81.510118], [28.382258, -81.510118], [28.382258, -81.510118], [28.382258, -81.510118], [28.382258, -81.510118], [28.382258, -81.510118], [28.382258, -81.510118], [28.382258, -81.510118], [34.038079, -84.297421], [34.038079, -84.297421], [44.279312, -83.4876], [43.446304, -93.35595], [41.940625, -88.113973], [43.658943, -70.25625], [43.658943, -70.25625], [43.658943, -70.25625], [43.658943, -70.25625], [43.658943, -70.25625], [36.107741, -115.176268], [36.107741, -115.176268], [36.107741, -115.176268], [36.107741, -115.176268], [36.107741, -115.176268], [36.107741, -115.176268], [36.107741, -115.176268], [36.107741, -115.176268], [36.107741, -115.176268], [36.107741, -115.176268], [36.107741, -115.176268], [36.107741, -115.176268], [36.107741, -115.176268], [36.107741, -115.176268], [36.107741, -115.176268], [36.107741, -115.176268], [36.107741, -115.176268], [36.107741, -115.176268], [36.107741, -115.176268], [36.107741, -115.176268], [36.107741, -115.176268], [36.107741, -115.176268], [36.107741, -115.176268], [36.107741, -115.176268], [36.107741, -115.176268], [36.107741, -115.176268], [36.107741, -115.176268], [36.107741, -115.176268], [36.107741, -115.176268], [36.107741, -115.176268], [36.107741, -115.176268], [36.107741, -115.176268], [36.107741, -115.176268], [36.107741, -115.176268], [36.107741, -115.176268], [36.107741, -115.176268], [36.107741, -115.176268], [36.107741, -115.176268], [36.107741, -115.176268], [36.107741, -115.176268], [36.107741, -115.176268], [36.107741, -115.176268], [36.107741, -115.176268], [36.107741, -115.176268], [36.107741, -115.176268], [36.107741, -115.176268], [36.107741, -115.176268], [36.107741, -115.176268], [36.107741, -115.176268], [36.107741, -115.176268], [36.107741, -115.176268], [36.107741, -115.176268], [36.107741, -115.176268], [36.107741, -115.176268], [36.107741, -115.176268], [36.107741, -115.176268], [36.107741, -115.176268], [36.107741, -115.176268], [36.107741, -115.176268], [36.107741, -115.176268], [36.107741, -115.176268], [36.107741, -115.176268], [36.107741, -115.176268], [36.107741, -115.176268], [36.107741, -115.176268], [36.107741, -115.176268], [36.107741, -115.176268], [36.107741, -115.176268], [36.107741, -115.176268], [36.107741, -115.176268], [36.107741, -115.176268], [36.107741, -115.176268], [36.107741, -115.176268], [36.107741, -115.176268], [36.107741, -115.176268], [36.107741, -115.176268], [36.107741, -115.176268], [36.107741, -115.176268], [36.107741, -115.176268], [36.107741, -115.176268], [36.107741, -115.176268], [36.107741, -115.176268], [36.107741, -115.176268], [36.107741, -115.176268], [36.107741, -115.176268], [36.107741, -115.176268], [36.107741, -115.176268], [36.107741, -115.176268], [36.107741, -115.176268], [36.107741, -115.176268], [36.107741, -115.176268], [36.107741, -115.176268], [36.107741, -115.176268], [36.107741, -115.176268], [36.107741, -115.176268], [36.107741, -115.176268], [36.107741, -115.176268], [36.107741, -115.176268], [36.107741, -115.176268], [36.107741, -115.176268], [36.107741, -115.176268], [36.107741, -115.176268], [36.107741, -115.176268], [36.107741, -115.176268], [36.107741, -115.176268], [36.107741, -115.176268], [36.107741, -115.176268], [36.107741, -115.176268], [36.107741, -115.176268], [36.107741, -115.176268], [36.107741, -115.176268], [36.107741, -115.176268], [36.107741, -115.176268], [36.107741, -115.176268], [36.107741, -115.176268], [36.107741, -115.176268], [36.107741, -115.176268], [36.107741, -115.176268], [36.107741, -115.176268], [36.107741, -115.176268], [36.107741, -115.176268], [36.107741, -115.176268], [36.107741, -115.176268], [36.107741, -115.176268], [36.107741, -115.176268], [36.107741, -115.176268], [36.107741, -115.176268], [36.107741, -115.176268], [36.107741, -115.176268], [36.107741, -115.176268], [36.107741, -115.176268], [36.107741, -115.176268], [36.107741, -115.176268], [36.107741, -115.176268], [36.107741, -115.176268], [36.107741, -115.176268], [36.107741, -115.176268], [36.107741, -115.176268], [36.107741, -115.176268], [42.272957, -88.969315], [42.272957, -88.969315], [42.272957, -88.969315], [30.265, -97.7467], [30.265, -97.7467], [30.265, -97.7467], [34.105037, -117.566156], [34.105037, -117.566156], [34.105037, -117.566156], [34.105037, -117.566156], [41.9156, -87.63436], [41.9156, -87.63436], [41.9156, -87.63436], [41.9156, -87.63436], [41.9156, -87.63436], [41.9156, -87.63436], [41.9156, -87.63436], [41.9156, -87.63436], [47.3228, -122.2288], [43.46864, -70.48605], [32.4386, -97.7612], [32.4386, -97.7612], [32.4386, -97.7612], [29.956219, -90.065894], [29.956219, -90.065894], [29.956219, -90.065894], [29.956219, -90.065894], [29.956219, -90.065894], [29.956219, -90.065894], [29.956219, -90.065894], [29.956219, -90.065894], [29.956219, -90.065894], [29.956219, -90.065894], [29.956219, -90.065894], [29.956219, -90.065894], [29.956219, -90.065894], [29.956219, -90.065894], [29.956219, -90.065894], [29.956219, -90.065894], [29.956219, -90.065894], [29.956219, -90.065894], [29.956219, -90.065894], [29.956219, -90.065894], [29.956219, -90.065894], [29.956219, -90.065894], [29.956219, -90.065894], [29.956219, -90.065894], [29.956219, -90.065894], [29.956219, -90.065894], [29.956219, -90.065894], [29.956219, -90.065894], [29.956219, -90.065894], [29.956219, -90.065894], [29.956219, -90.065894], [29.956219, -90.065894], [29.956219, -90.065894], [29.956219, -90.065894], [29.956219, -90.065894], [29.956219, -90.065894], [29.956219, -90.065894], [29.956219, -90.065894], [29.956219, -90.065894], [29.956219, -90.065894], [29.956219, -90.065894], [29.956219, -90.065894], [29.956219, -90.065894], [29.956219, -90.065894], [37.2933535, -76.72572613], [37.2933535, -76.72572613], [37.2933535, -76.72572613], [37.2933535, -76.72572613], [37.2933535, -76.72572613], [37.2933535, -76.72572613], [37.2933535, -76.72572613], [37.2933535, -76.72572613], [37.2933535, -76.72572613], [37.2933535, -76.72572613], [41.334415, -81.36336], [33.96219, -118.11092], [33.96219, -118.11092], [34.062984, -118.08123], [33.92775, -118.39677], [33.92775, -118.39677], [33.92775, -118.39677], [33.92775, -118.39677], [33.92775, -118.39677], [33.92775, -118.39677], [33.92775, -118.39677], [33.92775, -118.39677], [33.92775, -118.39677], [33.92775, -118.39677], [40.10829, -83.09834], [37.854683, -122.47998], [37.854683, -122.47998], [37.854683, -122.47998], [39.92786, -86.15773], [42.0436, -124.2634], [42.0436, -124.2634], [34.146194, -118.11679], [34.146194, -118.11679], [35.29105, -120.64943], [35.29105, -120.64943], [35.2892, -120.6509], [35.2892, -120.6509], [35.2892, -120.6509], [35.29105, -120.64943], [35.2892, -120.6509], [33.8071, -116.5457], [33.8071, -116.5457], [33.8071, -116.5457], [33.8071, -116.5457], [33.658707, -117.69878], [34.417657, -118.562905], [34.417657, -118.562905], [34.417657, -118.562905], [34.417657, -118.562905], [34.417657, -118.562905], [34.417657, -118.562905], [34.417657, -118.562905], [34.417657, -118.562905], [34.417657, -118.562905], [33.858124, -118.02875], [34.89566, -117.04284], [35.3666, -120.8507], [35.3666, -120.8507], [35.3666, -120.8507], [35.3666, -120.8507], [35.3666, -120.8507], [35.3666, -120.8507], [35.3666, -120.8507], [35.3666, -120.8507], [35.3666, -120.8507], [35.3666, -120.8507], [35.3666, -120.8507], [35.3666, -120.8507], [35.3666, -120.8507], [35.3666, -120.8507], [41.501, -81.7045], [41.501, -81.7045], [41.501, -81.7045], [31.71023, -83.63835], [31.71023, -83.63835], [31.71023, -83.63835], [33.697, -84.0928], [40.0231, -83.0258], [40.144894, -82.966156], [36.58691, -79.42383], [28.5474, -81.5775], [28.5474, -81.5775], [26.02868, -80.11487], [28.52093, -82.56659], [28.52093, -82.56659], [25.865461, -80.321754], [25.865461, -80.321754], [25.865461, -80.321754], [25.865461, -80.321754], [25.865461, -80.321754], [25.865461, -80.321754], [30.25989, -81.55502], [30.25989, -81.55502], [30.25989, -81.55502], [30.25989, -81.55502], [30.25989, -81.55502], [27.96103, -82.76515], [27.96103, -82.76515], [27.49698, -82.57156], [29.23433, -81.03581], [28.32162, -80.60826], [28.32162, -80.60826], [27.9744, -82.82767], [26.560802, -81.945294], [34.146263, -118.076069], [34.146263, -118.076069], [27.317506, -81.355336], [43.5178, -70.37599], [43.50946, -70.40011], [43.52749, -70.36469], [43.50946, -70.40011], [43.52541, -70.44626], [43.52541, -70.44626], [43.52541, -70.44626], [43.52541, -70.44626], [38.87145, -98.85518], [38.63036, -76.91391], [42.0307, -91.65062], [42.02441, -91.62132], [41.66305, -93.46723], [35.34992, -80.84909], [35.34992, -80.84909], [35.34992, -80.84909], [35.34992, -80.84909], [35.34992, -80.84909], [35.34992, -80.84909], [35.34992, -80.84909], [35.34992, -80.84909], [35.34992, -80.84909], [35.34992, -80.84909], [35.34992, -80.84909], [35.34992, -80.84909], [35.34992, -80.84909], [35.34992, -80.84909], [35.34992, -80.84909], [35.34992, -80.84909], [35.34992, -80.84909], [35.34992, -80.84909], [35.34992, -80.84909], [35.34992, -80.84909], [35.34992, -80.84909], [35.34992, -80.84909], [35.34992, -80.84909], [35.34992, -80.84909], [35.34992, -80.84909], [38.58398, -122.57573], [38.58398, -122.57573], [38.58398, -122.57573], [39.170773, -75.520515], [39.170773, -75.520515], [39.170773, -75.520515], [21.281084, -157.82661], [21.281084, -157.82661], [21.281084, -157.82661], [21.281084, -157.82661], [21.281084, -157.82661], [21.281084, -157.82661], [21.281084, -157.82661], [21.281084, -157.82661], [21.281084, -157.82661], [21.281084, -157.82661], [21.281084, -157.82661], [21.281084, -157.82661], [21.281084, -157.82661], [21.281084, -157.82661], [21.281084, -157.82661], [21.281084, -157.82661], [21.281084, -157.82661], [21.281084, -157.82661], [21.281084, -157.82661], [21.281084, -157.82661], [21.281084, -157.82661], [21.281084, -157.82661], [21.281084, -157.82661], [21.281084, -157.82661], [21.281084, -157.82661], [21.281084, -157.82661], [21.281084, -157.82661], [21.281084, -157.82661], [21.281084, -157.82661], [21.281084, -157.82661], [21.281084, -157.82661], [21.281084, -157.82661], [21.281084, -157.82661], [21.281084, -157.82661], [21.281084, -157.82661], [64.83452, -147.82867], [61.21157, -149.87608], [36.38413, -94.17688], [35.21297, -114.01386], [35.21297, -114.01386], [36.54179, -87.36624], [36.54179, -87.36624], [36.54179, -87.36624], [36.54179, -87.36624], [36.5963, -87.29032], [36.54179, -87.36624], [44.31067, -96.7555], [33.95039, -83.41023], [33.95039, -83.41023], [33.95039, -83.41023], [33.95039, -83.41023], [33.95039, -83.41023], [35.7106, -83.52403], [35.7106, -83.52403], [37.7889, -81.2117], [37.7889, -81.2117], [39.098763, -80.3915], [39.098763, -80.3915], [39.098763, -80.3915], [40.26929, -81.87704], [42.695164, -88.54378], [42.695164, -88.54378], [42.695164, -88.54378], [42.695164, -88.54378], [42.695164, -88.54378], [42.695164, -88.54378], [43.75597, -88.475136], [43.75597, -88.475136], [43.75597, -88.475136], [44.26216, -88.40905], [44.26216, -88.40905], [44.261, -88.4536], [44.261, -88.4536], [44.261, -88.4536], [44.04403, -121.32173], [44.04403, -121.32173], [44.04403, -121.32173], [44.04478, -121.30175], [42.7283, -88.99373], [42.7283, -88.99373], [42.7283, -88.99373], [42.7283, -88.99373], [42.4311, -123.3325], [42.4311, -123.3325], [42.4311, -123.3325], [42.4311, -123.3325], [42.4311, -123.3325], [42.42488, -123.28828], [42.42488, -123.28828], [38.8992, -77.42921], [38.8992, -77.42921], [38.8992, -77.42921], [38.8992, -77.42921], [38.8992, -77.42921], [31.77836, -106.39386], [38.7807, -77.1829], [45.38189, -122.76094], [45.38189, -122.76094], [45.52033, -123.07692], [45.52033, -123.07692], [44.56205, -123.26366], [32.100357, -96.44006], [32.100357, -96.44006], [27.80167, -97.48389], [27.80167, -97.48389], [32.67507, -97.0321], [32.67507, -97.0321], [32.67507, -97.0321], [32.67507, -97.0321], [35.191731, -101.935261], [35.191731, -101.935261], [35.191731, -101.935261], [35.191731, -101.935261], [35.191731, -101.935261], [35.191731, -101.935261], [35.191731, -101.935261], [35.33854, -101.37998], [39.63742, -75.80849], [39.63742, -75.80849], [40.20745, -74.7753], [40.20745, -74.7753], [40.20745, -74.7753], [40.20745, -74.7753], [40.20745, -74.7753], [36.71427, -81.94195], [36.71427, -81.94195], [36.71427, -81.94195], [40.619873, -75.382225], [42.125428, -80.082948], [42.125428, -80.082948], [42.125428, -80.082948], [42.125428, -80.082948], [42.125428, -80.082948], [42.125428, -80.082948], [40.22254, -77.15926], [41.035479, -78.400927], [41.035479, -78.400927], [41.035479, -78.400927], [40.09728, -75.416885], [40.09728, -75.416885], [39.77748, -79.50026], [40.254154, -75.24785], [40.254154, -75.24785], [39.961011, -75.605662], [39.961011, -75.605662], [39.961011, -75.605662], [41.912964, -78.64178], [40.16529, -80.27335], [40.16529, -80.27335], [40.16529, -80.27335], [40.16529, -80.27335], [41.29735, -76.37285], [40.58418, -75.62523], [40.23447, -75.23658], [40.23447, -75.23658], [40.23447, -75.23658], [42.92927, -87.93034], [42.92927, -87.93034], [42.92927, -87.93034], [42.92927, -87.93034], [42.92927, -87.93034], [42.92927, -87.93034], [42.92927, -87.93034], [42.92927, -87.93034], [41.7344, -85.975488], [41.7344, -85.975488], [42.9556, -72.8101], [42.093964, -88.33668], [40.7386, -73.603], [40.7386, -73.603], [40.7386, -73.603], [40.7386, -73.603], [40.7386, -73.603], [40.98069, -72.53356], [44.019628, -90.491579], [44.019628, -90.491579], [44.019628, -90.491579], [44.019628, -90.491579], [44.019628, -90.491579], [44.019628, -90.491579], [44.019628, -90.491579], [39.76966, -89.610649], [35.648329, -105.93345], [35.6858, -79.82778], [36.9319, -86.417], [36.9319, -86.417], [36.9319, -86.417], [36.9319, -86.417], [36.9319, -86.417], [36.9319, -86.417], [31.07802, -97.65605], [34.186223, -79.838427], [34.186223, -79.838427], [34.186223, -79.838427], [34.186223, -79.838427], [34.186223, -79.838427], [34.85152, -82.39978], [38.54174, -90.46675], [45.9857, -112.5083], [45.9837, -112.5027], [45.9837, -112.5027], [45.9857, -112.5083], [45.9837, -112.5027], [45.9837, -112.5027], [45.9837, -112.5027], [29.950949, -89.960338], [44.27235, -92.9862], [44.27235, -92.9862], [34.701126, -118.172455], [45.29393, -93.80017], [45.29393, -93.80017], [45.29393, -93.80017], [30.201, -97.7694], [30.201, -97.7694], [30.201, -97.7694], [43.65476, -93.34112], [43.65476, -93.34112], [43.65476, -93.34112], [43.65476, -93.34112], [43.65476, -93.34112], [43.65476, -93.34112], [40.693375, -89.58752], [40.693375, -89.58752], [40.693375, -89.58752], [40.693375, -89.58752], [41.9303, -88.77633], [41.9303, -88.77633], [38.68394, -90.01067], [42.30298, -88.43337], [42.30298, -88.43337], [42.30298, -88.43337], [42.30298, -88.43337], [41.71412, -88.03888], [35.739197, -78.786698], [35.739197, -78.786698], [35.739197, -78.786698], [41.955927, -87.883266], [42.265007, -89.03038], [42.265007, -89.03038], [42.265007, -89.03038], [35.93352, -86.82154], [35.93352, -86.82154], [35.93352, -86.82154], [35.93352, -86.82154], [35.93352, -86.82154], [35.93352, -86.82154], [41.53887, -90.51887], [47.6331, -122.517], [47.6331, -122.517], [47.6331, -122.517], [46.07083, -118.34145], [46.07083, -118.34145], [42.57516, -113.72761], [42.57516, -113.72761], [39.639038, -75.65063], [39.639038, -75.65063], [39.639038, -75.65063], [39.639038, -75.65063], [39.639038, -75.65063], [39.639038, -75.65063], [39.639038, -75.65063], [39.639038, -75.65063], [39.639038, -75.65063], [30.504122, -87.162056], [30.504122, -87.162056], [30.504122, -87.162056], [37.348564, -108.58912], [28.9408, -81.2994], [28.9408, -81.2994], [28.99648, -81.36781], [28.99648, -81.36781], [30.396564, -86.59549], [30.396564, -86.59549], [30.396564, -86.59549], [30.396564, -86.59549], [30.396564, -86.59549], [30.396564, -86.59549], [28.781912, -82.615471], [27.9674, -82.82039], [27.9674, -82.82039], [27.9674, -82.82039], [27.9674, -82.82039], [27.897234, -82.29956], [26.699856, -80.034656], [26.699856, -80.034656], [26.699856, -80.034656], [26.699856, -80.034656], [27.89427, -81.94892], [27.89427, -81.94892], [27.58878, -81.51549], [41.3068, -72.71891], [41.3068, -72.71891], [38.44849, -105.21887], [38.44849, -105.21887], [33.86098, -117.94123], [33.86098, -117.94123], [34.12281, -117.510774], [40.79107, -124.17978], [40.79107, -124.17978], [40.80165, -124.17405], [32.77691, -115.57139], [32.77691, -115.57139], [32.77691, -115.57139], [32.77691, -115.57139], [33.99515, -118.39406], [34.10627, -117.3777], [37.85604, -122.47882], [37.85604, -122.47882], [37.85604, -122.47882], [37.85604, -122.47882], [37.85604, -122.47882], [37.85604, -122.47882], [37.85604, -122.47882], [33.80197, -116.54636], [34.4204, -118.581], [34.4204, -118.581], [34.4204, -118.581], [34.4204, -118.581], [33.768402, -118.18625], [33.768402, -118.18625], [33.768402, -118.18625], [33.768402, -118.18625], [33.768402, -118.18625], [33.768402, -118.18625], [33.768402, -118.18625], [33.768402, -118.18625], [37.869, -122.25495], [35.48774, -120.66625], [34.89805, -117.01135], [34.89805, -117.01135], [35.13877, -120.64114], [35.14796, -120.649605], [35.14796, -120.649605], [35.14796, -120.649605], [35.14796, -120.649605], [35.14796, -120.649605], [35.14796, -120.649605], [35.14796, -120.649605], [35.14796, -120.649605], [35.14796, -120.649605], [35.14796, -120.649605], [35.14796, -120.649605], [35.14796, -120.649605], [35.14796, -120.649605], [35.14796, -120.649605], [35.14796, -120.649605], [35.14796, -120.649605], [35.14796, -120.649605], [35.14796, -120.649605], [35.14796, -120.649605], [35.14796, -120.649605], [35.14796, -120.649605], [35.14796, -120.649605], [35.14796, -120.649605], [35.14796, -120.649605], [35.14796, -120.649605], [35.14796, -120.649605], [35.14796, -120.649605], [35.14796, -120.649605], [35.14796, -120.649605], [35.14796, -120.649605], [35.14796, -120.649605], [35.14796, -120.649605], [35.14796, -120.649605], [35.14796, -120.649605], [35.14796, -120.649605], [35.14796, -120.649605], [35.14796, -120.649605], [35.14796, -120.649605], [35.14796, -120.649605], [35.14796, -120.649605], [35.14796, -120.649605], [34.061829, -118.121171], [34.061829, -118.121171], [34.061829, -118.121171], [34.061829, -118.121171], [34.061829, -118.121171], [34.061829, -118.121171], [34.061829, -118.121171], [34.15157, -118.00577], [34.15157, -118.00577], [34.14227, -118.241], [34.14227, -118.241], [33.6551537, -117.9990691], [33.6551537, -117.9990691], [33.51318, -111.89154], [33.51318, -111.89154], [38.468864, -90.32139], [38.468864, -90.32139], [31.73313, -95.6215], [31.73313, -95.6215], [31.73313, -95.6215], [31.73313, -95.6215], [31.73313, -95.6215], [31.73313, -95.6215], [38.39351, -120.80292], [38.39351, -120.80292], [38.39351, -120.80292], [38.39351, -120.80292], [35.224602, -106.642502], [35.224602, -106.642502], [35.224602, -106.642502], [35.224602, -106.642502], [35.224602, -106.642502], [35.224602, -106.642502], [35.224602, -106.642502], [33.77123, -118.19394], [33.77123, -118.19394], [33.77123, -118.19394], [33.77123, -118.19394], [33.77123, -118.19394], [33.77123, -118.19394], [33.77123, -118.19394], [33.77123, -118.19394], [33.77123, -118.19394], [33.77123, -118.19394], [33.77123, -118.19394], [33.77123, -118.19394], [33.77123, -118.19394], [33.77123, -118.19394], [34.071434, -118.40001], [34.071434, -118.40001], [40.66722, -111.51419], [40.82859, -115.77209], [42.372406, -71.12297], [42.372406, -71.12297], [42.372406, -71.12297], [42.372406, -71.12297], [42.372406, -71.12297], [42.372406, -71.12297], [42.372406, -71.12297], [42.372406, -71.12297], [42.372406, -71.12297], [42.372406, -71.12297], [42.372406, -71.12297], [42.372406, -71.12297], [42.372406, -71.12297], [43.06755, -89.41261], [43.06755, -89.41261], [43.06755, -89.41261], [43.06755, -89.41261], [43.06755, -89.41261], [43.06755, -89.41261], [43.06755, -89.41261], [43.06755, -89.41261], [43.06755, -89.41261], [43.06755, -89.41261], [43.06755, -89.41261], [43.06755, -89.41261], [42.606773, -70.63355], [42.606773, -70.63355], [42.606773, -70.63355], [42.606773, -70.63355], [42.606773, -70.63355], [42.606773, -70.63355], [42.606773, -70.63355], [42.606773, -70.63355], [42.340454, -71.11488], [42.340454, -71.11488], [42.340454, -71.11488], [42.5338, -70.9896], [42.54463, -71.47637], [42.54463, -71.47637], [42.54463, -71.47637], [42.58464, -70.88503], [42.58464, -70.88503], [42.1176, -72.6242], [42.1176, -72.6242], [42.1176, -72.6242], [47.97802, -122.21388], [47.97802, -122.21388], [33.56113, -81.72195], [33.56113, -81.72195], [33.56113, -81.72195], [33.56113, -81.72195], [33.56113, -81.72195], [33.56113, -81.72195], [42.6254, -88.6257], [43.47777, -89.76794], [38.77622, -77.17911], [32.77319461, -97.06349122], [41.261265, -96.03644], [40.593613, -75.338486], [40.593613, -75.338486], [40.593613, -75.338486], [40.593613, -75.338486], [40.593613, -75.338486], [40.593613, -75.338486], [40.593613, -75.338486], [40.82191, -74.8366], [40.6041, -74.2627], [40.6991, -74.4034], [41.13805, -81.79652], [41.13805, -81.79652], [41.13805, -81.79652], [41.13805, -81.79652], [41.13805, -81.79652], [40.52949, -74.51853], [40.52949, -74.51853], [40.52949, -74.51853], [40.52949, -74.51853], [40.52949, -74.51853], [36.0628, -95.7756], [36.0628, -95.7756], [35.42172, -99.3762], [35.42172, -99.3762], [34.11123, -94.73979], [35.28877, -78.60475], [38.6512, -90.339], [38.6512, -90.339], [38.6512, -90.339], [38.6512, -90.339], [35.99286, -78.90429], [35.99286, -78.90429], [35.4394, -82.2473], [35.5268, -82.6059], [35.5268, -82.6059], [35.5268, -82.6059], [35.5268, -82.6059], [35.5268, -82.6059], [43.4198, -85.759384], [42.762052, -91.057274], [33.038757, -80.153916], [39.408594, -81.428717], [39.408594, -81.428717], [39.408594, -81.428717], [39.408594, -81.428717], [39.408594, -81.428717], [39.408594, -81.428717], [39.408594, -81.428717], [38.552489, -90.40623], [38.552489, -90.40623], [38.552489, -90.40623], [38.552489, -90.40623], [38.552489, -90.40623], [38.552489, -90.40623], [37.941462, -91.794992], [33.911578, -84.204094], [37.78205, -122.404736], [37.78205, -122.404736], [37.78205, -122.404736], [37.78205, -122.404736], [37.78205, -122.404736], [37.78205, -122.404736], [37.78205, -122.404736], [37.78205, -122.404736], [37.78205, -122.404736], [37.78205, -122.404736], [37.78205, -122.404736], [37.78205, -122.404736], [37.78205, -122.404736], [37.78205, -122.404736], [37.78205, -122.404736], [37.78205, -122.404736], [37.78205, -122.404736], [37.78205, -122.404736], [37.78205, -122.404736], [37.78205, -122.404736], [37.78205, -122.404736], [37.78205, -122.404736], [37.78205, -122.404736], [37.78205, -122.404736], [37.78205, -122.404736], [37.78205, -122.404736], [37.78205, -122.404736], [37.78205, -122.404736], [37.78205, -122.404736], [37.78205, -122.404736], [37.225001, -95.708515], [39.160149, -76.711776], [39.160149, -76.711776], [39.160149, -76.711776], [39.160149, -76.711776], [39.160149, -76.711776], [39.160149, -76.711776], [39.160149, -76.711776], [39.160149, -76.711776], [39.160149, -76.711776], [39.160149, -76.711776], [39.160149, -76.711776], [39.160149, -76.711776], [39.160149, -76.711776], [39.160149, -76.711776], [39.160149, -76.711776], [39.160149, -76.711776], [39.160149, -76.711776], [39.160149, -76.711776], [39.160149, -76.711776], [39.160149, -76.711776], [39.160149, -76.711776], [39.160149, -76.711776], [39.160149, -76.711776], [39.160149, -76.711776], [39.160149, -76.711776], [39.160149, -76.711776], [39.160149, -76.711776], [39.160149, -76.711776], [39.160149, -76.711776], [39.160149, -76.711776], [39.160149, -76.711776], [39.160149, -76.711776], [39.160149, -76.711776], [39.160149, -76.711776], [39.160149, -76.711776], [38.577485, -121.490905], [37.114, -76.505793], [38.631209, -90.188329], [38.631209, -90.188329], [38.631209, -90.188329], [32.273999, -107.717523], [32.273999, -107.717523], [32.273999, -107.717523], [43.656058, -93.318192], [43.656058, -93.318192], [43.656058, -93.318192], [35.496542, -98.98414], [35.496542, -98.98414], [39.843264, -84.191354], [39.843264, -84.191354], [39.843264, -84.191354], [39.843264, -84.191354], [39.843264, -84.191354], [39.843264, -84.191354], [39.843264, -84.191354], [40.618735, -74.032482], [35.009593, -78.826744], [35.009593, -78.826744], [36.976312, -84.112884], [36.976312, -84.112884], [38.1918, -85.743085], [38.1918, -85.743085], [38.1918, -85.743085], [38.1918, -85.743085], [38.1918, -85.743085], [42.32351, -122.869103], [34.59591, -120.144447], [34.59591, -120.144447], [42.810971, -70.873691], [43.655492, -70.255278], [29.809349, -95.444089], [29.809349, -95.444089], [29.809349, -95.444089], [29.809349, -95.444089], [29.809349, -95.444089], [29.809349, -95.444089], [29.809349, -95.444089], [29.809349, -95.444089], [29.809349, -95.444089], [29.809349, -95.444089], [29.809349, -95.444089], [38.998349, -77.026281], [38.998349, -77.026281], [38.998349, -77.026281], [38.998349, -77.026281], [38.998349, -77.026281], [38.998349, -77.026281], [38.998349, -77.026281], [38.998349, -77.026281], [38.998349, -77.026281], [38.998349, -77.026281], [38.998349, -77.026281], [38.998349, -77.026281], [38.998349, -77.026281], [38.998349, -77.026281], [38.998349, -77.026281], [38.998349, -77.026281], [38.998349, -77.026281], [38.998349, -77.026281], [38.998349, -77.026281], [38.998349, -77.026281], [38.998349, -77.026281], [38.998349, -77.026281], [38.998349, -77.026281], [38.998349, -77.026281], [38.998349, -77.026281], [38.998349, -77.026281], [38.998349, -77.026281], [38.998349, -77.026281], [38.998349, -77.026281], [38.998349, -77.026281], [38.998349, -77.026281], [38.998349, -77.026281], [38.998349, -77.026281], [38.998349, -77.026281], [38.998349, -77.026281], [38.998349, -77.026281], [38.998349, -77.026281], [38.998349, -77.026281], [38.998349, -77.026281], [38.998349, -77.026281], [38.998349, -77.026281], [38.998349, -77.026281], [42.087938, -87.868059], [42.087938, -87.868059], [42.087938, -87.868059], [42.087938, -87.868059], [42.087938, -87.868059], [42.087938, -87.868059], [42.087938, -87.868059], [47.697971, -116.808477], [47.697971, -116.808477], [47.697971, -116.808477], [39.197683, -76.614455], [39.197683, -76.614455], [39.197683, -76.614455], [39.197683, -76.614455], [39.197683, -76.614455], [39.197683, -76.614455], [39.197683, -76.614455], [39.197683, -76.614455], [39.197683, -76.614455], [39.197683, -76.614455], [39.197683, -76.614455], [39.197683, -76.614455], [39.197683, -76.614455], [39.197683, -76.614455], [39.197683, -76.614455], [39.197683, -76.614455], [39.197683, -76.614455], [39.197683, -76.614455], [39.197683, -76.614455], [39.197683, -76.614455], [39.197683, -76.614455], [39.197683, -76.614455], [39.197683, -76.614455], [39.197683, -76.614455], [39.197683, -76.614455], [39.197683, -76.614455], [39.197683, -76.614455], [39.197683, -76.614455], [39.197683, -76.614455], [39.197683, -76.614455], [39.197683, -76.614455], [39.197683, -76.614455], [39.197683, -76.614455], [39.197683, -76.614455], [39.197683, -76.614455], [39.197683, -76.614455], [39.197683, -76.614455], [39.197683, -76.614455], [39.197683, -76.614455], [39.197683, -76.614455], [39.197683, -76.614455], [39.197683, -76.614455], [45.380906, -122.582158], [45.380906, -122.582158], [45.380906, -122.582158], [45.380906, -122.582158], [45.380906, -122.582158], [25.812, -80.12359], [25.812, -80.12359], [25.812, -80.12359], [39.937776, -82.829242], [39.937776, -82.829242], [39.210072, -76.677158], [39.210072, -76.677158], [39.210072, -76.677158], [39.210072, -76.677158], [39.210072, -76.677158], [39.210072, -76.677158], [39.210072, -76.677158], [39.210072, -76.677158], [39.210072, -76.677158], [39.210072, -76.677158], [39.210072, -76.677158], [39.210072, -76.677158], [39.210072, -76.677158], [39.210072, -76.677158], [39.210072, -76.677158], [39.210072, -76.677158], [39.210072, -76.677158], [39.210072, -76.677158], [39.210072, -76.677158], [39.210072, -76.677158], [39.210072, -76.677158], [39.210072, -76.677158], [39.210072, -76.677158], [39.210072, -76.677158], [39.210072, -76.677158], [39.210072, -76.677158], [39.210072, -76.677158], [39.210072, -76.677158], [39.210072, -76.677158], [39.210072, -76.677158], [39.210072, -76.677158], [39.210072, -76.677158], [39.210072, -76.677158], [39.210072, -76.677158], [39.210072, -76.677158], [39.210072, -76.677158], [39.210072, -76.677158], [39.210072, -76.677158], [39.210072, -76.677158], [39.210072, -76.677158], [39.210072, -76.677158], [36.720617, -108.181824], [34.744339, -120.278909], [36.680057, -121.784975], [28.235918, -81.650351], [28.235918, -81.650351], [34.054883, -118.255312], [34.054883, -118.255312], [40.491773, -81.471361], [40.491773, -81.471361], [40.491773, -81.471361], [40.491773, -81.471361], [37.0385, -76.38656], [37.0385, -76.38656], [37.0385, -76.38656], [37.0385, -76.38656], [37.0385, -76.38656], [37.0385, -76.38656], [37.0385, -76.38656], [37.0385, -76.38656], [37.0385, -76.38656], [37.0385, -76.38656], [37.0385, -76.38656], [37.0385, -76.38656], [37.0385, -76.38656], [37.0385, -76.38656], [37.0385, -76.38656], [37.0385, -76.38656], [37.0385, -76.38656], [37.0385, -76.38656], [37.0385, -76.38656], [37.0385, -76.38656], [37.0385, -76.38656], [37.0385, -76.38656], [37.0385, -76.38656], [37.0385, -76.38656], [37.0385, -76.38656], [37.936369, -75.373772], [37.936369, -75.373772], [37.936369, -75.373772], [37.936369, -75.373772], [37.936369, -75.373772], [37.936369, -75.373772], [37.936369, -75.373772], [37.936369, -75.373772], [37.936369, -75.373772], [37.936369, -75.373772], [37.936369, -75.373772], [37.936369, -75.373772], [37.936369, -75.373772], [37.936369, -75.373772], [37.936369, -75.373772], [37.936369, -75.373772], [45.564565, -122.630046], [45.564565, -122.630046], [45.564565, -122.630046], [45.564565, -122.630046], [45.564565, -122.630046], [45.564565, -122.630046], [45.564565, -122.630046], [37.155323, -93.225773], [37.155323, -93.225773], [33.701745, -78.927972], [39.580333, -105.141033], [42.48953, -83.27823], [42.48953, -83.27823], [42.48953, -83.27823], [42.48953, -83.27823], [32.304123, -95.325714], [32.304123, -95.325714], [32.304123, -95.325714], [41.389039, -70.513133], [20.94429, -156.690786], [20.94429, -156.690786], [20.94429, -156.690786], [20.94429, -156.690786], [20.94429, -156.690786], [20.94429, -156.690786], [20.94429, -156.690786], [20.94429, -156.690786], [20.94429, -156.690786], [20.94429, -156.690786], [20.94429, -156.690786], [20.94429, -156.690786], [20.94429, -156.690786], [20.94429, -156.690786], [20.94429, -156.690786], [20.94429, -156.690786], [20.94429, -156.690786], [20.94429, -156.690786], [20.94429, -156.690786], [20.94429, -156.690786], [20.94429, -156.690786], [20.94429, -156.690786], [20.94429, -156.690786], [20.94429, -156.690786], [20.94429, -156.690786], [20.94429, -156.690786], [20.94429, -156.690786], [20.94429, -156.690786], [20.94429, -156.690786], [20.94429, -156.690786], [20.94429, -156.690786], [20.94429, -156.690786], [20.94429, -156.690786], [20.94429, -156.690786], [20.94429, -156.690786], [20.94429, -156.690786], [20.94429, -156.690786], [20.94429, -156.690786], [20.94429, -156.690786], [20.94429, -156.690786], [20.94429, -156.690786], [20.94429, -156.690786], [20.94429, -156.690786], [20.94429, -156.690786], [20.94429, -156.690786], [20.94429, -156.690786], [20.94429, -156.690786], [20.94429, -156.690786], [20.94429, -156.690786], [20.94429, -156.690786], [20.94429, -156.690786], [20.94429, -156.690786], [20.94429, -156.690786], [20.94429, -156.690786], [20.94429, -156.690786], [20.94429, -156.690786], [20.94429, -156.690786], [20.94429, -156.690786], [20.94429, -156.690786], [20.94429, -156.690786], [20.94429, -156.690786], [20.94429, -156.690786], [20.94429, -156.690786], [20.94429, -156.690786], [20.94429, -156.690786], [20.94429, -156.690786], [20.94429, -156.690786], [20.94429, -156.690786], [20.94429, -156.690786], [20.94429, -156.690786], [20.94429, -156.690786], [20.94429, -156.690786], [20.94429, -156.690786], [20.94429, -156.690786], [20.94429, -156.690786], [20.94429, -156.690786], [20.94429, -156.690786], [20.94429, -156.690786], [20.94429, -156.690786], [20.94429, -156.690786], [20.94429, -156.690786], [20.94429, -156.690786], [20.94429, -156.690786], [20.94429, -156.690786], [20.94429, -156.690786], [20.94429, -156.690786], [20.94429, -156.690786], [20.94429, -156.690786], [20.94429, -156.690786], [20.94429, -156.690786], [20.94429, -156.690786], [20.94429, -156.690786], [20.94429, -156.690786], [20.94429, -156.690786], [20.94429, -156.690786], [20.94429, -156.690786], [20.94429, -156.690786], [20.94429, -156.690786], [20.94429, -156.690786], [36.913202, -76.06851], [36.913202, -76.06851], [36.913202, -76.06851], [36.913202, -76.06851], [36.913202, -76.06851], [36.913202, -76.06851], [36.913202, -76.06851], [36.913202, -76.06851], [36.913202, -76.06851], [36.913202, -76.06851], [36.913202, -76.06851], [36.913202, -76.06851], [36.913202, -76.06851], [36.913202, -76.06851], [36.913202, -76.06851], [36.913202, -76.06851], [36.913202, -76.06851], [36.913202, -76.06851], [36.913202, -76.06851], [36.913202, -76.06851], [36.913202, -76.06851], [36.913202, -76.06851], [36.913202, -76.06851], [36.913202, -76.06851], [36.913202, -76.06851], [36.913202, -76.06851], [36.913202, -76.06851], [36.913202, -76.06851], [36.913202, -76.06851], [36.913202, -76.06851], [36.913202, -76.06851], [36.913202, -76.06851], [36.913202, -76.06851], [36.913202, -76.06851], [36.913202, -76.06851], [36.913202, -76.06851], [36.913202, -76.06851], [36.913202, -76.06851], [36.913202, -76.06851], [36.913202, -76.06851], [36.913202, -76.06851], [36.913202, -76.06851], [39.195823, -76.680678], [39.195823, -76.680678], [39.195823, -76.680678], [39.195823, -76.680678], [39.195823, -76.680678], [39.195823, -76.680678], [39.195823, -76.680678], [39.195823, -76.680678], [39.195823, -76.680678], [39.195823, -76.680678], [39.195823, -76.680678], [39.195823, -76.680678], [39.195823, -76.680678], [39.195823, -76.680678], [39.195823, -76.680678], [39.195823, -76.680678], [39.195823, -76.680678], [39.195823, -76.680678], [39.195823, -76.680678], [39.195823, -76.680678], [39.195823, -76.680678], [39.195823, -76.680678], [39.195823, -76.680678], [39.195823, -76.680678], [39.195823, -76.680678], [39.195823, -76.680678], [39.195823, -76.680678], [39.195823, -76.680678], [39.195823, -76.680678], [39.195823, -76.680678], [39.195823, -76.680678], [39.195823, -76.680678], [39.195823, -76.680678], [40.82838, -96.604166], [40.82838, -96.604166], [39.284641, -76.599013], [39.284641, -76.599013], [39.284641, -76.599013], [39.284641, -76.599013], [39.284641, -76.599013], [39.284641, -76.599013], [39.284641, -76.599013], [39.284641, -76.599013], [39.284641, -76.599013], [39.284641, -76.599013], [39.284641, -76.599013], [39.284641, -76.599013], [39.284641, -76.599013], [39.284641, -76.599013], [39.284641, -76.599013], [39.284641, -76.599013], [39.284641, -76.599013], [39.284641, -76.599013], [39.284641, -76.599013], [39.284641, -76.599013], [39.284641, -76.599013], [39.284641, -76.599013], [39.284641, -76.599013], [39.284641, -76.599013], [39.284641, -76.599013], [39.284641, -76.599013], [39.284641, -76.599013], [39.284641, -76.599013], [39.284641, -76.599013], [39.284641, -76.599013], [39.284641, -76.599013], [39.284641, -76.599013], [39.284641, -76.599013], [39.284641, -76.599013], [39.284641, -76.599013], [39.284641, -76.599013], [39.284641, -76.599013], [39.284641, -76.599013], [39.284641, -76.599013], [39.284641, -76.599013], [39.284641, -76.599013], [39.284641, -76.599013], [39.284641, -76.599013], [39.284641, -76.599013], [39.284641, -76.599013], [39.284641, -76.599013], [39.284641, -76.599013], [39.284641, -76.599013], [39.284641, -76.599013], [39.284641, -76.599013], [39.284641, -76.599013], [39.284641, -76.599013], [39.284641, -76.599013], [39.284641, -76.599013], [27.397494, -82.545924], [27.397494, -82.545924], [42.813064, -85.670067], [39.2886967, -76.61233306], [39.2886967, -76.61233306], [39.2886967, -76.61233306], [39.2886967, -76.61233306], [39.2886967, -76.61233306], [39.2886967, -76.61233306], [39.2886967, -76.61233306], [39.2886967, -76.61233306], [39.2886967, -76.61233306], [39.2886967, -76.61233306], [39.2886967, -76.61233306], [39.2886967, -76.61233306], [39.2886967, -76.61233306], [39.2886967, -76.61233306], [39.2886967, -76.61233306], [39.2886967, -76.61233306], [39.2886967, -76.61233306], [39.2886967, -76.61233306], [39.2886967, -76.61233306], [39.2886967, -76.61233306], [39.2886967, -76.61233306], [39.2886967, -76.61233306], [39.2886967, -76.61233306], [39.2886967, -76.61233306], [39.2886967, -76.61233306], [39.2886967, -76.61233306], [39.2886967, -76.61233306], [39.2886967, -76.61233306], [39.2886967, -76.61233306], [39.2886967, -76.61233306], [39.2886967, -76.61233306], [39.2886967, -76.61233306], [39.2886967, -76.61233306], [39.2886967, -76.61233306], [39.2886967, -76.61233306], [39.2886967, -76.61233306], [39.2886967, -76.61233306], [39.2886967, -76.61233306], [39.2886967, -76.61233306], [37.28382755, -76.70792162], [37.28382755, -76.70792162], [37.28382755, -76.70792162], [37.28382755, -76.70792162], [37.28382755, -76.70792162], [37.28382755, -76.70792162], [37.28382755, -76.70792162], [37.28382755, -76.70792162], [37.28382755, -76.70792162], [37.28382755, -76.70792162], [37.28382755, -76.70792162], [37.28382755, -76.70792162], [37.28382755, -76.70792162], [37.28382755, -76.70792162], [37.28382755, -76.70792162], [37.28382755, -76.70792162], [37.28382755, -76.70792162], [37.28382755, -76.70792162], [37.28382755, -76.70792162], [37.28382755, -76.70792162], [37.28382755, -76.70792162], [37.28382755, -76.70792162], [39.28482809, -76.60571605], [39.28482809, -76.60571605], [39.28482809, -76.60571605], [39.28482809, -76.60571605], [39.28482809, -76.60571605], [39.28482809, -76.60571605], [39.28482809, -76.60571605], [39.28482809, -76.60571605], [39.28482809, -76.60571605], [39.28482809, -76.60571605], [39.28482809, -76.60571605], [39.28482809, -76.60571605], [39.28482809, -76.60571605], [39.28482809, -76.60571605], [39.28482809, -76.60571605], [39.28482809, -76.60571605], [39.28482809, -76.60571605], [39.28482809, -76.60571605], [39.28482809, -76.60571605], [39.28482809, -76.60571605], [39.28482809, -76.60571605], [39.28482809, -76.60571605], [39.28482809, -76.60571605], [39.28482809, -76.60571605], [39.28482809, -76.60571605], [39.28482809, -76.60571605], [39.28482809, -76.60571605], [39.28482809, -76.60571605], [39.28482809, -76.60571605], [39.28482809, -76.60571605], [39.28482809, -76.60571605], [39.28482809, -76.60571605], [39.28482809, -76.60571605], [39.28482809, -76.60571605], [39.28482809, -76.60571605], [39.28482809, -76.60571605], [39.28482809, -76.60571605], [39.28482809, -76.60571605], [39.28482809, -76.60571605], [39.28482809, -76.60571605], [39.2837994, -76.60164714], [39.2837994, -76.60164714], [39.2837994, -76.60164714], [39.2837994, -76.60164714], [39.2837994, -76.60164714], [39.2837994, -76.60164714], [39.2837994, -76.60164714], [39.2837994, -76.60164714], [39.2837994, -76.60164714], [39.2837994, -76.60164714], [39.2837994, -76.60164714], [39.2837994, -76.60164714], [39.2837994, -76.60164714], [39.2837994, -76.60164714], [39.2837994, -76.60164714], [36.838167, -75.97202003], [36.838167, -75.97202003], [36.838167, -75.97202003], [36.838167, -75.97202003], [36.838167, -75.97202003], [36.838167, -75.97202003], [36.838167, -75.97202003], [36.838167, -75.97202003], [36.838167, -75.97202003], [36.838167, -75.97202003], [36.838167, -75.97202003], [36.838167, -75.97202003], [36.838167, -75.97202003], [36.838167, -75.97202003], [36.838167, -75.97202003], [36.838167, -75.97202003], [36.838167, -75.97202003], [36.838167, -75.97202003], [36.838167, -75.97202003], [36.838167, -75.97202003], [36.838167, -75.97202003], [25.773472, -80.13254], [25.773472, -80.13254], [25.773472, -80.13254], [25.773472, -80.13254], [25.773472, -80.13254], [25.773472, -80.13254], [25.773472, -80.13254], [25.773472, -80.13254], [25.773472, -80.13254], [25.773472, -80.13254], [25.773472, -80.13254], [25.773472, -80.13254], [25.773472, -80.13254], [25.773472, -80.13254], [25.773472, -80.13254], [25.773472, -80.13254], [25.773472, -80.13254], [25.773472, -80.13254], [25.773472, -80.13254], [25.773472, -80.13254], [25.773472, -80.13254], [25.773472, -80.13254], [25.773472, -80.13254], [25.773472, -80.13254], [25.773472, -80.13254], [25.773472, -80.13254], [25.773472, -80.13254], [25.773472, -80.13254], [25.773472, -80.13254], [25.773472, -80.13254], [25.773472, -80.13254], [25.773472, -80.13254], [25.773472, -80.13254], [25.773472, -80.13254], [25.773472, -80.13254], [39.29358951, -76.61473632], [39.29358951, -76.61473632], [39.29358951, -76.61473632], [39.29358951, -76.61473632], [45.58275475, -122.5753024], [45.58275475, -122.5753024], [45.58275475, -122.5753024], [45.58275475, -122.5753024], [45.58275475, -122.5753024], [45.58275475, -122.5753024], [45.58275475, -122.5753024], [45.58275475, -122.5753024], [45.58275475, -122.5753024], [36.84725434, -75.97436696], [36.84725434, -75.97436696], [36.84725434, -75.97436696], [36.84725434, -75.97436696], [36.84725434, -75.97436696], [36.84725434, -75.97436696], [36.84725434, -75.97436696], [36.84725434, -75.97436696], [36.84725434, -75.97436696], [36.84725434, -75.97436696], [36.84725434, -75.97436696], [36.84725434, -75.97436696], [36.84725434, -75.97436696], [25.78589539, -80.13067203], [25.78589539, -80.13067203], [25.78589539, -80.13067203], [25.78589539, -80.13067203], [25.78589539, -80.13067203], [25.78589539, -80.13067203], [25.78589539, -80.13067203], [25.78589539, -80.13067203], [25.78589539, -80.13067203], [25.78589539, -80.13067203], [25.78589539, -80.13067203], [25.78589539, -80.13067203], [25.78589539, -80.13067203], [25.78589539, -80.13067203], [25.78589539, -80.13067203], [25.78589539, -80.13067203], [25.78589539, -80.13067203], [25.78589539, -80.13067203], [25.78589539, -80.13067203], [25.78589539, -80.13067203], [25.78589539, -80.13067203], [25.78589539, -80.13067203], [25.78589539, -80.13067203], [25.78589539, -80.13067203], [25.78589539, -80.13067203], [42.913564, -85.548567], [32.615604, -83.70226], [32.615604, -83.70226], [32.615604, -83.70226], [32.615604, -83.70226], [32.615604, -83.70226], [43.1531, -78.697], [43.1531, -78.697], [43.1531, -78.697], [43.1531, -78.697], [43.1531, -78.697], [36.478078, -121.727199], [36.478078, -121.727199], [36.478078, -121.727199], [36.478078, -121.727199], [36.478078, -121.727199], [36.478078, -121.727199], [36.478078, -121.727199], [36.478078, -121.727199], [42.07398, -86.42714], [30.209185, -97.75434], [38.93066, -74.92333], [38.93066, -74.92333], [38.93066, -74.92333], [33.626412, -84.452114], [33.626412, -84.452114], [33.626412, -84.452114], [33.626412, -84.452114], [33.626412, -84.452114], [33.626412, -84.452114], [33.626412, -84.452114], [33.626412, -84.452114], [33.626412, -84.452114], [33.626412, -84.452114], [33.626412, -84.452114], [33.626412, -84.452114], [33.626412, -84.452114], [33.626412, -84.452114], [33.626412, -84.452114], [33.626412, -84.452114], [33.626412, -84.452114], [33.626412, -84.452114], [33.626412, -84.452114], [33.626412, -84.452114], [33.626412, -84.452114], [33.626412, -84.452114], [33.626412, -84.452114], [33.626412, -84.452114], [33.626412, -84.452114], [33.626412, -84.452114], [33.626412, -84.452114], [33.626412, -84.452114], [33.626412, -84.452114], [33.626412, -84.452114], [39.753886, -105.22034], [39.753886, -105.22034], [39.753886, -105.22034], [39.753886, -105.22034], [41.9058, -71.059], [39.21751, -78.1398], [39.21751, -78.1398], [39.21751, -78.1398], [35.225735, -111.57411], [35.225735, -111.57411], [35.225735, -111.57411], [35.225735, -111.57411], [35.225735, -111.57411], [35.225735, -111.57411], [35.225735, -111.57411], [35.225735, -111.57411], [33.9427, -116.5013], [44.00971, -88.58434], [34.87213, -111.75775], [34.87213, -111.75775], [34.87213, -111.75775], [34.87213, -111.75775], [34.87213, -111.75775], [34.87213, -111.75775], [34.87213, -111.75775], [34.87213, -111.75775], [34.87213, -111.75775], [34.87213, -111.75775], [34.87213, -111.75775], [34.87213, -111.75775], [34.87213, -111.75775], [34.87213, -111.75775], [34.87213, -111.75775], [34.87213, -111.75775], [34.87213, -111.75775], [34.87213, -111.75775], [34.87213, -111.75775], [40.6733, -73.987], [40.6733, -73.987], [40.6733, -73.987], [32.98085, -96.70812], [28.4657, -81.4623], [28.411989, -81.466962], [28.411989, -81.466962], [28.411989, -81.466962], [28.411989, -81.466962], [28.411989, -81.466962], [28.411989, -81.466962], [28.411989, -81.466962], [28.411989, -81.466962], [28.411989, -81.466962], [28.411989, -81.466962], [37.59823, -122.068275], [37.59823, -122.068275], [37.59823, -122.068275], [37.59823, -122.068275], [37.59823, -122.068275], [39.20625, -76.69111], [39.20625, -76.69111], [39.20625, -76.69111], [39.20625, -76.69111], [39.20625, -76.69111], [39.20625, -76.69111], [39.20625, -76.69111], [39.20625, -76.69111], [39.20625, -76.69111], [39.20625, -76.69111], [39.20625, -76.69111], [39.20625, -76.69111], [39.20625, -76.69111], [39.20625, -76.69111], [39.20625, -76.69111], [39.20625, -76.69111], [39.20625, -76.69111], [39.20625, -76.69111], [39.20625, -76.69111], [39.20625, -76.69111], [39.20625, -76.69111], [39.20625, -76.69111], [39.20625, -76.69111], [39.20625, -76.69111], [39.20625, -76.69111], [39.20625, -76.69111], [40.78503, -73.445568], [40.78503, -73.445568], [40.78503, -73.445568], [40.78503, -73.445568], [40.78503, -73.445568], [40.78503, -73.445568], [27.330847, -82.59081], [27.330847, -82.59081], [27.330847, -82.59081], [27.330847, -82.59081], [27.330847, -82.59081], [27.330847, -82.59081], [27.330847, -82.59081], [27.330847, -82.59081], [27.330847, -82.59081], [27.330847, -82.59081], [27.330847, -82.59081], [27.330847, -82.59081], [27.330847, -82.59081], [27.330847, -82.59081], [27.330847, -82.59081], [27.330847, -82.59081], [27.330847, -82.59081], [27.330847, -82.59081], [27.330847, -82.59081], [27.330847, -82.59081], [27.330847, -82.59081], [27.330847, -82.59081], [32.78222137, -79.93140596], [32.78222137, -79.93140596], [32.78222137, -79.93140596], [32.78222137, -79.93140596], [32.78222137, -79.93140596], [32.78222137, -79.93140596], [32.78222137, -79.93140596], [33.12174, -96.74871], [34.43029, -119.72093], [34.43029, -119.72093], [34.43029, -119.72093], [34.43029, -119.72093], [34.43029, -119.72093], [34.43029, -119.72093], [34.43029, -119.72093], [34.43029, -119.72093], [34.43029, -119.72093], [34.43029, -119.72093], [34.418746, -119.671234], [34.418746, -119.671234], [38.959927, -119.9447], [38.959927, -119.9447], [38.959927, -119.9447], [38.959927, -119.9447], [34.5754, -82.7099], [34.5754, -82.7099], [45.51737, -122.67325], [45.51737, -122.67325], [45.51737, -122.67325], [30.398321, -97.734055], [30.398321, -97.734055], [30.398321, -97.734055], [30.398321, -97.734055], [30.398321, -97.734055], [30.398321, -97.734055], [30.398321, -97.734055], [30.398321, -97.734055], [30.3465, -95.7926], [30.3465, -95.7926], [30.3465, -95.7926], [30.3465, -95.7926], [39.77366, -104.79602], [39.77366, -104.79602], [39.77366, -104.79602], [39.77366, -104.79602], [39.77366, -104.79602], [39.77366, -104.79602], [39.77366, -104.79602], [39.77366, -104.79602], [42.15669, -87.84146], [36.86166, -76.4483], [36.86166, -76.4483], [36.86166, -76.4483], [36.86166, -76.4483], [36.86166, -76.4483], [36.86166, -76.4483], [36.86166, -76.4483], [36.86166, -76.4483], [36.86166, -76.4483], [36.86166, -76.4483], [36.86166, -76.4483], [36.86166, -76.4483], [36.86166, -76.4483], [36.86166, -76.4483], [36.86166, -76.4483], [36.86166, -76.4483], [36.86166, -76.4483], [36.86166, -76.4483], [36.86166, -76.4483], [36.86166, -76.4483], [36.86166, -76.4483], [36.86166, -76.4483], [36.86166, -76.4483], [36.86166, -76.4483], [36.86166, -76.4483], [36.86166, -76.4483], [37.11252, -76.47158], [37.11252, -76.47158], [37.11252, -76.47158], [37.11252, -76.47158], [37.11252, -76.47158], [37.11252, -76.47158], [37.11252, -76.47158], [37.11252, -76.47158], [41.44733, -74.36524], [41.44733, -74.36524], [41.44733, -74.36524], [41.44733, -74.36524], [41.44733, -74.36524], [41.44733, -74.36524], [28.9441, -81.2998], [28.9441, -81.2998], [28.9441, -81.2998], [28.9441, -81.2998], [36.22352, -86.69707], [36.22352, -86.69707], [36.22352, -86.69707], [36.22352, -86.69707], [36.22352, -86.69707], [36.22352, -86.69707], [36.22352, -86.69707], [36.22352, -86.69707], [36.22352, -86.69707], [36.22352, -86.69707], [36.22352, -86.69707], [37.75469, -121.46648], [37.75469, -121.46648], [37.39624, -122.02753], [37.39624, -122.02753], [37.39624, -122.02753], [37.39624, -122.02753], [43.486, -96.7706], [38.423534, -122.71286], [38.423534, -122.71286], [38.423534, -122.71286], [38.423534, -122.71286], [38.423534, -122.71286], [38.423534, -122.71286], [38.423534, -122.71286], [38.423534, -122.71286], [38.423534, -122.71286], [38.423534, -122.71286], [38.423534, -122.71286], [38.423534, -122.71286], [38.423534, -122.71286], [38.423534, -122.71286], [38.423534, -122.71286], [33.75663, -118.19814], [33.75663, -118.19814], [33.75663, -118.19814], [33.75663, -118.19814], [33.75663, -118.19814], [33.75663, -118.19814], [33.75663, -118.19814], [33.75663, -118.19814], [33.75663, -118.19814], [33.75663, -118.19814], [33.75663, -118.19814], [33.75663, -118.19814], [33.75663, -118.19814], [33.75663, -118.19814], [33.75663, -118.19814], [33.75663, -118.19814], [33.75663, -118.19814], [33.75663, -118.19814], [33.75663, -118.19814], [33.75663, -118.19814], [33.75663, -118.19814], [33.75663, -118.19814], [33.75663, -118.19814], [33.75663, -118.19814], [33.75663, -118.19814], [33.76733, -118.18461], [33.76733, -118.18461], [37.23938706, -76.64115071], [28.33418252, -81.5923436], [28.33418252, -81.5923436], [28.33418252, -81.5923436], [28.33418252, -81.5923436], [28.33418252, -81.5923436], [28.33418252, -81.5923436], [28.33418252, -81.5923436], [28.33418252, -81.5923436], [28.33418252, -81.5923436], [28.33418252, -81.5923436], [28.33418252, -81.5923436], [28.33418252, -81.5923436], [28.33418252, -81.5923436], [28.33418252, -81.5923436], [28.33418252, -81.5923436], [28.33418252, -81.5923436], [28.33418252, -81.5923436], [28.33418252, -81.5923436], [28.33418252, -81.5923436], [28.33418252, -81.5923436], [28.33418252, -81.5923436], [28.33418252, -81.5923436], [28.33418252, -81.5923436], [28.33418252, -81.5923436], [28.33418252, -81.5923436], [28.33418252, -81.5923436], [28.33418252, -81.5923436], [28.33418252, -81.5923436], [28.33418252, -81.5923436], [28.33418252, -81.5923436], [28.33418252, -81.5923436], [28.33418252, -81.5923436], [28.33418252, -81.5923436], [28.33418252, -81.5923436], [28.33418252, -81.5923436], [28.33418252, -81.5923436], [28.33418252, -81.5923436], [28.33418252, -81.5923436], [28.33418252, -81.5923436], [28.33418252, -81.5923436], [28.33418252, -81.5923436], [28.33418252, -81.5923436], [28.33418252, -81.5923436], [28.33418252, -81.5923436], [28.33418252, -81.5923436], [28.33418252, -81.5923436], [28.33418252, -81.5923436], [28.33418252, -81.5923436], [28.33418252, -81.5923436], [28.33418252, -81.5923436], [28.33418252, -81.5923436], [28.33418252, -81.5923436], [28.33418252, -81.5923436], [28.33418252, -81.5923436], [28.33418252, -81.5923436], [28.33418252, -81.5923436], [28.33418252, -81.5923436], [28.33418252, -81.5923436], [28.33418252, -81.5923436], [28.33418252, -81.5923436], [37.27031545, -76.6875127], [37.27031545, -76.6875127], [37.27031545, -76.6875127], [37.27031545, -76.6875127], [37.27031545, -76.6875127], [37.27031545, -76.6875127], [37.27031545, -76.6875127], [42.40432, -86.24232], [42.40432, -86.24232], [28.31166, -82.70066], [28.31166, -82.70066], [28.31166, -82.70066], [28.31166, -82.70066], [28.31166, -82.70066], [28.31166, -82.70066], [38.14463, -122.23478], [38.14463, -122.23478], [38.14463, -122.23478], [38.14463, -122.23478], [38.14463, -122.23478], [38.14463, -122.23478], [38.14463, -122.23478], [39.1657, -78.16738], [39.1657, -78.16738], [40.52118, -74.33896], [40.52118, -74.33896], [40.52118, -74.33896], [40.52118, -74.33896], [40.52118, -74.33896], [34.1329, -77.8957], [34.1329, -77.8957], [34.1329, -77.8957], [34.1329, -77.8957], [34.1329, -77.8957], [30.1928, -85.8347], [30.1928, -85.8347], [30.1928, -85.8347], [30.1928, -85.8347], [30.1928, -85.8347], [30.1928, -85.8347], [30.1928, -85.8347], [30.1928, -85.8347], [30.1928, -85.8347], [40.243557, -76.809204], [40.243557, -76.809204], [35.82713, -83.574326], [35.82713, -83.574326], [35.82713, -83.574326], [35.82713, -83.574326], [35.82713, -83.574326], [35.82713, -83.574326], [40.278137, -76.82099], [40.278137, -76.82099], [40.278137, -76.82099], [40.278137, -76.82099], [40.278137, -76.82099], [40.278137, -76.82099], [40.278137, -76.82099], [40.278137, -76.82099], [25.8053, -80.125114], [38.20142, -85.75076], [38.20142, -85.75076], [38.20142, -85.75076], [44.24869, -84.22557], [44.24869, -84.22557], [29.869452, -97.93804], [45.48883, -122.81558], [36.79312, -119.79062], [36.79312, -119.79062], [36.79312, -119.79062], [36.79312, -119.79062], [36.79312, -119.79062], [36.79312, -119.79062], [36.79312, -119.79062], [36.79312, -119.79062], [36.79312, -119.79062], [36.79312, -119.79062], [38.780296, -77.17839], [38.780296, -77.17839], [38.780296, -77.17839], [38.780296, -77.17839], [38.780296, -77.17839], [38.780296, -77.17839], [38.780296, -77.17839], [38.780296, -77.17839], [38.780296, -77.17839], [38.780296, -77.17839], [38.780296, -77.17839], [38.780296, -77.17839], [38.780296, -77.17839], [38.780296, -77.17839], [38.780296, -77.17839], [38.780296, -77.17839], [38.780296, -77.17839], [38.780296, -77.17839], [38.780296, -77.17839], [38.780296, -77.17839], [38.780296, -77.17839], [38.780296, -77.17839], [38.780296, -77.17839], [38.780296, -77.17839], [38.780296, -77.17839], [38.780296, -77.17839], [38.780296, -77.17839], [38.780296, -77.17839], [38.780296, -77.17839], [38.780296, -77.17839], [38.780296, -77.17839], [38.780296, -77.17839], [38.780296, -77.17839], [38.780296, -77.17839], [38.780296, -77.17839], [38.780296, -77.17839], [38.780296, -77.17839], [38.780296, -77.17839], [38.780296, -77.17839], [38.780296, -77.17839], [38.780296, -77.17839], [38.780296, -77.17839], [38.780296, -77.17839], [38.780296, -77.17839], [38.780296, -77.17839], [38.780296, -77.17839], [38.780296, -77.17839], [38.780296, -77.17839], [38.780296, -77.17839], [38.780296, -77.17839], [38.780296, -77.17839], [38.780296, -77.17839], [38.780296, -77.17839], [38.780296, -77.17839], [38.780296, -77.17839], [38.780296, -77.17839], [38.780296, -77.17839], [38.780296, -77.17839], [38.780296, -77.17839], [38.780296, -77.17839], [38.780296, -77.17839], [38.780296, -77.17839], [38.780296, -77.17839], [38.780296, -77.17839], [38.780296, -77.17839], [38.780296, -77.17839], [38.780296, -77.17839], [38.780296, -77.17839], [38.780296, -77.17839], [38.780296, -77.17839], [38.780296, -77.17839], [38.780296, -77.17839], [38.780296, -77.17839], [38.780296, -77.17839], [38.780296, -77.17839], [38.780296, -77.17839], [38.780296, -77.17839], [38.780296, -77.17839], [38.780296, -77.17839], [38.780296, -77.17839], [38.780296, -77.17839], [38.780296, -77.17839], [38.780296, -77.17839], [38.780296, -77.17839], [38.780296, -77.17839], [38.780296, -77.17839], [38.780296, -77.17839], [38.780296, -77.17839], [38.780296, -77.17839], [38.780296, -77.17839], [38.780296, -77.17839], [38.780296, -77.17839], [38.780296, -77.17839], [38.780296, -77.17839], [38.780296, -77.17839], [38.780296, -77.17839], [38.780296, -77.17839], [38.780296, -77.17839], [38.780296, -77.17839], [38.780296, -77.17839], [38.780296, -77.17839], [38.780296, -77.17839], [38.780296, -77.17839], [38.780296, -77.17839], [38.780296, -77.17839], [38.780296, -77.17839], [38.780296, -77.17839], [38.780296, -77.17839], [38.780296, -77.17839], [38.780296, -77.17839], [38.780296, -77.17839], [38.780296, -77.17839], [38.780296, -77.17839], [38.780296, -77.17839], [38.780296, -77.17839], [38.780296, -77.17839], [38.780296, -77.17839], [38.780296, -77.17839], [38.780296, -77.17839], [38.780296, -77.17839], [38.780296, -77.17839], [38.780296, -77.17839], [38.780296, -77.17839], [38.780296, -77.17839], [38.780296, -77.17839], [38.780296, -77.17839], [38.780296, -77.17839], [38.780296, -77.17839], [38.780296, -77.17839], [38.780296, -77.17839], [38.780296, -77.17839], [38.780296, -77.17839], [38.780296, -77.17839], [38.780296, -77.17839], [38.780296, -77.17839], [38.780296, -77.17839], [38.780296, -77.17839], [38.780296, -77.17839], [38.780296, -77.17839], [38.780296, -77.17839], [38.780296, -77.17839], [38.780296, -77.17839], [38.780296, -77.17839], [38.780296, -77.17839], [38.780296, -77.17839], [38.780296, -77.17839], [38.780296, -77.17839], [38.780296, -77.17839], [38.780296, -77.17839], [38.780296, -77.17839], [38.780296, -77.17839], [38.780296, -77.17839], [38.780296, -77.17839], [38.780296, -77.17839], [38.780296, -77.17839], [38.780296, -77.17839], [38.780296, -77.17839], [38.780296, -77.17839], [38.780296, -77.17839], [38.780296, -77.17839], [38.949986, -119.94801], [39.6901, -75.65672], [39.6901, -75.65672], [39.6901, -75.65672], [39.6901, -75.65672], [39.6901, -75.65672], [36.89303, -76.43246], [36.89303, -76.43246], [36.89303, -76.43246], [36.89303, -76.43246], [36.89303, -76.43246], [45.3366, -121.96684], [45.3366, -121.96684], [28.46289549, -81.46621674], [36.8784, -76.43851], [36.8784, -76.43851], [36.8784, -76.43851], [36.8784, -76.43851], [36.8784, -76.43851], [36.8784, -76.43851], [36.8784, -76.43851], [36.8784, -76.43851], [36.8784, -76.43851], [36.8784, -76.43851], [36.8784, -76.43851], [36.8784, -76.43851], [36.8784, -76.43851], [36.8784, -76.43851], [36.8784, -76.43851], [33.39094, -111.686], [38.06645, -78.49358], [38.06645, -78.49358], [38.06645, -78.49358], [38.06645, -78.49358], [30.33831, -95.4776], [30.33831, -95.4776], [40.83828, -74.44332], [40.83828, -74.44332], [35.91009, -78.98214], [35.91009, -78.98214], [35.91009, -78.98214], [35.91009, -78.98214], [35.91009, -78.98214], [35.91009, -78.98214], [35.91009, -78.98214], [35.91009, -78.98214], [35.91009, -78.98214], [35.91009, -78.98214], [35.0859, -106.5318], [33.65615966, -117.2940494], [33.65615966, -117.2940494], [33.65615966, -117.2940494], [41.185978, -80.453261], [41.185978, -80.453261], [41.185978, -80.453261], [41.185978, -80.453261], [41.185978, -80.453261], [38.787952, -77.06569], [38.787952, -77.06569], [38.787952, -77.06569], [38.787952, -77.06569], [38.787952, -77.06569], [38.787952, -77.06569], [38.787952, -77.06569], [35.67292, -88.80876], [35.67292, -88.80876], [35.67292, -88.80876], [35.67292, -88.80876], [35.67292, -88.80876], [35.67292, -88.80876], [35.67292, -88.80876], [35.67292, -88.80876], [39.0027, -84.64348], [35.66151, -88.85699], [38.07452, -78.47792], [33.524796, -117.082466], [33.524796, -117.082466], [33.524796, -117.082466], [33.524796, -117.082466], [33.524796, -117.082466], [45.210197, -123.19435], [45.210197, -123.19435], [45.210197, -123.19435], [45.210197, -123.19435], [45.210197, -123.19435], [45.210197, -123.19435], [45.210197, -123.19435], [45.210197, -123.19435], [32.895398, -117.203], [32.895398, -117.203], [32.895398, -117.203], [40.6497, -74.3491], [40.6497, -74.3491], [40.6497, -74.3491], [36.69994, -121.80426], [21.27171, -157.77396], [32.851774, -117.253978], [32.851774, -117.253978], [32.851774, -117.253978], [32.851774, -117.253978], [39.998386, -105.254036], [39.969, -83.001], [39.969, -83.001], [39.969, -83.001], [39.969, -83.001], [39.969, -83.001], [39.969, -83.001], [39.969, -83.001], [37.247807, -121.77403], [37.247807, -121.77403], [37.247807, -121.77403], [37.247807, -121.77403], [37.330868, -121.888196], [37.330868, -121.888196], [37.330868, -121.888196], [37.330868, -121.888196], [27.945705, -82.33861], [27.945705, -82.33861], [27.945705, -82.33861], [27.945705, -82.33861], [27.945705, -82.33861], [30.24905, -81.54092], [26.92688, -80.07808], [26.92688, -80.07808], [26.92688, -80.07808], [26.92688, -80.07808], [26.92688, -80.07808], [26.92688, -80.07808], [26.92688, -80.07808], [31.81436, -106.55177], [31.81436, -106.55177], [31.81436, -106.55177], [31.81436, -106.55177], [31.81436, -106.55177], [31.81436, -106.55177], [36.86179, -76.21451], [36.86179, -76.21451], [36.86179, -76.21451], [36.86179, -76.21451], [36.86179, -76.21451], [36.86179, -76.21451], [36.86179, -76.21451], [36.86179, -76.21451], [36.86179, -76.21451], [36.86179, -76.21451], [36.86179, -76.21451], [36.86179, -76.21451], [36.86179, -76.21451], [36.86179, -76.21451], [36.86179, -76.21451], [37.05765, -76.39331], [37.05765, -76.39331], [37.05765, -76.39331], [37.05765, -76.39331], [37.05765, -76.39331], [37.05765, -76.39331], [37.05765, -76.39331], [37.05765, -76.39331], [37.05765, -76.39331], [37.05765, -76.39331], [37.05765, -76.39331], [37.05765, -76.39331], [36.885025, -76.302155], [36.885025, -76.302155], [36.847378, -76.17861], [36.847378, -76.17861], [36.847378, -76.17861], [36.847378, -76.17861], [36.847378, -76.17861], [36.847378, -76.17861], [36.847378, -76.17861], [36.847378, -76.17861], [36.847378, -76.17861], [36.847378, -76.17861], [36.847378, -76.17861], [36.847378, -76.17861], [36.847378, -76.17861], [36.847378, -76.17861], [36.847378, -76.17861], [36.847378, -76.17861], [36.847378, -76.17861], [36.847378, -76.17861], [36.847378, -76.17861], [36.847378, -76.17861], [36.847378, -76.17861], [36.847378, -76.17861], [36.847378, -76.17861], [36.847378, -76.17861], [36.218, -86.69606], [36.218, -86.69606], [36.218, -86.69606], [36.218, -86.69606], [36.218, -86.69606], [36.218, -86.69606], [26.1786, -81.7986], [26.1786, -81.7986], [25.6956, -80.1571], [27.837679, -97.059439], [27.837679, -97.059439], [28.0131, -82.7924], [28.0131, -82.7924], [28.0131, -82.7924], [28.0131, -82.7924], [28.0131, -82.7924], [28.0131, -82.7924], [36.83303506, -76.14062366], [26.161557, -81.684862], [26.161557, -81.684862], [26.161557, -81.684862], [37.78506, -122.40479], [37.78506, -122.40479], [37.78506, -122.40479], [37.78506, -122.40479], [37.78506, -122.40479], [37.78506, -122.40479], [37.78506, -122.40479], [37.78506, -122.40479], [37.78506, -122.40479], [33.541065, -117.78296], [33.541065, -117.78296], [42.29124, -85.59354], [34.60631, -98.37788], [34.60631, -98.37788], [41.47176, -77.5044], [34.91148, -95.74688], [34.1747, -97.16602], [34.17716, -97.1654], [34.17716, -97.1654], [34.17716, -97.1654], [34.17064, -97.16348], [34.17716, -97.1654], [34.17716, -97.1654], [34.17716, -97.1654], [35.65203, -97.42866], [35.65203, -97.42866], [35.65203, -97.42866], [35.65203, -97.42866], [41.03202, -77.52054], [41.68327, -79.4136], [40.43262, -78.41421], [40.43262, -78.41421], [40.43262, -78.41421], [40.43262, -78.41421], [41.40103, -78.56155], [40.43976, -79.99244], [40.43976, -79.99244], [40.43976, -79.99244], [40.43976, -79.99244], [40.43976, -79.99244], [40.43976, -79.99244], [40.43976, -79.99244], [40.43976, -79.99244], [40.43976, -79.99244], [40.43976, -79.99244], [40.43976, -79.99244], [40.43976, -79.99244], [40.43976, -79.99244], [40.43976, -79.99244], [40.43976, -79.99244], [40.43976, -79.99244], [40.43976, -79.99244], [40.43976, -79.99244], [40.43976, -79.99244], [40.43976, -79.99244], [40.43976, -79.99244], [40.43976, -79.99244], [40.46572, -80.19868], [40.46572, -80.19868], [40.46572, -80.19868], [40.46572, -80.19868], [40.46572, -80.19868], [40.46572, -80.19868], [40.46572, -80.19868], [40.46572, -80.19868], [40.44665, -80.00914], [40.44665, -80.00914], [40.59387, -79.16167], [30.216843, -93.37432], [30.216843, -93.37432], [38.65239, -85.12469], [36.59189, -87.28634], [43.65524, -93.33518], [38.79585, -82.98497], [38.79585, -82.98497], [38.79585, -82.98497], [34.91567, -95.31804], [38.77048, -76.06043], [40.04935, -78.63733], [40.04935, -78.63733], [40.04935, -78.63733], [33.46679, -94.06752], [33.46679, -94.06752], [27.88269, -98.61365], [30.914852, -101.90482], [31.8107, -94.19453], [32.37517, -98.96811], [34.98018, -101.91008], [34.98018, -101.91008], [34.98018, -101.91008], [34.98018, -101.91008], [34.98018, -101.91008], [34.98018, -101.91008], [34.98018, -101.91008], [34.98018, -101.91008], [34.98018, -101.91008], [31.72303, -99.96092], [31.07443, -94.02309], [31.28933, -94.72938], [29.72029, -98.12683], [29.72029, -98.12683], [32.41263, -99.77331], [32.41263, -99.77331], [32.41263, -99.77331], [32.41263, -99.77331], [31.50932, -97.14415], [31.50932, -97.14415], [31.50932, -97.14415], [32.28743, -95.3002], [32.28743, -95.3002], [32.28743, -95.3002], [35.18889, -101.88008], [35.18889, -101.88008], [27.563017, -99.50086], [27.563017, -99.50086], [43.6569, -70.25256], [43.6569, -70.25256], [43.6569, -70.25256], [43.6569, -70.25256], [43.6569, -70.25256], [43.6569, -70.25256], [43.6569, -70.25256], [43.6569, -70.25256], [43.6569, -70.25256], [43.6569, -70.25256], [43.6569, -70.25256], [43.6569, -70.25256], [43.6569, -70.25256], [43.6569, -70.25256], [43.6569, -70.25256], [43.6569, -70.25256], [43.6569, -70.25256], [43.6569, -70.25256], [33.78676, -84.38549], [33.78676, -84.38549], [33.78676, -84.38549], [33.78676, -84.38549], [33.78676, -84.38549], [44.26372, -88.469444], [36.851, -75.9755], [36.851, -75.9755], [36.851, -75.9755], [36.851, -75.9755], [36.851, -75.9755], [37.416336, -122.12852], [37.416336, -122.12852], [37.416336, -122.12852], [37.416336, -122.12852], [37.416336, -122.12852], [28.376, -81.5227], [28.376, -81.5227], [28.376, -81.5227], [28.376, -81.5227], [28.376, -81.5227], [28.376, -81.5227], [28.376, -81.5227], [28.376, -81.5227], [28.376, -81.5227], [28.376, -81.5227], [28.376, -81.5227], [28.376, -81.5227], [28.376, -81.5227], [28.376, -81.5227], [28.376, -81.5227], [47.062, -122.762], [47.062, -122.762], [47.062, -122.762], [47.062, -122.762], [47.062, -122.762], [47.062, -122.762], [47.062, -122.762], [47.062, -122.762], [36.84389, -76.18672], [36.84389, -76.18672], [36.84389, -76.18672], [36.84389, -76.18672], [36.84389, -76.18672], [36.84389, -76.18672], [36.84389, -76.18672], [36.84389, -76.18672], [36.84389, -76.18672], [36.84389, -76.18672], [36.84389, -76.18672], [36.84389, -76.18672], [36.84389, -76.18672], [36.84389, -76.18672], [36.84389, -76.18672], [36.84389, -76.18672], [36.84389, -76.18672], [36.84389, -76.18672], [36.84389, -76.18672], [36.84389, -76.18672], [36.84389, -76.18672], [36.84389, -76.18672], [36.84389, -76.18672], [36.84389, -76.18672], [36.84389, -76.18672], [36.84389, -76.18672], [36.84389, -76.18672], [36.84389, -76.18672], [36.84389, -76.18672], [36.84389, -76.18672], [36.84389, -76.18672], [36.84389, -76.18672], [36.84389, -76.18672], [36.84389, -76.18672], [36.84389, -76.18672], [36.84389, -76.18672], [36.84389, -76.18672], [36.84389, -76.18672], [36.84389, -76.18672], [36.84389, -76.18672], [36.84389, -76.18672], [36.84389, -76.18672], [36.84389, -76.18672], [36.84389, -76.18672], [36.84389, -76.18672], [36.84389, -76.18672], [37.03557, -76.39673], [37.03557, -76.39673], [37.03557, -76.39673], [37.03557, -76.39673], [37.03557, -76.39673], [37.03557, -76.39673], [37.03557, -76.39673], [37.03557, -76.39673], [37.03557, -76.39673], [37.03557, -76.39673], [37.03557, -76.39673], [37.03557, -76.39673], [37.03557, -76.39673], [37.03557, -76.39673], [37.03557, -76.39673], [37.03557, -76.39673], [37.03557, -76.39673], [37.03557, -76.39673], [37.03557, -76.39673], [37.03557, -76.39673], [37.03557, -76.39673], [37.03557, -76.39673], [37.03557, -76.39673], [37.03557, -76.39673], [37.03557, -76.39673], [37.03557, -76.39673], [37.03557, -76.39673], [40.6846, -74.1939], [40.6846, -74.1939], [40.6846, -74.1939], [40.6846, -74.1939], [40.6846, -74.1939], [40.6846, -74.1939], [40.6846, -74.1939], [38.2227, -122.1251], [38.2227, -122.1251], [38.2227, -122.1251], [38.2227, -122.1251], [38.2227, -122.1251], [33.795852, -78.75178], [33.795852, -78.75178], [33.795852, -78.75178], [33.795852, -78.75178], [33.795852, -78.75178], [33.795852, -78.75178], [33.795852, -78.75178], [32.479057, -111.0887], [32.479057, -111.0887], [32.479057, -111.0887], [32.479057, -111.0887], [32.479057, -111.0887], [32.479057, -111.0887], [32.479057, -111.0887], [32.479057, -111.0887], [32.479057, -111.0887], [32.479057, -111.0887], [32.479057, -111.0887], [32.479057, -111.0887], [25.983257, -80.34731], [25.983257, -80.34731], [38.86135, -77.0527], [38.86135, -77.0527], [38.86135, -77.0527], [38.86135, -77.0527], [38.86135, -77.0527], [38.86135, -77.0527], [38.86135, -77.0527], [38.86135, -77.0527], [38.86135, -77.0527], [38.86135, -77.0527], [38.86135, -77.0527], [38.86135, -77.0527], [38.86135, -77.0527], [38.86135, -77.0527], [38.86135, -77.0527], [38.86135, -77.0527], [38.86135, -77.0527], [38.86135, -77.0527], [38.86135, -77.0527], [38.86135, -77.0527], [38.86135, -77.0527], [38.86135, -77.0527], [38.86135, -77.0527], [38.86135, -77.0527], [38.86135, -77.0527], [38.86135, -77.0527], [38.86135, -77.0527], [38.86135, -77.0527], [38.86135, -77.0527], [38.86135, -77.0527], [38.86135, -77.0527], [38.86135, -77.0527], [38.86135, -77.0527], [38.86135, -77.0527], [38.86135, -77.0527], [38.86135, -77.0527], [38.86135, -77.0527], [38.86135, -77.0527], [38.86135, -77.0527], [38.86135, -77.0527], [38.86135, -77.0527], [38.86135, -77.0527], [38.86135, -77.0527], [38.86135, -77.0527], [38.86135, -77.0527], [38.86135, -77.0527], [38.86135, -77.0527], [38.86135, -77.0527], [38.86135, -77.0527], [38.86135, -77.0527], [38.86135, -77.0527], [38.86135, -77.0527], [38.86135, -77.0527], [38.86135, -77.0527], [38.86135, -77.0527], [38.86135, -77.0527], [38.86135, -77.0527], [38.86135, -77.0527], [38.86135, -77.0527], [38.86135, -77.0527], [38.86135, -77.0527], [38.86135, -77.0527], [38.86135, -77.0527], [38.86135, -77.0527], [38.86135, -77.0527], [38.86135, -77.0527], [38.86135, -77.0527], [38.86135, -77.0527], [38.86135, -77.0527], [38.86135, -77.0527], [38.86135, -77.0527], [38.86135, -77.0527], [38.86135, -77.0527], [38.86135, -77.0527], [38.86135, -77.0527], [38.86135, -77.0527], [38.86135, -77.0527], [38.86135, -77.0527], [38.86135, -77.0527], [38.86135, -77.0527], [38.86135, -77.0527], [38.86135, -77.0527], [38.86135, -77.0527], [38.8629, -77.0611], [38.8629, -77.0611], [38.8629, -77.0611], [38.8629, -77.0611], [38.8629, -77.0611], [38.8629, -77.0611], [38.8629, -77.0611], [38.8629, -77.0611], [38.8629, -77.0611], [38.8629, -77.0611], [38.8629, -77.0611], [38.8629, -77.0611], [38.8629, -77.0611], [38.8629, -77.0611], [38.8629, -77.0611], [38.8629, -77.0611], [38.8629, -77.0611], [38.8629, -77.0611], [38.8629, -77.0611], [38.8629, -77.0611], [38.8629, -77.0611], [38.8629, -77.0611], [38.8629, -77.0611], [38.8629, -77.0611], [38.8629, -77.0611], [38.8629, -77.0611], [38.8629, -77.0611], [38.8629, -77.0611], [38.8629, -77.0611], [38.8629, -77.0611], [38.8629, -77.0611], [38.8629, -77.0611], [38.8629, -77.0611], [38.8629, -77.0611], [38.961701, -76.863145], [38.961701, -76.863145], [38.961701, -76.863145], [38.961701, -76.863145], [38.961701, -76.863145], [38.961701, -76.863145], [38.961701, -76.863145], [38.961701, -76.863145], [38.961701, -76.863145], [38.961701, -76.863145], [38.961701, -76.863145], [38.961701, -76.863145], [38.961701, -76.863145], [38.961701, -76.863145], [38.961701, -76.863145], [38.961701, -76.863145], [38.961701, -76.863145], [38.961701, -76.863145], [38.961701, -76.863145], [38.961701, -76.863145], [38.961701, -76.863145], [38.961701, -76.863145], [38.961701, -76.863145], [38.961701, -76.863145], [38.961701, -76.863145], [38.961701, -76.863145], [38.961701, -76.863145], [38.961701, -76.863145], [38.961701, -76.863145], [38.961701, -76.863145], [38.961701, -76.863145], [38.961701, -76.863145], [38.961701, -76.863145], [38.961701, -76.863145], [38.961701, -76.863145], [38.961701, -76.863145], [38.961701, -76.863145], [38.961701, -76.863145], [38.961701, -76.863145], [38.961701, -76.863145], [38.961701, -76.863145], [38.961701, -76.863145], [38.961701, -76.863145], [38.961701, -76.863145], [38.961701, -76.863145], [38.961701, -76.863145], [38.961701, -76.863145], [38.961701, -76.863145], [38.961701, -76.863145], [38.961701, -76.863145], [38.961701, -76.863145], [38.961701, -76.863145], [38.961701, -76.863145], [38.961701, -76.863145], [38.961701, -76.863145], [38.961701, -76.863145], [38.961701, -76.863145], [38.961701, -76.863145], [38.961701, -76.863145], [38.961701, -76.863145], [38.961701, -76.863145], [38.961701, -76.863145], [36.84344, -76.1831], [36.84344, -76.1831], [36.84344, -76.1831], [36.84344, -76.1831], [36.84344, -76.1831], [36.84344, -76.1831], [36.84344, -76.1831], [36.84344, -76.1831], [36.84344, -76.1831], [36.84344, -76.1831], [36.84344, -76.1831], [36.84344, -76.1831], [36.84344, -76.1831], [36.84344, -76.1831], [36.84344, -76.1831], [36.84344, -76.1831], [36.84344, -76.1831], [36.84344, -76.1831], [36.84344, -76.1831], [39.28802, -76.6124], [39.28802, -76.6124], [39.28802, -76.6124], [39.28802, -76.6124], [39.28802, -76.6124], [39.28802, -76.6124], [39.28802, -76.6124], [39.28802, -76.6124], [39.28802, -76.6124], [39.28802, -76.6124], [39.28802, -76.6124], [39.28802, -76.6124], [39.28802, -76.6124], [39.28802, -76.6124], [39.28802, -76.6124], [39.28802, -76.6124], [39.28802, -76.6124], [39.28802, -76.6124], [39.28802, -76.6124], [39.28802, -76.6124], [39.28802, -76.6124], [39.28802, -76.6124], [39.28802, -76.6124], [39.28802, -76.6124], [39.28802, -76.6124], [39.28802, -76.6124], [39.28802, -76.6124], [39.28802, -76.6124], [39.28802, -76.6124], [39.28802, -76.6124], [39.28802, -76.6124], [39.28802, -76.6124], [36.843178, -76.184326], [36.843178, -76.184326], [36.843178, -76.184326], [36.843178, -76.184326], [36.843178, -76.184326], [36.843178, -76.184326], [36.843178, -76.184326], [36.843178, -76.184326], [36.843178, -76.184326], [36.843178, -76.184326], [36.843178, -76.184326], [36.843178, -76.184326], [36.843178, -76.184326], [36.843178, -76.184326], [36.843178, -76.184326], [36.843178, -76.184326], [36.843178, -76.184326], [36.843178, -76.184326], [36.843178, -76.184326], [36.843178, -76.184326], [36.843178, -76.184326], [36.843178, -76.184326], [36.843178, -76.184326], [36.843178, -76.184326], [36.843178, -76.184326], [36.843178, -76.184326], [36.843178, -76.184326], [36.843178, -76.184326], [36.843178, -76.184326], [36.843178, -76.184326], [36.843178, -76.184326], [36.843178, -76.184326], [36.843178, -76.184326], [36.843178, -76.184326], [36.843178, -76.184326], [36.843178, -76.184326], [36.843178, -76.184326], [36.843178, -76.184326], [36.843178, -76.184326], [36.843178, -76.184326], [36.843178, -76.184326], [36.843178, -76.184326], [36.843178, -76.184326], [36.843178, -76.184326], [36.843178, -76.184326], [36.843178, -76.184326], [36.843178, -76.184326], [36.843178, -76.184326], [36.843178, -76.184326], [36.843178, -76.184326], [36.843178, -76.184326], [36.843178, -76.184326], [36.843178, -76.184326], [36.843178, -76.184326], [36.843178, -76.184326], [36.843178, -76.184326], [36.843178, -76.184326], [36.843178, -76.184326], [36.843178, -76.184326], [36.843178, -76.184326], [40.7868, -74.043], [40.7868, -74.043], [40.7868, -74.043], [40.7868, -74.043], [26.44, -82.0396], [26.44, -82.0396], [26.44, -82.0396], [26.44, -82.0396], [26.44, -82.0396], [26.44, -82.0396], [26.44, -82.0396], [26.44, -82.0396], [39.2316, -76.81383], [39.2316, -76.81383], [39.2316, -76.81383], [39.2316, -76.81383], [39.2316, -76.81383], [39.2316, -76.81383], [39.2316, -76.81383], [39.2316, -76.81383], [39.2316, -76.81383], [39.2316, -76.81383], [39.2316, -76.81383], [39.2316, -76.81383], [39.2316, -76.81383], [39.2316, -76.81383], [39.2316, -76.81383], [39.2316, -76.81383], [39.2316, -76.81383], [39.2316, -76.81383], [39.2316, -76.81383], [39.2316, -76.81383], [39.2316, -76.81383], [39.2316, -76.81383], [39.2316, -76.81383], [39.2316, -76.81383], [39.2316, -76.81383], [39.2316, -76.81383], [39.2316, -76.81383], [39.2316, -76.81383], [39.2316, -76.81383], [35.44268, -82.264175], [35.44268, -82.264175], [35.44268, -82.264175], [35.44268, -82.264175], [35.44268, -82.264175], [35.44268, -82.264175], [35.44268, -82.264175], [35.44268, -82.264175], [33.1828, -97.1001], [33.1828, -97.1001], [33.1828, -97.1001], [33.1828, -97.1001], [33.1828, -97.1001], [41.07905, -75.77149], [41.07905, -75.77149], [42.488655, -71.116585], [42.488655, -71.116585], [42.488655, -71.116585], [42.488655, -71.116585], [42.488655, -71.116585], [42.488655, -71.116585], [42.488655, -71.116585], [42.488655, -71.116585], [42.488655, -71.116585], [42.488655, -71.116585], [42.488655, -71.116585], [42.488655, -71.116585], [40.1852, -77.2299], [34.032859, -84.573784], [34.032859, -84.573784], [34.032859, -84.573784], [34.032859, -84.573784], [41.5961, -82.7249], [37.39372, -76.52547], [37.39372, -76.52547], [37.39372, -76.52547], [37.39372, -76.52547], [37.39372, -76.52547], [37.39372, -76.52547], [37.39372, -76.52547], [37.39372, -76.52547], [37.39372, -76.52547], [37.39372, -76.52547], [37.39372, -76.52547], [37.39372, -76.52547], [37.39372, -76.52547], [37.39372, -76.52547], [37.39372, -76.52547], [37.39372, -76.52547], [37.39372, -76.52547], [37.39372, -76.52547], [37.39372, -76.52547], [37.39372, -76.52547], [39.17304, -76.73313], [39.17304, -76.73313], [39.17304, -76.73313], [39.17304, -76.73313], [39.17304, -76.73313], [39.17304, -76.73313], [39.17304, -76.73313], [39.17304, -76.73313], [39.17304, -76.73313], [39.17304, -76.73313], [39.17304, -76.73313], [39.17304, -76.73313], [39.17304, -76.73313], [39.17304, -76.73313], [39.17304, -76.73313], [39.17304, -76.73313], [39.17304, -76.73313], [39.17304, -76.73313], [39.17304, -76.73313], [39.17304, -76.73313], [39.17304, -76.73313], [39.17304, -76.73313], [39.17304, -76.73313], [39.17304, -76.73313], [39.17304, -76.73313], [39.17304, -76.73313], [39.17304, -76.73313], [39.17304, -76.73313], [39.17304, -76.73313], [39.17304, -76.73313], [39.17304, -76.73313], [39.17304, -76.73313], [39.17304, -76.73313], [39.17304, -76.73313], [39.17304, -76.73313], [39.17304, -76.73313], [39.17304, -76.73313], [39.17304, -76.73313], [39.17304, -76.73313], [39.17304, -76.73313], [39.17304, -76.73313], [39.17304, -76.73313], [39.17304, -76.73313], [39.17304, -76.73313], [39.17304, -76.73313], [39.17304, -76.73313], [39.17304, -76.73313], [39.17304, -76.73313], [39.17304, -76.73313], [39.17304, -76.73313], [39.17304, -76.73313], [39.17304, -76.73313], [39.17304, -76.73313], [39.17304, -76.73313], [39.17304, -76.73313], [39.17304, -76.73313], [39.17304, -76.73313], [39.17304, -76.73313], [39.17304, -76.73313], [39.17304, -76.73313], [39.17304, -76.73313], [39.17304, -76.73313], [39.17304, -76.73313], [39.17304, -76.73313], [39.17304, -76.73313], [39.17304, -76.73313], [39.17304, -76.73313], [39.17304, -76.73313], [39.17304, -76.73313], [39.17304, -76.73313], [39.17304, -76.73313], [39.17304, -76.73313], [39.17304, -76.73313], [39.17304, -76.73313], [39.17304, -76.73313], [39.17304, -76.73313], [39.17304, -76.73313], [39.17304, -76.73313], [39.17304, -76.73313], [39.17304, -76.73313], [39.17304, -76.73313], [39.17304, -76.73313], [39.17304, -76.73313], [39.17304, -76.73313], [39.17304, -76.73313], [39.17304, -76.73313], [39.17304, -76.73313], [38.76982, -77.17879], [38.76982, -77.17879], [38.76982, -77.17879], [38.76982, -77.17879], [38.76982, -77.17879], [38.76982, -77.17879], [38.76982, -77.17879], [38.76982, -77.17879], [38.76982, -77.17879], [38.76982, -77.17879], [38.76982, -77.17879], [38.76982, -77.17879], [38.76982, -77.17879], [38.76982, -77.17879], [38.76982, -77.17879], [38.76982, -77.17879], [38.76982, -77.17879], [38.76982, -77.17879], [36.856945, -75.97713], [36.856945, -75.97713], [36.856945, -75.97713], [36.856945, -75.97713], [36.856945, -75.97713], [36.856945, -75.97713], [36.856945, -75.97713], [36.856945, -75.97713], [36.856945, -75.97713], [36.856945, -75.97713], [36.856945, -75.97713], [36.856945, -75.97713], [36.856945, -75.97713], [36.856945, -75.97713], [36.856945, -75.97713], [36.856945, -75.97713], [36.856945, -75.97713], [36.856945, -75.97713], [36.856945, -75.97713], [36.856945, -75.97713], [36.856945, -75.97713], [36.856945, -75.97713], [36.856945, -75.97713], [36.856945, -75.97713], [36.856945, -75.97713], [36.856945, -75.97713], [36.856945, -75.97713], [36.856945, -75.97713], [36.856945, -75.97713], [36.856945, -75.97713], [36.856945, -75.97713], [36.856945, -75.97713], [36.856945, -75.97713], [36.856945, -75.97713], [36.856945, -75.97713], [36.856945, -75.97713], [36.856945, -75.97713], [36.856945, -75.97713], [36.856945, -75.97713], [36.856945, -75.97713], [36.856945, -75.97713], [36.856945, -75.97713], [36.856945, -75.97713], [36.856945, -75.97713], [36.856945, -75.97713], [36.856945, -75.97713], [36.856945, -75.97713], [36.856945, -75.97713], [36.856945, -75.97713], [36.856945, -75.97713], [36.856945, -75.97713], [36.856945, -75.97713], [36.856945, -75.97713], [36.856945, -75.97713], [36.856945, -75.97713], [36.856945, -75.97713], [36.856945, -75.97713], [36.856945, -75.97713], [36.856945, -75.97713], [36.84888, -75.97483], [36.84888, -75.97483], [36.84888, -75.97483], [36.84888, -75.97483], [36.84888, -75.97483], [36.84888, -75.97483], [36.84888, -75.97483], [36.84888, -75.97483], [36.84888, -75.97483], [36.84888, -75.97483], [36.84888, -75.97483], [36.84888, -75.97483], [37.03713, -76.387085], [37.03713, -76.387085], [37.03713, -76.387085], [37.03713, -76.387085], [37.03713, -76.387085], [37.03713, -76.387085], [37.03713, -76.387085], [37.03713, -76.387085], [37.03713, -76.387085], [37.03713, -76.387085], [37.03713, -76.387085], [39.17615, -76.84514], [39.17615, -76.84514], [39.17615, -76.84514], [39.17615, -76.84514], [39.17615, -76.84514], [39.17615, -76.84514], [39.17615, -76.84514], [39.17615, -76.84514], [39.17615, -76.84514], [39.17615, -76.84514], [39.17615, -76.84514], [39.17615, -76.84514], [39.17615, -76.84514], [39.17615, -76.84514], [39.17615, -76.84514], [39.17615, -76.84514], [39.17615, -76.84514], [38.957893, -76.86916], [38.957893, -76.86916], [38.957893, -76.86916], [38.957893, -76.86916], [38.957893, -76.86916], [38.957893, -76.86916], [38.957893, -76.86916], [38.957893, -76.86916], [38.957893, -76.86916], [38.957893, -76.86916], [38.957893, -76.86916], [38.957893, -76.86916], [38.957893, -76.86916], [38.957893, -76.86916], [38.957893, -76.86916], [38.957893, -76.86916], [38.957893, -76.86916], [38.957893, -76.86916], [38.957893, -76.86916], [38.957893, -76.86916], [38.957893, -76.86916], [38.957893, -76.86916], [38.957893, -76.86916], [38.957893, -76.86916], [38.957893, -76.86916], [38.957893, -76.86916], [38.957893, -76.86916], [38.957893, -76.86916], [38.957893, -76.86916], [38.957893, -76.86916], [38.957893, -76.86916], [38.957893, -76.86916], [38.957893, -76.86916], [38.957893, -76.86916], [38.957893, -76.86916], [38.957893, -76.86916], [38.957893, -76.86916], [38.957893, -76.86916], [38.957893, -76.86916], [38.957893, -76.86916], [38.957893, -76.86916], [38.957893, -76.86916], [38.957893, -76.86916], [38.957893, -76.86916], [38.957893, -76.86916], [38.957893, -76.86916], [38.957893, -76.86916], [38.957893, -76.86916], [38.957893, -76.86916], [38.957893, -76.86916], [38.957893, -76.86916], [38.957893, -76.86916], [38.957893, -76.86916], [38.957893, -76.86916], [38.957893, -76.86916], [38.957893, -76.86916], [38.957893, -76.86916], [38.957893, -76.86916], [38.957893, -76.86916], [38.957893, -76.86916], [38.957893, -76.86916], [38.957893, -76.86916], [38.957893, -76.86916], [38.957893, -76.86916], [38.957893, -76.86916], [38.957893, -76.86916], [38.957893, -76.86916], [38.957893, -76.86916], [38.957893, -76.86916], [38.957893, -76.86916], [38.957893, -76.86916], [38.957893, -76.86916], [38.957893, -76.86916], [38.957893, -76.86916], [38.957893, -76.86916], [38.957893, -76.86916], [38.957893, -76.86916], [38.957893, -76.86916], [38.957893, -76.86916], [38.957893, -76.86916], [38.957893, -76.86916], [38.957893, -76.86916], [38.957893, -76.86916], [38.957893, -76.86916], [38.957893, -76.86916], [38.957893, -76.86916], [38.957893, -76.86916], [38.957893, -76.86916], [38.957893, -76.86916], [38.957893, -76.86916], [38.957893, -76.86916], [38.957893, -76.86916], [38.957893, -76.86916], [38.957893, -76.86916], [38.957893, -76.86916], [38.957893, -76.86916], [38.957893, -76.86916], [38.957893, -76.86916], [38.957893, -76.86916], [38.957893, -76.86916], [38.957893, -76.86916], [38.957893, -76.86916], [38.957893, -76.86916], [38.957893, -76.86916], [38.957893, -76.86916], [38.957893, -76.86916], [38.957893, -76.86916], [38.957893, -76.86916], [38.957893, -76.86916], [38.957893, -76.86916], [38.957893, -76.86916], [38.957893, -76.86916], [38.957893, -76.86916], [38.957893, -76.86916], [38.957893, -76.86916], [38.957893, -76.86916], [38.957893, -76.86916], [38.957893, -76.86916], [38.957893, -76.86916], [38.957893, -76.86916], [38.957893, -76.86916], [38.957893, -76.86916], [38.957893, -76.86916], [38.957893, -76.86916], [38.957893, -76.86916], [38.957893, -76.86916], [38.957893, -76.86916], [38.957893, -76.86916], [38.957893, -76.86916], [38.957893, -76.86916], [38.957893, -76.86916], [38.957893, -76.86916], [38.957893, -76.86916], [38.957893, -76.86916], [38.957893, -76.86916], [38.957893, -76.86916], [38.957893, -76.86916], [38.957893, -76.86916], [38.957893, -76.86916], [38.957893, -76.86916], [38.957893, -76.86916], [38.957893, -76.86916], [38.957893, -76.86916], [38.957893, -76.86916], [38.957893, -76.86916], [38.957893, -76.86916], [38.957893, -76.86916], [38.957893, -76.86916], [38.957893, -76.86916], [38.957893, -76.86916], [38.957893, -76.86916], [38.957893, -76.86916], [38.957893, -76.86916], [38.957893, -76.86916], [38.957893, -76.86916], [38.957893, -76.86916], [38.957893, -76.86916], [38.957893, -76.86916], [38.957893, -76.86916], [38.957893, -76.86916], [38.957893, -76.86916], [38.957893, -76.86916], [38.957893, -76.86916], [38.957893, -76.86916], [38.957893, -76.86916], [38.957893, -76.86916], [38.957893, -76.86916], [38.957893, -76.86916], [38.957893, -76.86916], [38.957893, -76.86916], [38.957893, -76.86916], [38.957893, -76.86916], [38.957893, -76.86916], [38.957893, -76.86916], [38.957893, -76.86916], [38.957893, -76.86916], [38.957893, -76.86916], [38.957893, -76.86916], [38.957893, -76.86916], [38.957893, -76.86916], [38.957893, -76.86916], [38.957893, -76.86916], [38.957893, -76.86916], [38.957893, -76.86916], [38.957893, -76.86916], [38.957893, -76.86916], [38.957893, -76.86916], [38.957893, -76.86916], [38.957893, -76.86916], [38.957893, -76.86916], [38.957893, -76.86916], [38.957893, -76.86916], [38.957893, -76.86916], [38.957893, -76.86916], [38.957893, -76.86916], [38.957893, -76.86916], [38.957893, -76.86916], [38.957893, -76.86916], [38.957893, -76.86916], [38.957893, -76.86916], [38.957893, -76.86916], [38.957893, -76.86916], [38.81712, -77.139534], [38.81712, -77.139534], [38.81712, -77.139534], [38.81712, -77.139534], [38.81712, -77.139534], [38.81712, -77.139534], [38.81712, -77.139534], [38.81712, -77.139534], [37.528902, -75.832143], [37.528902, -75.832143], [37.528902, -75.832143], [37.528902, -75.832143], [37.528902, -75.832143], [37.528902, -75.832143], [38.53535, -76.58334], [38.53535, -76.58334], [38.53535, -76.58334], [38.53535, -76.58334], [38.53535, -76.58334], [38.53535, -76.58334], [38.53535, -76.58334], [38.53535, -76.58334], [38.53535, -76.58334], [38.53535, -76.58334], [38.53535, -76.58334], [38.53535, -76.58334], [38.53535, -76.58334], [38.53535, -76.58334], [38.53535, -76.58334], [38.53535, -76.58334], [38.53535, -76.58334], [38.53535, -76.58334], [38.53535, -76.58334], [38.53535, -76.58334], [38.53535, -76.58334], [38.53535, -76.58334], [38.89089, -77.07386], [38.89089, -77.07386], [38.89089, -77.07386], [38.89089, -77.07386], [38.89089, -77.07386], [38.89089, -77.07386], [38.89089, -77.07386], [38.89089, -77.07386], [38.89089, -77.07386], [38.89089, -77.07386], [38.89089, -77.07386], [38.89089, -77.07386], [38.89089, -77.07386], [38.89089, -77.07386], [38.89089, -77.07386], [38.89089, -77.07386], [38.89089, -77.07386], [38.89089, -77.07386], [38.89089, -77.07386], [38.89089, -77.07386], [38.89089, -77.07386], [38.89089, -77.07386], [38.89089, -77.07386], [38.89089, -77.07386], [38.89089, -77.07386], [38.89089, -77.07386], [38.89089, -77.07386], [38.89089, -77.07386], [38.89089, -77.07386], [38.89089, -77.07386], [38.89089, -77.07386], [38.89089, -77.07386], [38.89089, -77.07386], [38.89089, -77.07386], [38.89089, -77.07386], [38.89089, -77.07386], [38.89089, -77.07386], [38.89089, -77.07386], [38.89089, -77.07386], [38.89089, -77.07386], [38.89089, -77.07386], [38.89089, -77.07386], [38.89089, -77.07386], [38.89089, -77.07386], [38.89089, -77.07386], [38.89089, -77.07386], [38.89089, -77.07386], [38.89089, -77.07386], [38.89089, -77.07386], [38.89089, -77.07386], [38.89089, -77.07386], [38.89089, -77.07386], [38.89089, -77.07386], [38.89089, -77.07386], [38.89089, -77.07386], [38.89089, -77.07386], [38.89089, -77.07386], [38.89089, -77.07386], [38.89089, -77.07386], [38.89089, -77.07386], [38.89089, -77.07386], [38.89089, -77.07386], [38.89089, -77.07386], [38.89089, -77.07386], [38.89089, -77.07386], [38.89089, -77.07386], [38.89089, -77.07386], [38.89089, -77.07386], [38.89089, -77.07386], [38.89089, -77.07386], [38.89089, -77.07386], [38.89089, -77.07386], [38.89089, -77.07386], [38.89089, -77.07386], [38.89089, -77.07386], [38.89089, -77.07386], [38.89089, -77.07386], [38.89089, -77.07386], [38.89089, -77.07386], [38.89089, -77.07386], [38.89089, -77.07386], [38.89089, -77.07386], [38.89089, -77.07386], [38.89089, -77.07386], [38.89089, -77.07386], [38.89089, -77.07386], [37.92551, -75.35489], [37.92551, -75.35489], [37.92551, -75.35489], [37.92551, -75.35489], [37.92551, -75.35489], [37.92551, -75.35489], [37.92551, -75.35489], [37.92551, -75.35489], [37.92551, -75.35489], [37.92551, -75.35489], [37.92551, -75.35489], [37.92551, -75.35489], [37.92551, -75.35489], [35.478893, -81.23537], [36.9675, -81.0639], [36.9675, -81.0639], [26.195913, -81.800545], [26.195913, -81.800545], [26.195913, -81.800545], [26.195913, -81.800545], [26.195913, -81.800545], [26.195913, -81.800545], [26.195913, -81.800545], [33.47507, -94.0337], [36.38783, -93.73462], [36.01048, -95.88421], [36.01048, -95.88421], [36.01048, -95.88421], [36.01048, -95.88421], [36.01048, -95.88421], [27.9667, -82.5495], [27.9667, -82.5495], [27.9667, -82.5495], [27.9667, -82.5495], [27.9667, -82.5495], [27.9667, -82.5495], [27.9667, -82.5495], [27.9667, -82.5495], [27.9667, -82.5495], [27.9667, -82.5495], [27.9667, -82.5495], [44.643402, -121.13107], [44.643402, -121.13107], [44.643402, -121.13107], [44.643402, -121.13107], [44.643402, -121.13107], [37.40374, -102.61666], [41.69533, -72.70536], [36.9469, -81.05391], [36.9469, -81.05391], [36.9469, -81.05391], [36.70791, -107.98583], [36.70791, -107.98583], [36.70791, -107.98583], [36.70791, -107.98583], [36.70791, -107.98583], [39.73977, -104.88174], [33.6764, -78.898], [38.32658, -75.61477], [38.32658, -75.61477], [38.32658, -75.61477], [30.21622, -81.51163], [30.21622, -81.51163], [30.21622, -81.51163], [30.21622, -81.51163], [30.21622, -81.51163], [30.21622, -81.51163], [44.3226, -124.1019], [44.3226, -124.1019], [44.3226, -124.1019], [44.3226, -124.1019], [44.3226, -124.1019], [33.71028, -116.23897], [33.71028, -116.23897], [41.557503, -72.64734], [41.557503, -72.64734], [41.557503, -72.64734], [39.164024, -86.535065], [35.08876, -80.88061], [35.08876, -80.88061], [36.89166, -89.53029], [36.89166, -89.53029], [36.89166, -89.53029], [36.89166, -89.53029], [34.66222, -77.03402], [34.66222, -77.03402], [38.91786, -90.16267], [38.91786, -90.16267], [38.91786, -90.16267], [38.91786, -90.16267], [38.91786, -90.16267], [38.91786, -90.16267], [38.91786, -90.16267], [29.46206, -98.62104], [33.08878, -96.80627], [33.08878, -96.80627], [33.08878, -96.80627], [33.08878, -96.80627], [33.08878, -96.80627], [33.08878, -96.80627], [38.546457, -122.809174], [38.546457, -122.809174], [38.4029, -122.3603], [38.4029, -122.3603], [38.4029, -122.3603], [38.4029, -122.3603], [38.4029, -122.3603], [38.4029, -122.3603], [34.0587, -118.2739], [34.0587, -118.2739], [34.0587, -118.2739], [43.54667, -109.66234], [41.11645, -104.80513], [41.11645, -104.80513], [43.85843, -104.19614], [33.4848, -80.47473], [33.4848, -80.47473], [33.4848, -80.47473], [41.78735, -107.25365], [44.27597, -105.48853], [44.27597, -105.48853], [44.27597, -105.48853], [44.27597, -105.48853], [44.27597, -105.48853], [44.27597, -105.48853], [44.27597, -105.48853], [44.27597, -105.48853], [32.88091, -80.71389], [32.88091, -80.71389], [32.88091, -80.71389], [32.88091, -80.71389], [32.88091, -80.71389], [32.88091, -80.71389], [32.88091, -80.71389], [32.88091, -80.71389], [32.88091, -80.71389], [32.88091, -80.71389], [34.98492, -81.96982], [34.38305, -80.07719], [34.68927, -82.81385], [33.55445, -80.82639], [33.55445, -80.82639], [33.55326, -80.82463], [33.55445, -80.82639], [33.55326, -80.82463], [33.55326, -80.82463], [34.22543, -79.79637], [34.22543, -79.79637], [44.98287, -74.51778], [44.98287, -74.51778], [42.83037, -74.80929], [42.46034, -79.31647], [42.46034, -79.31647], [42.46034, -79.31647], [42.46034, -79.31647], [42.46034, -79.31647], [42.46034, -79.31647], [43.97649, -75.92362], [36.81465, -97.33988], [36.72937, -102.50123], [35.38553, -96.91322], [35.38553, -96.91322], [33.40756, -105.33138], [36.70869, -105.4075], [36.70869, -105.4075], [35.60471, -105.21223], [35.08025, -106.60919], [35.08025, -106.60919], [32.49535, -94.35807], [32.49535, -94.35807], [26.0922, -80.153], [26.0922, -80.153], [26.0922, -80.153], [26.0922, -80.153], [26.0922, -80.153], [26.0922, -80.153], [26.0922, -80.153], [26.0922, -80.153], [40.74016, -74.1558], [40.74016, -74.1558], [40.74016, -74.1558], [43.6225, -89.79475], [43.6225, -89.79475], [43.6225, -89.79475], [43.6225, -89.79475], [43.6225, -89.79475], [43.6225, -89.79475], [43.6225, -89.79475], [43.6225, -89.79475], [43.6225, -89.79475], [43.6225, -89.79475], [43.6225, -89.79475], [38.35007, -122.71127], [32.01, -81.1158], [32.01, -81.1158], [32.01, -81.1158], [32.01, -81.1158], [32.01, -81.1158], [32.01, -81.1158], [40.27362, -76.81537], [40.27362, -76.81537], [40.27362, -76.81537], [40.27362, -76.81537], [40.27362, -76.81537], [40.27362, -76.81537], [40.27362, -76.81537], [40.27362, -76.81537], [40.27362, -76.81537], [40.27362, -76.81537], [40.27362, -76.81537], [40.27362, -76.81537], [40.27362, -76.81537], [40.27362, -76.81537], [40.27362, -76.81537], [40.27362, -76.81537], [40.27362, -76.81537], [41.26547, -96.08618], [41.26547, -96.08618], [41.26547, -96.08618], [41.26547, -96.08618], [41.26547, -96.08618], [35.4647, -97.4759], [35.4647, -97.4759], [35.4647, -97.4759], [41.25938, -95.93621], [41.25938, -95.93621], [41.25938, -95.93621], [41.25938, -95.93621], [41.25938, -95.93621], [41.25938, -95.93621], [41.24565, -96.02306], [41.24565, -96.02306], [36.63938, -93.41354], [29.91119, -90.05299], [27.56321, -81.81509], [27.56321, -81.81509], [27.20806, -80.83182], [27.20806, -80.83182], [28.78799, -81.3551], [28.78799, -81.3551], [28.78799, -81.3551], [28.78799, -81.3551], [28.78799, -81.3551], [28.78799, -81.3551], [26.71171, -80.05753], [26.71171, -80.05753], [26.5991, -81.84448], [26.5991, -81.84448], [26.5991, -81.84448], [26.5991, -81.84448], [26.5991, -81.84448], [26.5991, -81.84448], [26.5991, -81.84448], [26.5991, -81.84448], [26.5991, -81.84448], [26.5991, -81.84448], [26.5991, -81.84448], [26.5991, -81.84448], [26.5991, -81.84448], [26.5991, -81.84448], [26.5991, -81.84448], [26.5991, -81.84448], [28.09916, -81.97603], [26.02935, -80.11551], [26.02935, -80.11551], [41.143414, -80.16579], [33.5138, -117.1588], [33.5138, -117.1588], [33.5138, -117.1588], [33.5138, -117.1588], [33.5138, -117.1588], [33.5138, -117.1588], [41.39669, -83.11053], [41.39669, -83.11053], [41.39669, -83.11053], [40.797259, -74.063919], [40.797259, -74.063919], [40.797259, -74.063919], [39.06462, -74.74948], [39.06462, -74.74948], [38.9452, -119.97147], [38.9452, -119.97147], [38.9452, -119.97147], [38.9452, -119.97147], [38.9452, -119.97147], [38.9452, -119.97147], [38.9452, -119.97147], [38.9452, -119.97147], [38.9452, -119.97147], [38.9452, -119.97147], [38.9452, -119.97147], [38.9452, -119.97147], [38.9452, -119.97147], [38.9452, -119.97147], [38.9452, -119.97147], [38.9452, -119.97147], [38.9452, -119.97147], [38.9452, -119.97147], [38.9452, -119.97147], [38.9452, -119.97147], [38.9452, -119.97147], [38.9452, -119.97147], [38.9452, -119.97147], [38.9452, -119.97147], [38.9452, -119.97147], [38.9452, -119.97147], [38.9452, -119.97147], [38.9452, -119.97147], [33.2311, -97.1723], [33.2311, -97.1723], [33.2311, -97.1723], [33.2311, -97.1723], [47.6497, -122.6936], [47.6497, -122.6936], [38.19221, -85.74287], [25.736954, -80.21826], [37.369386, -122.039079], [27.33391, -82.54134], [27.33391, -82.54134], [34.410095, -119.69732], [34.410095, -119.69732], [34.410095, -119.69732], [34.410095, -119.69732], [34.410095, -119.69732], [34.410095, -119.69732], [32.765917, -117.237704], [32.765917, -117.237704], [32.765917, -117.237704], [32.765917, -117.237704], [32.765917, -117.237704], [32.765917, -117.237704], [39.23726, -120.02821], [39.23726, -120.02821], [33.695808, -78.876858], [33.695808, -78.876858], [33.695808, -78.876858], [33.695808, -78.876858], [33.695808, -78.876858], [33.695808, -78.876858], [33.695808, -78.876858], [33.695808, -78.876858], [33.695808, -78.876858], [33.695808, -78.876858], [33.695808, -78.876858], [33.695808, -78.876858], [33.695808, -78.876858], [40.00243, -82.92713], [40.00243, -82.92713], [40.00243, -82.92713], [40.00243, -82.92713], [47.2429, -122.4379], [47.2429, -122.4379], [47.2429, -122.4379], [47.2429, -122.4379], [33.70112, -84.098459], [33.70112, -84.098459], [33.70112, -84.098459], [33.70112, -84.098459], [33.70112, -84.098459], [33.70112, -84.098459], [36.839951, -119.784165], [36.839951, -119.784165], [36.839951, -119.784165], [36.839951, -119.784165], [40.130295, -75.450645], [40.130295, -75.450645], [40.130295, -75.450645], [40.130295, -75.450645], [40.130295, -75.450645], [40.130295, -75.450645], [40.130295, -75.450645], [40.130295, -75.450645], [40.130295, -75.450645], [40.130295, -75.450645], [40.130295, -75.450645], [29.602158, -95.624944], [37.20853, -93.26258], [37.20853, -93.26258], [37.20853, -93.26258], [37.20853, -93.26258], [37.20853, -93.26258], [37.20853, -93.26258], [34.06565, -83.98985], [43.08565831, -79.06208038], [43.08565831, -79.06208038], [43.08565831, -79.06208038], [43.08565831, -79.06208038], [45.615384, -122.690974], [45.615384, -122.690974], [45.615384, -122.690974], [34.220657, -119.07101], [34.220657, -119.07101], [34.220657, -119.07101], [34.220657, -119.07101], [34.220657, -119.07101], [34.220657, -119.07101], [34.220657, -119.07101], [34.220657, -119.07101], [34.220657, -119.07101], [34.220657, -119.07101], [34.220657, -119.07101], [34.220657, -119.07101], [34.220657, -119.07101], [34.220657, -119.07101], [34.220657, -119.07101], [34.220657, -119.07101], [34.220657, -119.07101], [34.220657, -119.07101], [34.220657, -119.07101], [34.220657, -119.07101], [34.220657, -119.07101], [34.220657, -119.07101], [34.220657, -119.07101], [34.220657, -119.07101], [37.7619, -121.4377], [37.7619, -121.4377], [37.7619, -121.4377], [37.7619, -121.4377], [37.7619, -121.4377], [37.7619, -121.4377], [37.7619, -121.4377], [37.7619, -121.4377], [37.7619, -121.4377], [37.7619, -121.4377], [36.11478, -95.88877], [29.93453, -93.97645], [30.20076, -92.0182], [30.20076, -92.0182], [30.19098, -92.01345], [30.16839, -92.04048], [30.25, -93.18065], [43.59173, -116.27954], [43.59173, -116.27954], [43.59173, -116.27954], [43.59173, -116.27954], [43.59173, -116.27954], [43.59173, -116.27954], [43.59173, -116.27954], [43.59173, -116.27954], [43.59173, -116.27954], [43.59173, -116.27954], [43.59173, -116.27954], [43.59173, -116.27954], [43.59173, -116.27954], [43.59173, -116.27954], [43.59173, -116.27954], [43.59173, -116.27954], [43.59173, -116.27954], [43.59173, -116.27954], [37.76192, -77.46111], [37.76192, -77.46111], [37.63769, -77.46009], [36.51006, -80.62639], [36.51006, -80.62639], [47.67357, -116.7559], [36.47651, -82.49277], [28.60758, -80.80804], [30.43079, -84.24962], [30.44066, -84.26344], [30.43079, -84.24962], [30.44066, -84.26344], [30.43079, -84.24962], [30.43079, -84.24962], [30.44066, -84.26344], [30.44066, -84.26344], [30.43079, -84.24962], [30.44066, -84.26344], [30.43079, -84.24962], [30.44066, -84.26344], [30.43079, -84.24962], [30.43079, -84.24962], [30.44066, -84.26344], [30.43079, -84.24962], [30.43079, -84.24962], [30.44066, -84.26344], [30.44066, -84.26344], [30.44066, -84.26344], [43.09207, -76.0844], [43.09207, -76.0844], [34.21418, -119.03104], [34.21418, -119.03104], [34.21418, -119.03104], [34.21418, -119.03104], [36.96894, -86.43103], [36.96894, -86.43103], [36.9324, -86.41472], [36.93825, -86.42222], [36.93825, -86.42222], [36.93825, -86.42222], [36.93825, -86.42222], [36.93825, -86.42222], [36.93825, -86.42222], [36.93825, -86.42222], [36.93825, -86.42222], [36.93825, -86.42222], [36.93825, -86.42222], [36.93825, -86.42222], [36.9324, -86.41472], [43.2647, -82.52784], [44.24713, -86.33132], [45.39307, -84.63174], [42.55217, -84.82525], [42.55217, -84.82525], [42.55217, -84.82525], [47.47017, -87.89198], [46.54273, -87.41838], [46.54273, -87.41838], [46.54273, -87.41838], [46.54273, -87.41838], [44.39581, -68.22598], [44.39581, -68.22598], [44.39581, -68.22598], [44.38079, -68.20399], [44.43052, -68.26963], [44.38079, -68.20399], [44.43052, -68.26963], [44.43052, -68.26963], [44.38567, -68.21362], [44.39581, -68.22598], [44.39581, -68.22598], [44.39581, -68.22598], [44.38567, -68.21362], [44.39581, -68.22598], [44.39581, -68.22598], [43.927223, -69.253334], [43.927223, -69.253334], [42.54997, -99.84751], [40.89106, -98.3393], [39.48323, -88.34597], [39.48323, -88.34597], [39.48323, -88.34597], [39.48323, -88.34597], [39.48323, -88.34597], [39.48323, -88.34597], [39.48323, -88.34597], [39.48323, -88.34597], [38.083, -89.33598], [40.45457, -88.1156], [44.10869, -70.22699], [44.10869, -70.22699], [44.10869, -70.22699], [44.10869, -70.22699], [40.45859, -90.64939], [40.45859, -90.64939], [40.30645, -88.17536], [40.122143, -87.63583], [40.1212, -87.54303], [40.67142, -89.5763], [40.11695, -88.22475], [40.11695, -88.22475], [30.24962, -92.03656], [30.1977, -93.24756], [30.1977, -93.24756], [30.21458, -93.32673], [30.21458, -93.32673], [32.54125, -92.61202], [36.568333, -121.95], [36.568333, -121.95], [36.568333, -121.95], [36.568333, -121.95], [33.89897, -118.377815], [33.89897, -118.377815], [33.89897, -118.377815], [33.89897, -118.377815], [40.12212, -75.28333], [40.12212, -75.28333], [40.12212, -75.28333], [30.75953, -98.23963], [30.75953, -98.23963], [30.75953, -98.23963], [30.75953, -98.23963], [30.75953, -98.23963], [30.75953, -98.23963], [30.75953, -98.23963], [30.75835, -98.23036], [41.27468, -98.96891], [42.82176, -103.01637], [40.89572, -98.33933], [40.89572, -98.33933], [40.81691, -96.70992], [40.81691, -96.70992], [38.08144, -75.59448], [38.08144, -75.59448], [43.756012, -71.394135], [44.27489, -71.54113], [44.27489, -71.54113], [36.10071, -115.16581], [36.14479, -115.15584], [44.27997, -71.6951], [47.90897, -97.08805], [47.90897, -97.08805], [47.90897, -97.08805], [47.90897, -97.08805], [42.407176, -76.503024], [42.407176, -76.503024], [42.407176, -76.503024], [42.407176, -76.503024], [42.694687, -71.19811], [42.694687, -71.19811], [33.93423, -98.51906], [33.48794, -80.47391], [31.57381, -94.67471], [31.57381, -94.67471], [29.77979, -95.94809], [39.91762, -86.10663], [40.41878, -86.81619], [40.41878, -86.81619], [40.41704, -86.83044], [40.41704, -86.83044], [40.41616, -86.83234], [40.41704, -86.83044], [40.41704, -86.83044], [35.53966, -89.24571], [35.53966, -89.24571], [36.16523, -84.08594], [35.79789, -83.23808], [35.79789, -83.23808], [35.79789, -83.23808], [35.79789, -83.23808], [35.55765, -87.1886], [35.30676, -86.88086], [35.30676, -86.88086], [35.44497, -86.77547], [35.44497, -86.77547], [35.44497, -86.77547], [35.20372, -88.24461], [35.51435, -84.99953], [35.51435, -84.99953], [35.51435, -84.99953], [35.51435, -84.99953], [35.51435, -84.99953], [35.51435, -84.99953], [35.90048, -84.17582], [35.90048, -84.17582], [35.90048, -84.17582], [35.90048, -84.17582], [35.90048, -84.17582], [35.90048, -84.17582], [35.90048, -84.17582], [35.90048, -84.17582], [35.90048, -84.17582], [35.90048, -84.17582], [35.90048, -84.17582], [35.90048, -84.17582], [35.6422, -86.89885], [35.6422, -86.89885], [35.46726, -84.65249], [41.3887788, -73.5151005], [41.3887788, -73.5151005], [41.3887788, -73.5151005], [41.41873, -73.42039], [44.9577, -92.72025], [44.9577, -92.72025], [44.9577, -92.72025], [37.99225, -87.49005], [37.99225, -87.49005], [36.88481, -104.4348], [36.88481, -104.4348], [36.88481, -104.4348], [36.88481, -104.4348], [36.88481, -104.4348], [36.88481, -104.4348], [36.88481, -104.4348], [36.88481, -104.4348], [36.88481, -104.4348], [36.88481, -104.4348], [36.88481, -104.4348], [36.88481, -104.4348], [40.38362, -105.545], [40.38362, -105.545], [40.38362, -105.545], [40.38362, -105.545], [40.38362, -105.545], [40.38362, -105.545], [40.38362, -105.545], [39.60615, -106.52093], [39.85532, -104.9833], [43.59596, -89.77623], [43.59596, -89.77623], [43.59596, -89.77623], [43.59596, -89.77623], [43.59596, -89.77623], [43.59596, -89.77623], [43.59596, -89.77623], [43.59596, -89.77623], [43.59596, -89.77623], [43.59596, -89.77623], [43.59596, -89.77623], [43.59596, -89.77623], [43.59596, -89.77623], [43.59596, -89.77623], [43.59596, -89.77623], [44.01601, -90.50534], [44.01601, -90.50534], [44.59898, -87.44031], [44.95912, -90.80042], [44.96033, -92.74001], [44.96033, -92.74001], [44.96033, -92.74001], [43.79297, -89.33126], [43.79297, -89.33126], [41.519547, -88.185165], [41.45697, -88.27347], [41.32815, -89.15072], [42.30231, -89.6414], [42.2824, -89.60862], [35.78032, -83.55017], [35.78032, -83.55017], [35.82328, -83.57533], [35.82328, -83.57533], [35.82328, -83.57533], [35.82328, -83.57533], [35.82328, -83.57533], [35.84954, -83.56758], [36.63396, -88.31188], [36.63396, -88.31188], [36.63396, -88.31188], [36.63396, -88.31188], [36.0227, -87.33635], [36.32513, -86.70006], [36.32513, -86.70006], [36.32513, -86.70006], [36.303, -86.70358], [35.93812, -84.0065], [35.93812, -84.0065], [35.93812, -84.0065], [35.93812, -84.0065], [35.93812, -84.0065], [35.93812, -84.0065], [35.93812, -84.0065], [35.64237, -86.89784], [35.9364, -84.00818], [35.9364, -84.00818], [36.34292, -82.37072], [36.36018, -82.39632], [36.36018, -82.39632], [36.36018, -82.39632], [36.36018, -82.39632], [40.94079, -87.21852], [39.83521, -84.82416], [43.047993, -89.305], [38.077183, -84.492905], [38.077183, -84.492905], [38.077183, -84.492905], [41.998775, -93.64128], [41.998775, -93.64128], [30.4402, -84.2818], [30.4402, -84.2818], [30.4402, -84.2818], [30.4402, -84.2818], [30.4402, -84.2818], [43.039294, -87.942241], [43.039294, -87.942241], [43.039294, -87.942241], [43.039294, -87.942241], [43.039294, -87.942241], [43.04449, -89.27404], [43.04449, -89.27404], [43.04449, -89.27404], [43.04449, -89.27404], [43.51641, -96.77771], [43.51328, -96.77873], [25.815437, -80.122596], [25.815437, -80.122596], [25.815437, -80.122596], [25.815437, -80.122596], [25.815437, -80.122596], [25.815437, -80.122596], [25.815437, -80.122596], [25.815437, -80.122596], [25.815437, -80.122596], [25.815437, -80.122596], [25.815437, -80.122596], [25.815437, -80.122596], [25.815437, -80.122596], [25.815437, -80.122596], [25.815437, -80.122596], [25.815437, -80.122596], [25.815437, -80.122596], [25.815437, -80.122596], [25.815437, -80.122596], [25.815437, -80.122596], [25.815437, -80.122596], [25.815437, -80.122596], [25.815437, -80.122596], [25.815437, -80.122596], [25.815437, -80.122596], [25.815437, -80.122596], [25.815437, -80.122596], [32.884045, -96.95534], [32.884045, -96.95534], [32.884045, -96.95534], [32.884045, -96.95534], [32.884045, -96.95534], [32.884045, -96.95534], [32.884045, -96.95534], [32.884045, -96.95534], [32.884045, -96.95534], [36.064537, -95.85831], [27.89295, -82.68678], [27.89295, -82.68678], [27.89295, -82.68678], [27.89295, -82.68678], [27.89295, -82.68678], [27.89295, -82.68678], [27.89295, -82.68678], [28.044954, -82.425605], [28.044954, -82.425605], [28.044954, -82.425605], [28.044954, -82.425605], [28.044954, -82.425605], [28.044954, -82.425605], [28.044954, -82.425605], [28.044954, -82.425605], [28.044954, -82.425605], [28.044954, -82.425605], [28.044954, -82.425605], [28.044954, -82.425605], [28.044954, -82.425605], [28.044954, -82.425605], [36.14483, -86.68767], [38.97404, -76.55094], [38.97404, -76.55094], [38.97404, -76.55094], [38.97404, -76.55094], [39.62643, -104.896], [39.62643, -104.896], [39.62643, -104.896], [39.62643, -104.896], [39.62643, -104.896], [39.62643, -104.896], [39.62643, -104.896], [39.62643, -104.896], [39.62643, -104.896], [39.62643, -104.896], [39.62643, -104.896], [39.62643, -104.896], [39.62643, -104.896], [26.047, -80.15852], [26.047, -80.15852], [26.047, -80.15852], [26.047, -80.15852], [26.047, -80.15852], [26.047, -80.15852], [26.047, -80.15852], [26.047, -80.15852], [26.047, -80.15852], [26.047, -80.15852], [26.047, -80.15852], [26.047, -80.15852], [26.047, -80.15852], [26.047, -80.15852], [32.978582, -117.091875], [32.978582, -117.091875], [32.786271, -79.955717], [32.786271, -79.955717], [32.786271, -79.955717], [32.786271, -79.955717], [32.786271, -79.955717], [32.786271, -79.955717], [32.786271, -79.955717], [32.786271, -79.955717], [32.786271, -79.955717], [32.786271, -79.955717], [32.786271, -79.955717], [32.786271, -79.955717], [32.786271, -79.955717], [32.786271, -79.955717], [32.786271, -79.955717], [32.786271, -79.955717], [32.786271, -79.955717], [32.786271, -79.955717], [32.786271, -79.955717], [32.786271, -79.955717], [32.786271, -79.955717], [32.786271, -79.955717], [32.786271, -79.955717], [32.786271, -79.955717], [32.786271, -79.955717], [32.786271, -79.955717], [32.786271, -79.955717], [32.786271, -79.955717], [32.786271, -79.955717], [32.786271, -79.955717], [32.786271, -79.955717], [32.786271, -79.955717], [32.786271, -79.955717], [32.786271, -79.955717], [32.786271, -79.955717], [32.786271, -79.955717], [32.786271, -79.955717], [32.786271, -79.955717], [32.786271, -79.955717], [32.786271, -79.955717], [36.5928, -121.8742], [36.5928, -121.8742], [36.5928, -121.8742], [34.392311, -119.510037], [34.392311, -119.510037], [34.392311, -119.510037], [34.392311, -119.510037], [34.4491, -119.2326], [34.4491, -119.2326], [34.4491, -119.2326], [42.091, -90.1379], [41.26547, -88.21184], [41.1718009, -87.84998948], [41.1718009, -87.84998948], [33.624146, -84.45631], [33.632805, -84.45802], [42.6892, -84.5001], [42.6892, -84.5001], [42.6892, -84.5001], [30.52327, -86.49571], [30.52327, -86.49571], [30.52327, -86.49571], [30.52327, -86.49571], [30.52327, -86.49571], [26.9384, -82.05265], [26.9384, -82.05265], [26.9384, -82.05265], [26.9384, -82.05265], [26.9384, -82.05265], [26.9384, -82.05265], [26.9384, -82.05265], [26.9384, -82.05265], [26.9384, -82.05265], [26.9384, -82.05265], [26.9384, -82.05265], [26.9384, -82.05265], [34.08979, -118.38539], [34.08979, -118.38539], [34.08979, -118.38539], [34.08979, -118.38539], [34.08979, -118.38539], [34.08979, -118.38539], [34.08979, -118.38539], [34.08979, -118.38539], [34.08979, -118.38539], [34.08979, -118.38539], [34.08979, -118.38539], [34.08979, -118.38539], [34.08979, -118.38539], [34.08979, -118.38539], [34.08979, -118.38539], [34.08979, -118.38539], [34.08979, -118.38539], [34.08979, -118.38539], [34.08979, -118.38539], [34.08979, -118.38539], [34.08979, -118.38539], [34.08979, -118.38539], [34.08979, -118.38539], [34.08979, -118.38539], [34.08979, -118.38539], [34.08979, -118.38539], [34.08979, -118.38539], [34.08979, -118.38539], [34.08979, -118.38539], [42.359123, -71.05285], [42.359123, -71.05285], [42.359123, -71.05285], [42.359123, -71.05285], [42.359123, -71.05285], [42.359123, -71.05285], [42.359123, -71.05285], [42.359123, -71.05285], [41.138568, -73.308841], [41.138568, -73.308841], [33.6647, -117.3047], [33.6647, -117.3047], [38.5025, -122.9954], [38.255101, -122.33346], [38.255101, -122.33346], [38.255101, -122.33346], [38.255101, -122.33346], [38.255101, -122.33346], [38.255101, -122.33346], [38.255101, -122.33346], [38.255101, -122.33346], [38.255101, -122.33346], [38.255101, -122.33346], [34.4475, -83.1382], [27.9754, -82.4512], [27.9754, -82.4512], [40.680091, -74.00597], [35.40307, -97.59569], [35.40307, -97.59569], [36.1165, -115.17433], [36.1165, -115.17433], [21.876282, -159.44011], [21.876282, -159.44011], [21.876282, -159.44011], [21.876282, -159.44011], [21.876282, -159.44011], [21.876282, -159.44011], [21.876282, -159.44011], [21.876282, -159.44011], [21.876282, -159.44011], [21.876282, -159.44011], [21.876282, -159.44011], [21.876282, -159.44011], [21.876282, -159.44011], [21.876282, -159.44011], [21.876282, -159.44011], [21.876282, -159.44011], [21.876282, -159.44011], [21.876282, -159.44011], [21.876282, -159.44011], [21.876282, -159.44011], [21.876282, -159.44011], [21.876282, -159.44011], [21.876282, -159.44011], [21.876282, -159.44011], [21.876282, -159.44011], [21.876282, -159.44011], [21.876282, -159.44011], [32.782174, -79.9343429], [32.782174, -79.9343429], [32.782174, -79.9343429], [32.782174, -79.9343429], [32.782174, -79.9343429], [32.782174, -79.9343429], [32.782174, -79.9343429], [32.782174, -79.9343429], [32.782174, -79.9343429], [32.782174, -79.9343429], [32.782174, -79.9343429], [32.782174, -79.9343429], [32.782174, -79.9343429], [38.870621, -77.446534], [40.12797, -74.705421], [27.983254, -82.331002], [27.983254, -82.331002], [27.983254, -82.331002], [27.983254, -82.331002], [27.983254, -82.331002], [27.983254, -82.331002], [38.854213, -77.318768], [38.854213, -77.318768], [38.854213, -77.318768], [38.854213, -77.318768], [37.22948, -80.42931], [37.22948, -80.42931], [37.22948, -80.42931], [37.22948, -80.42931], [37.22948, -80.42931], [37.22948, -80.42931], [37.22948, -80.42931], [34.85802, -82.27066], [34.85802, -82.27066], [34.85802, -82.27066], [34.85802, -82.27066], [34.85802, -82.27066], [34.85802, -82.27066], [43.39657, -72.69589], [43.39657, -72.69589], [35.99348, -83.90066], [35.99348, -83.90066], [36.942251, -86.418791], [36.942251, -86.418791], [36.942251, -86.418791], [36.942251, -86.418791], [36.942251, -86.418791], [36.93869, -86.41938], [36.93869, -86.41938], [36.93869, -86.41938], [36.93869, -86.41938], [36.93869, -86.41938], [36.93869, -86.41938], [36.93869, -86.41938], [36.93869, -86.41938], [33.7990972, -117.916176], [33.7990972, -117.916176], [33.7990972, -117.916176], [33.7990972, -117.916176], [33.7990972, -117.916176], [33.7990972, -117.916176], [33.7990972, -117.916176], [33.7990972, -117.916176], [33.7990972, -117.916176], [38.0427, -84.4221], [29.787806, -95.731575], [29.787806, -95.731575], [29.787806, -95.731575], [29.787806, -95.731575], [42.91426, -85.67147], [42.2526, -83.6809], [42.2526, -83.6809], [38.82116, -76.91518], [38.63079, -90.25974], [38.63079, -90.25974], [32.08415, -81.1004], [33.44945, -82.08264], [33.44945, -82.08264], [48.1974, -114.3135], [46.603181, -112.01509], [37.764274, -121.965322], [37.764274, -121.965322], [37.764274, -121.965322], [37.764274, -121.965322], [37.764274, -121.965322], [33.95505, -84.12618], [33.95505, -84.12618], [33.95505, -84.12618], [33.95505, -84.12618], [44.9773, -93.27617], [44.9773, -93.27617], [44.9773, -93.27617], [44.9773, -93.27617], [44.9773, -93.27617], [44.9773, -93.27617], [41.15895, -80.66539], [35.35385, -97.49592], [38.258022, -85.75639], [38.258022, -85.75639], [38.258022, -85.75639], [38.258022, -85.75639], [38.258022, -85.75639], [38.258022, -85.75639], [38.258022, -85.75639], [38.258022, -85.75639], [38.258022, -85.75639], [38.258022, -85.75639], [38.258022, -85.75639], [38.258022, -85.75639], [38.258022, -85.75639], [38.258022, -85.75639], [38.258022, -85.75639], [38.258022, -85.75639], [38.258022, -85.75639], [38.258022, -85.75639], [38.258022, -85.75639], [38.258022, -85.75639], [38.258022, -85.75639], [38.258022, -85.75639], [36.011143, -78.953046], [36.011143, -78.953046], [36.011143, -78.953046], [36.011143, -78.953046], [36.011143, -78.953046], [33.931244, -118.33846], [35.52278, -97.53732], [40.15708, -80.28091], [36.061, -95.8739], [42.02116, -87.9561], [42.02116, -87.9561], [42.02116, -87.9561], [35.51068, -97.5816], [43.61817, -116.210706], [43.61817, -116.210706], [43.61817, -116.210706], [43.61817, -116.210706], [43.61817, -116.210706], [43.61817, -116.210706], [43.61817, -116.210706], [41.50283, -81.69596], [37.786762, -122.40943], [40.64507, -75.42443], [40.64507, -75.42443], [40.64507, -75.42443], [29.751837, -95.360236], [29.751837, -95.360236], [29.751837, -95.360236], [29.751837, -95.360236], [38.613735, -121.51404], [38.613735, -121.51404], [38.613735, -121.51404], [39.17432, -76.78594], [39.17432, -76.78594], [39.17432, -76.78594], [39.17432, -76.78594], [39.17432, -76.78594], [39.20371, -76.67843], [26.706429, -80.05144], [26.706429, -80.05144], [26.706429, -80.05144], [26.706429, -80.05144], [26.706429, -80.05144], [26.706429, -80.05144], [26.706429, -80.05144], [26.706429, -80.05144], [26.706429, -80.05144], [26.706429, -80.05144], [33.093756, -96.111609], [42.23898, -83.73515], [42.23898, -83.73515], [40.667, -99.0869], [40.667, -99.0869], [40.667, -99.0869], [33.724443, -78.841714], [33.724443, -78.841714], [33.724443, -78.841714], [33.724443, -78.841714], [33.724443, -78.841714], [33.724443, -78.841714], [43.59791, -89.78646], [43.59791, -89.78646], [29.7389, -95.4714], [29.758183, -95.362677], [29.758183, -95.362677], [29.758183, -95.362677], [29.758183, -95.362677], [29.758183, -95.362677], [29.758183, -95.362677], [29.758183, -95.362677], [29.758183, -95.362677], [29.758183, -95.362677], [29.758183, -95.362677], [29.758183, -95.362677], [29.758183, -95.362677], [29.758183, -95.362677], [29.758183, -95.362677], [29.758183, -95.362677], [29.758183, -95.362677], [29.758183, -95.362677], [29.758183, -95.362677], [46.590237, -112.00198], [37.68912, -121.90091], [37.68912, -121.90091], [37.68912, -121.90091], [33.316948, -105.63385], [33.316948, -105.63385], [44.4307, -68.96626], [44.4307, -68.96626], [40.05457, -78.51102], [38.7896, -76.05809], [37.41103, -77.65369], [37.41103, -77.65369], [38.6617, -78.4757], [44.99834, -72.67514], [44.007782, -73.03459], [33.47317, -94.03375], [37.0835, -80.64855], [32.58071, -95.85449], [38.63126, -90.21241], [38.63126, -90.21241], [38.63126, -90.21241], [38.63126, -90.21241], [33.791307, -117.915652], [33.791307, -117.915652], [33.791307, -117.915652], [33.791307, -117.915652], [33.791307, -117.915652], [33.791307, -117.915652], [33.791307, -117.915652], [33.791307, -117.915652], [33.791307, -117.915652], [33.791307, -117.915652], [33.791307, -117.915652], [33.791307, -117.915652], [33.791307, -117.915652], [33.791307, -117.915652], [35.135887, -80.9051], [35.22869, -81.33362], [35.182507, -80.91908], [35.182507, -80.91908], [34.172752, -118.55712], [34.172752, -118.55712], [44.10101, -69.1094], [44.10101, -69.1094], [38.7061, -91.4379], [30.19294, -92.0145], [30.19294, -92.0145], [30.19294, -92.0145], [30.19294, -92.0145], [30.19294, -92.0145], [30.19294, -92.0145], [39.318184, -74.60515], [40.364353, -74.952515], [40.364353, -74.952515], [35.644875, -120.68842], [35.644875, -120.68842], [35.644875, -120.68842], [37.94569226, -121.6967076], [37.94569226, -121.6967076], [37.94569226, -121.6967076], [37.94569226, -121.6967076], [41.1166, -73.4067], [41.1166, -73.4067], [41.1166, -73.4067], [41.1166, -73.4067], [41.1166, -73.4067], [41.1166, -73.4067], [41.1166, -73.4067], [41.1166, -73.4067], [41.1166, -73.4067], [41.1166, -73.4067], [32.78257, -79.93176], [32.78257, -79.93176], [32.78257, -79.93176], [32.78257, -79.93176], [32.78257, -79.93176], [32.78257, -79.93176], [32.78257, -79.93176], [32.78257, -79.93176], [32.78257, -79.93176], [32.78257, -79.93176], [32.78257, -79.93176], [32.78257, -79.93176], [32.78257, -79.93176], [32.78257, -79.93176], [32.78257, -79.93176], [32.78257, -79.93176], [32.78257, -79.93176], [32.78257, -79.93176], [32.78257, -79.93176], [32.78257, -79.93176], [32.78257, -79.93176], [32.78257, -79.93176], [32.78257, -79.93176], [32.78257, -79.93176], [32.78257, -79.93176], [26.02755, -80.11507], [26.02755, -80.11507], [47.6256, -122.351], [47.6256, -122.351], [47.6256, -122.351], [47.6256, -122.351], [47.6256, -122.351], [47.6256, -122.351], [47.6256, -122.351], [47.6256, -122.351], [47.6256, -122.351], [47.6256, -122.351], [47.6256, -122.351], [47.6256, -122.351], [47.6256, -122.351], [47.6256, -122.351], [47.6256, -122.351], [47.6256, -122.351], [47.6256, -122.351], [47.6256, -122.351], [47.6256, -122.351], [47.6256, -122.351], [47.6256, -122.351], [42.30376, -74.28881], [32.081772, -81.097232], [32.081772, -81.097232], [32.081772, -81.097232], [27.975328, -82.82759], [27.975328, -82.82759], [27.975328, -82.82759], [27.975328, -82.82759], [42.243202, -91.88433], [38.55648, -92.19542], [35.287823, -120.65297], [40.64702, -73.996826], [40.64702, -73.996826], [40.6243, -79.1508], [40.6243, -79.1508], [39.85, -84.1883], [39.85, -84.1883], [39.85, -84.1883], [39.85, -84.1883], [39.85, -84.1883], [39.85, -84.1883], [39.85, -84.1883], [34.71454, -82.25216], [34.71454, -82.25216], [34.71454, -82.25216], [40.63933, -75.43184], [40.63933, -75.43184], [40.63933, -75.43184], [40.63933, -75.43184], [40.63933, -75.43184], [40.63933, -75.43184], [40.63933, -75.43184], [40.63933, -75.43184], [40.63933, -75.43184], [40.63933, -75.43184], [40.63933, -75.43184], [40.63933, -75.43184], [34.74483, -92.26631], [34.74483, -92.26631], [34.74483, -92.26631], [34.74483, -92.26631], [34.74483, -92.26631], [38.86794, -106.98239], [38.86794, -106.98239], [38.86794, -106.98239], [30.24494, -98.90791], [39.641678, -106.37419], [39.641678, -106.37419], [39.641678, -106.37419], [39.641678, -106.37419], [39.641678, -106.37419], [39.641678, -106.37419], [39.641678, -106.37419], [39.641678, -106.37419], [39.641678, -106.37419], [40.08908, -82.79144], [39.98266, -82.82878], [39.98266, -82.82878], [39.98266, -82.82878], [39.98266, -82.82878], [39.98266, -82.82878], [39.98266, -82.82878], [39.98266, -82.82878], [39.98266, -82.82878], [40.67812, -73.94503], [26.02176, -80.11556], [26.02176, -80.11556], [26.02176, -80.11556], [26.02176, -80.11556], [26.02176, -80.11556], [45.56888, -122.582565], [45.56888, -122.582565], [45.56888, -122.582565], [45.56888, -122.582565], [45.56888, -122.582565], [45.56888, -122.582565], [29.20214, -80.99545], [29.20214, -80.99545], [29.20214, -80.99545], [35.44553, -97.602], [35.44553, -97.602], [35.44553, -97.602], [35.44553, -97.602], [35.44553, -97.602], [35.44553, -97.602], [35.44553, -97.602], [35.44553, -97.602], [45.571377, -122.6825], [42.786207, -71.509771], [42.786207, -71.509771], [42.786207, -71.509771], [42.786207, -71.509771], [42.786207, -71.509771], [42.786207, -71.509771], [42.786207, -71.509771], [42.786207, -71.509771], [42.786207, -71.509771], [40.74191, -74.00345], [40.74191, -74.00345], [40.74191, -74.00345], [40.74191, -74.00345], [40.74191, -74.00345], [40.74191, -74.00345], [40.74191, -74.00345], [40.74191, -74.00345], [40.74191, -74.00345], [35.46609, -97.5063], [35.46609, -97.5063], [35.46609, -97.5063], [35.46609, -97.5063], [35.46609, -97.5063], [35.46609, -97.5063], [35.46609, -97.5063], [35.46609, -97.5063], [35.46609, -97.5063], [39.62408, -79.96307], [39.62408, -79.96307], [39.62408, -79.96307], [39.62408, -79.96307], [39.62408, -79.96307], [39.62408, -79.96307], [39.62408, -79.96307], [39.62408, -79.96307], [39.5546, -104.8763], [39.5546, -104.8763], [39.5546, -104.8763], [39.5546, -104.8763], [39.5546, -104.8763], [47.613903, -122.340904], [47.613903, -122.340904], [47.613903, -122.340904], [47.613903, -122.340904], [47.613903, -122.340904], [47.613903, -122.340904], [47.613903, -122.340904], [47.613903, -122.340904], [34.848926, -82.399829], [34.848926, -82.399829], [34.848926, -82.399829], [34.848926, -82.399829], [34.848926, -82.399829], [34.848926, -82.399829], [34.848926, -82.399829], [34.848926, -82.399829], [34.848926, -82.399829], [34.848926, -82.399829], [34.848926, -82.399829], [34.848926, -82.399829], [34.848926, -82.399829], [34.848926, -82.399829], [34.848926, -82.399829], [34.848926, -82.399829], [34.848926, -82.399829], [34.848926, -82.399829], [34.848926, -82.399829], [34.848926, -82.399829], [34.848926, -82.399829], [34.848926, -82.399829], [34.848926, -82.399829], [34.848926, -82.399829], [34.848926, -82.399829], [34.848926, -82.399829], [34.848926, -82.399829], [34.848926, -82.399829], [39.14692, -123.19738], [39.14692, -123.19738], [39.14692, -123.19738], [39.14692, -123.19738], [39.14692, -123.19738], [44.28407, -73.98353], [44.28407, -73.98353], [44.28407, -73.98353], [40.579353, -122.35721], [40.579353, -122.35721], [40.579353, -122.35721], [40.579353, -122.35721], [40.579353, -122.35721], [40.579353, -122.35721], [40.579353, -122.35721], [40.579353, -122.35721], [40.579353, -122.35721], [40.579353, -122.35721], [40.579353, -122.35721], [40.579353, -122.35721], [40.579353, -122.35721], [30.31902, -97.70853], [30.32846, -97.70471], [32.83477, -109.72461], [32.83477, -109.72461], [32.7272, -114.62045], [32.7272, -114.62045], [32.7272, -114.62045], [32.67914, -114.62381], [32.7272, -114.62045], [35.19506, -111.62928], [35.19201, -111.62457], [35.19201, -111.62457], [35.19201, -111.62457], [34.54485, -112.45636], [34.54057, -112.47056], [34.54057, -112.47056], [34.54057, -112.47056], [34.54057, -112.47056], [34.54057, -112.47056], [34.54057, -112.47056], [34.54057, -112.47056], [34.54057, -112.47056], [34.54057, -112.47056], [38.00522, -84.51698], [38.00522, -84.51698], [38.00522, -84.51698], [38.00522, -84.51698], [38.00522, -84.51698], [38.00522, -84.51698], [38.01914, -84.41484], [32.34452, -90.8377], [33.04225, -84.9643], [33.04225, -84.9643], [38.89436, -79.84026], [38.89436, -79.84026], [38.89436, -79.84026], [38.89436, -79.84026], [44.50365, -73.17785], [32.49295, -92.08217], [32.49295, -92.08217], [35.391792, -86.23972], [47.47299, -115.9263], [47.47299, -115.9263], [45.63642, -109.24998], [39.00374, -84.64946], [38.19179, -85.74516], [38.19179, -85.74516], [38.19179, -85.74516], [38.19179, -85.74516], [38.19179, -85.74516], [38.19179, -85.74516], [39.80384, -83.89002], [39.80384, -83.89002], [39.13464, -84.50875], [41.55363, -70.62125], [41.55363, -70.62125], [41.55363, -70.62125], [41.55363, -70.62125], [41.55363, -70.62125], [41.55856, -93.79359], [38.600826, -89.988815], [47.09434, -122.62267], [47.09434, -122.62267], [47.09434, -122.62267], [47.09434, -122.62267], [47.09434, -122.62267], [47.09434, -122.62267], [47.09434, -122.62267], [47.09434, -122.62267], [30.4837, -81.64893], [30.4837, -81.64893], [30.4837, -81.64893], [37.64906, -84.80605], [29.96556, -90.06751], [29.96556, -90.06751], [29.96556, -90.06751], [29.96556, -90.06751], [29.96556, -90.06751], [29.96556, -90.06751], [32.51738, -93.71154], [32.51738, -93.71154], [32.51738, -93.71154], [32.51738, -93.71154], [43.09556, -70.74672], [43.09556, -70.74672], [42.09365, -72.58233], [42.09365, -72.58233], [42.09365, -72.58233], [42.09365, -72.58233], [40.03189, -83.11967], [40.03189, -83.11967], [35.0848, -106.52982], [35.0848, -106.52982], [35.0848, -106.52982], [35.0848, -106.52982], [35.0848, -106.52982], [36.81078, -114.06258], [36.81078, -114.06258], [36.81078, -114.06258], [36.81078, -114.06258], [36.81078, -114.06258], [36.81078, -114.06258], [36.81078, -114.06258], [36.81078, -114.06258], [35.15905, -114.57174], [35.15905, -114.57174], [35.15905, -114.57174], [35.15905, -114.57174], [35.15905, -114.57174], [35.15905, -114.57174], [35.15905, -114.57174], [35.15905, -114.57174], [35.15905, -114.57174], [35.15905, -114.57174], [35.15905, -114.57174], [35.15905, -114.57174], [35.15905, -114.57174], [35.15905, -114.57174], [35.15905, -114.57174], [35.15905, -114.57174], [35.15905, -114.57174], [41.07975, -87.86492], [41.07975, -87.86492], [41.07975, -87.86492], [41.07975, -87.86492], [41.07975, -87.86492], [41.07975, -87.86492], [41.07975, -87.86492], [34.008113, -118.490961], [34.008113, -118.490961], [34.008113, -118.490961], [34.008113, -118.490961], [34.008113, -118.490961], [34.008113, -118.490961], [34.008113, -118.490961], [34.008113, -118.490961], [34.008113, -118.490961], [34.008113, -118.490961], [34.008113, -118.490961], [34.008113, -118.490961], [34.2793, -88.7154], [35.46072, -94.34663], [36.033985, -115.009712], [36.033985, -115.009712], [36.033985, -115.009712], [29.42502, -98.49142], [29.42502, -98.49142], [29.42502, -98.49142], [29.42502, -98.49142], [29.42502, -98.49142], [33.700295, -78.870903], [33.700295, -78.870903], [29.61112, -98.48205], [32.76293, -97.07276], [32.76293, -97.07276], [32.76293, -97.07276], [43.48439, -89.49887], [43.48439, -89.49887], [43.48439, -89.49887], [41.3232, -72.197], [35.535046, -98.6996], [48.050396, -122.18249], [48.050396, -122.18249], [48.050396, -122.18249], [33.04191, -96.8286], [33.04191, -96.8286], [33.04191, -96.8286], [33.04191, -96.8286], [33.04191, -96.8286], [33.04191, -96.8286], [39.191868, -76.816211], [39.191868, -76.816211], [39.191868, -76.816211], [39.353466, -106.99875], [39.353466, -106.99875], [30.42318, -91.13407], [30.42318, -91.13407], [30.42318, -91.13407], [32.7848, -79.7901], [32.7848, -79.7901], [33.74784, -78.82125], [39.565, -104.907], [39.565, -104.907], [39.565, -104.907], [39.565, -104.907], [39.565, -104.907], [39.565, -104.907], [39.565, -104.907], [37.73572, -84.32633], [36.14724, -95.91823], [41.13101, -85.15459], [41.13101, -85.15459], [41.13101, -85.15459], [41.13101, -85.15459], [41.13101, -85.15459], [41.13101, -85.15459], [42.31971, -83.44639], [42.31971, -83.44639], [40.037395, -84.20315], [32.83355, -117.14297], [32.83355, -117.14297], [44.0532, -123.0895], [44.0532, -123.0895], [44.0532, -123.0895], [44.0532, -123.0895], [44.0532, -123.0895], [44.0532, -123.0895], [41.12678, -104.83076], [41.12678, -104.83076], [42.16242, -76.87095], [42.16242, -76.87095], [42.16242, -76.87095], [42.16242, -76.87095], [42.16242, -76.87095], [42.16242, -76.87095], [42.16242, -76.87095], [29.63209, -82.33906], [29.63209, -82.33906], [29.63209, -82.33906], [29.63209, -82.33906], [41.06439, -81.48047], [41.06439, -81.48047], [38.98574, -76.556302], [38.98574, -76.556302], [43.091, -76.08463], [43.091, -76.08463], [43.091, -76.08463], [43.60151, -89.79317], [46.90788, -102.7907], [42.9022, -70.8149], [42.9022, -70.8149], [34.06305, -118.44096], [38.85891, -104.89431], [38.85891, -104.89431], [38.85891, -104.89431], [38.85891, -104.89431], [40.25294, -105.82526], [44.02684, -116.94428], [39.62999, -106.29008], [37.811882, -107.66423], [37.811882, -107.66423], [37.811882, -107.66423], [37.811882, -107.66423], [37.811882, -107.66423], [37.811882, -107.66423], [43.46919, -112.08744], [43.49598, -112.05486], [43.46919, -112.08744], [46.73, -117.18244], [46.73, -117.18244], [39.04702, -108.56514], [43.65495, -71.49751], [43.65495, -71.49751], [43.65495, -71.49751], [31.92594, -92.64767], [45.521848, -122.678415], [45.521848, -122.678415], [45.521848, -122.678415], [45.521848, -122.678415], [45.521848, -122.678415], [45.521848, -122.678415], [45.521848, -122.678415], [45.521848, -122.678415], [45.521848, -122.678415], [45.521848, -122.678415], [45.521848, -122.678415], [45.521848, -122.678415], [45.521848, -122.678415], [45.521848, -122.678415], [45.521848, -122.678415], [45.521848, -122.678415], [45.521848, -122.678415], [45.521848, -122.678415], [45.521848, -122.678415], [45.521848, -122.678415], [45.521848, -122.678415], [45.521848, -122.678415], [45.521848, -122.678415], [39.69372, -111.83562], [39.69372, -111.83562], [39.69372, -111.83562], [39.69372, -111.83562], [27.83087, -97.06528], [45.654667, -122.59107], [45.654667, -122.59107], [45.654667, -122.59107], [39.13865, -121.63607], [34.44924, -119.2307], [34.44924, -119.2307], [44.49275, -103.85212], [44.49275, -103.85212], [44.49275, -103.85212], [44.49275, -103.85212], [44.49275, -103.85212], [42.34629, -72.57197], [26.03424, -80.16679], [26.03424, -80.16679], [26.03424, -80.16679], [26.03424, -80.16679], [26.03424, -80.16679], [26.03424, -80.16679], [26.03424, -80.16679], [26.03424, -80.16679], [37.84266, -77.45064], [37.84266, -77.45064], [37.84266, -77.45064], [37.84266, -77.45064], [37.84266, -77.45064], [37.84266, -77.45064], [37.84266, -77.45064], [38.8608, -77.05239], [38.8608, -77.05239], [38.8608, -77.05239], [38.8608, -77.05239], [38.8608, -77.05239], [38.8608, -77.05239], [35.9458, -83.2056], [35.9458, -83.2056], [36.08412, -115.03031], [36.08412, -115.03031], [36.08412, -115.03031], [36.08412, -115.03031], [36.08412, -115.03031], [40.10828, -83.09729], [40.10828, -83.09729], [39.74493, -104.99473], [35.05441, -85.31156], [35.05441, -85.31156], [35.05441, -85.31156], [35.05441, -85.31156], [35.05441, -85.31156], [30.48228, -84.16306], [30.48228, -84.16306], [41.64345, -70.8845], [41.64345, -70.8845], [29.60026, -82.37291], [29.60026, -82.37291], [26.02265, -80.1164], [26.02265, -80.1164], [26.695874, -80.075042], [26.695874, -80.075042], [26.695874, -80.075042], [26.695874, -80.075042], [26.695874, -80.075042], [26.695874, -80.075042], [40.582696, -122.357959], [32.7777, -79.9312], [32.7777, -79.9312], [32.7777, -79.9312], [32.7777, -79.9312], [32.7777, -79.9312], [32.7777, -79.9312], [32.7777, -79.9312], [32.7777, -79.9312], [32.7777, -79.9312], [32.7777, -79.9312], [32.7777, -79.9312], [32.7777, -79.9312], [32.7777, -79.9312], [32.7777, -79.9312], [32.7777, -79.9312], [32.7777, -79.9312], [32.7777, -79.9312], [32.7777, -79.9312], [32.7777, -79.9312], [32.7777, -79.9312], [32.7777, -79.9312], [32.7777, -79.9312], [32.7777, -79.9312], [32.7777, -79.9312], [32.7777, -79.9312], [32.7777, -79.9312], [32.7777, -79.9312], [32.7777, -79.9312], [32.7777, -79.9312], [32.7777, -79.9312], [32.7777, -79.9312], [32.7777, -79.9312], [32.7777, -79.9312], [32.7777, -79.9312], [32.7777, -79.9312], [32.7777, -79.9312], [32.7777, -79.9312], [32.7777, -79.9312], [32.7777, -79.9312], [32.7777, -79.9312], [32.7777, -79.9312], [32.7777, -79.9312], [32.7777, -79.9312], [32.7777, -79.9312], [32.7777, -79.9312], [32.7777, -79.9312], [32.7777, -79.9312], [32.7777, -79.9312], [32.7777, -79.9312], [32.7777, -79.9312], [32.7777, -79.9312], [32.7777, -79.9312], [32.7777, -79.9312], [32.7777, -79.9312], [32.7777, -79.9312], [32.7777, -79.9312], [32.7777, -79.9312], [32.7777, -79.9312], [41.231083, -73.029299], [41.231083, -73.029299], [41.231083, -73.029299], [41.231083, -73.029299], [41.231083, -73.029299], [41.231083, -73.029299], [30.4239, -91.1319], [30.4239, -91.1319], [30.4239, -91.1319], [30.4239, -91.1319], [30.4239, -91.1319], [30.4239, -91.1319], [30.4239, -91.1319], [30.4239, -91.1319], [30.4239, -91.1319], [30.4239, -91.1319], [45.08529986, -87.65248137], [42.775562, -86.07773], [42.775562, -86.07773], [40.009003, -86.12542], [40.009003, -86.12542], [40.009003, -86.12542], [40.009003, -86.12542], [40.009003, -86.12542], [40.009003, -86.12542], [40.009003, -86.12542], [36.02837, -86.78824], [44.32076, -93.29714], [44.32076, -93.29714], [38.94734, -99.55955], [38.94734, -99.55955], [46.89819, -102.78512], [41.36367, -75.68512], [41.36367, -75.68512], [41.36367, -75.68512], [41.36367, -75.68512], [41.36367, -75.68512], [41.36367, -75.68512], [35.71355, -83.51152], [35.71355, -83.51152], [35.71355, -83.51152], [35.71355, -83.51152], [35.71355, -83.51152], [35.71355, -83.51152], [35.71355, -83.51152], [35.71355, -83.51152], [35.71355, -83.51152], [35.71355, -83.51152], [35.71355, -83.51152], [35.71355, -83.51152], [35.71355, -83.51152], [35.71355, -83.51152], [35.71355, -83.51152], [35.71355, -83.51152], [35.71355, -83.51152], [35.71355, -83.51152], [35.71355, -83.51152], [35.71355, -83.51152], [35.71355, -83.51152], [35.71355, -83.51152], [35.71355, -83.51152], [35.71355, -83.51152], [35.71355, -83.51152], [35.71355, -83.51152], [35.71355, -83.51152], [35.71355, -83.51152], [35.71355, -83.51152], [35.71355, -83.51152], [35.71355, -83.51152], [35.71355, -83.51152], [35.71355, -83.51152], [35.71355, -83.51152], [35.71355, -83.51152], [35.71355, -83.51152], [33.9216, -116.800735], [42.33588, -83.05027], [42.33588, -83.05027], [39.767114, -86.168269], [39.767114, -86.168269], [39.767114, -86.168269], [39.767114, -86.168269], [39.767114, -86.168269], [39.767114, -86.168269], [39.767114, -86.168269], [40.46242, -79.924934], [28.418021, -81.460006], [28.418021, -81.460006], [41.55378, -90.52734], [38.958011, -77.41702], [38.958011, -77.41702], [38.958011, -77.41702], [37.44247, -94.70755], [37.44247, -94.70755], [37.44247, -94.70755], [40.5601, -84.17172], [40.5601, -84.17172], [32.49287, -92.05618], [36.68654, -80.88493], [36.62852, -82.1505], [37.565834, -85.26681], [37.565834, -85.26681], [39.82397, -104.77112], [39.82397, -104.77112], [39.82397, -104.77112], [39.82397, -104.77112], [39.82397, -104.77112], [39.82397, -104.77112], [37.34726, -108.28728], [39.26974, -103.70661], [39.26974, -103.70661], [38.13104, -108.29169], [38.13104, -108.29169], [40.26438, -103.77333], [40.26438, -103.77333], [39.92003, -88.95218], [39.11415, -108.53428], [35.3617, -83.20172], [30.14833, -93.63858], [35.25156, -112.18606], [35.25156, -112.18606], [35.25156, -112.18606], [35.25156, -112.18606], [35.25156, -112.18606], [35.25156, -112.18606], [41.82098, -78.28738], [35.46475, -97.47555], [35.46475, -97.47555], [35.46475, -97.47555], [35.46475, -97.47555], [35.46475, -97.47555], [35.46475, -97.47555], [35.46475, -97.47555], [35.46475, -97.47555], [35.46475, -97.47555], [35.46475, -97.47555], [35.46475, -97.47555], [35.46475, -97.47555], [35.46475, -97.47555], [35.46475, -97.47555], [35.46475, -97.47555], [44.58347, -123.25965], [44.58347, -123.25965], [35.4803, -97.52074], [35.4803, -97.52074], [35.4803, -97.52074], [35.4803, -97.52074], [35.4803, -97.52074], [35.4803, -97.52074], [39.96157, -86.15636], [39.945827, -86.154526], [39.945827, -86.154526], [39.945827, -86.154526], [35.81178, -90.67494], [40.084095, -75.388275], [40.084095, -75.388275], [40.084095, -75.388275], [40.084095, -75.388275], [40.084095, -75.388275], [40.084095, -75.388275], [40.084095, -75.388275], [40.084095, -75.388275], [44.25143, -121.18567], [44.25143, -121.18567], [44.25143, -121.18567], [44.25143, -121.18567], [44.25143, -121.18567], [44.25143, -121.18567], [34.29909, -88.70694], [34.29909, -88.70694], [34.29909, -88.70694], [34.29909, -88.70694], [34.29909, -88.70694], [37.03927, -76.38634], [37.03927, -76.38634], [39.10693, -77.54327], [39.10693, -77.54327], [39.10693, -77.54327], [35.71036, -83.51405], [43.33251, -89.455], [43.33251, -89.455], [43.33251, -89.455], [43.33251, -89.455], [43.51116, -70.37732], [36.78228, -90.42545], [36.78228, -90.42545], [36.78228, -90.42545], [36.20057, -80.81212], [36.20057, -80.81212], [45.89084, -123.96149], [42.046, -80.08098], [42.046, -80.08098], [42.046, -80.08098], [42.046, -80.08098], [42.046, -80.08098], [42.046, -80.08098], [42.046, -80.08098], [42.88597, -78.87359], [42.88597, -78.87359], [42.88597, -78.87359], [42.90875, -78.76243], [42.06753, -80.04224], [44.22526, -74.45488], [42.44074, -76.49741], [42.44074, -76.49741], [42.44074, -76.49741], [42.44074, -76.49741], [42.44074, -76.49741], [42.04651, -74.27305], [42.04651, -74.27305], [42.04651, -74.27305], [44.97075, -122.98914], [39.883358, -105.072334], [39.883358, -105.072334], [39.883358, -105.072334], [39.883358, -105.072334], [39.883358, -105.072334], [39.883358, -105.072334], [43.17048, -71.53343], [43.17048, -71.53343], [43.17048, -71.53343], [43.17048, -71.53343], [43.17048, -71.53343], [43.17048, -71.53343], [44.86075, -93.27549], [44.86075, -93.27549], [44.86075, -93.27549], [44.86075, -93.27549], [44.86075, -93.27549], [44.86075, -93.27549], [44.86075, -93.27549], [44.86075, -93.27549], [39.98717, -82.91299], [33.57681, -101.90021], [40.11106, -88.20793], [41.65064, -93.60139], [34.70175, -83.72436], [41.63823, -71.02717], [41.63823, -71.02717], [41.63823, -71.02717], [35.01079, -85.21954], [35.2265, -100.2422], [42.7745, -71.1166], [42.7745, -71.1166], [42.7745, -71.1166], [42.7745, -71.1166], [42.7745, -71.1166], [42.7745, -71.1166], [34.03955, -84.32345], [34.03955, -84.32345], [33.4254, -84.1771], [47.711864, -116.997625], [47.711864, -116.997625], [47.711864, -116.997625], [47.711864, -116.997625], [47.711864, -116.997625], [47.711864, -116.997625], [47.711864, -116.997625], [47.711864, -116.997625], [47.711864, -116.997625], [47.711864, -116.997625], [41.5984, -87.18], [32.21591, -80.70064], [32.21591, -80.70064], [32.21591, -80.70064], [32.21591, -80.70064], [32.21591, -80.70064], [32.21591, -80.70064], [32.21591, -80.70064], [32.21591, -80.70064], [34.41745, -119.67278], [34.41745, -119.67278], [34.41745, -119.67278], [35.05353, -83.20065], [42.93166, -78.73025], [42.93166, -78.73025], [42.93166, -78.73025], [42.93166, -78.73025], [42.93166, -78.73025], [26.00193, -80.11662], [26.00193, -80.11662], [39.96837, -86.15593], [39.96837, -86.15593], [39.96837, -86.15593], [39.96837, -86.15593], [39.96837, -86.15593], [39.96837, -86.15593], [39.96837, -86.15593], [39.96837, -86.15593], [39.96837, -86.15593], [39.96837, -86.15593], [39.96837, -86.15593], [39.96837, -86.15593], [39.96837, -86.15593], [39.96837, -86.15593], [26.595897, -81.85087], [26.595897, -81.85087], [26.595897, -81.85087], [42.0192, -97.4263], [42.0192, -97.4263], [42.0192, -97.4263], [42.0192, -97.4263], [42.0192, -97.4263], [42.0192, -97.4263], [38.630151, -90.340861], [38.630151, -90.340861], [30.790037, -81.66398], [30.790037, -81.66398], [30.790037, -81.66398], [30.790037, -81.66398], [30.790037, -81.66398], [30.790037, -81.66398], [43.837498, -74.42983], [43.7041, -74.98307], [43.7041, -74.98307], [43.7041, -74.98307], [43.7041, -74.98307], [43.7041, -74.98307], [43.7041, -74.98307], [35.10329, -106.62655], [35.10329, -106.62655], [35.10329, -106.62655], [35.10329, -106.62655], [35.10329, -106.62655], [35.64552, -106.00897], [35.64552, -106.00897], [35.64552, -106.00897], [36.30456, -95.3192], [36.30456, -95.3192], [35.385, -97.4959], [35.385, -97.4959], [35.385, -97.4959], [35.385, -97.4959], [35.385, -97.4959], [41.13282, -85.16492], [41.13282, -85.16492], [41.13282, -85.16492], [41.13282, -85.16492], [41.13282, -85.16492], [41.13282, -85.16492], [41.13282, -85.16492], [41.13282, -85.16492], [41.13282, -85.16492], [41.13282, -85.16492], [47.01099, -124.16695], [34.07641, -80.94471], [34.07641, -80.94471], [34.07641, -80.94471], [34.07641, -80.94471], [34.07641, -80.94471], [34.07641, -80.94471], [34.07641, -80.94471], [34.07641, -80.94471], [34.07641, -80.94471], [34.07641, -80.94471], [34.07641, -80.94471], [33.98434, -81.24298], [33.98434, -81.24298], [33.98434, -81.24298], [33.51148, -82.0469], [33.51148, -82.0469], [33.51148, -82.0469], [33.51148, -82.0469], [33.51148, -82.0469], [33.51148, -82.0469], [33.51148, -82.0469], [33.51148, -82.0469], [33.52479, -82.03484], [33.52479, -82.03484], [33.52479, -82.03484], [33.52479, -82.03484], [33.66071, -78.91563], [39.98381, -76.73349], [41.20382, -79.97253], [44.24533, -68.3452], [43.75215, -70.10282], [47.1032, -119.3176], [47.1032, -119.3176], [47.1032, -119.3176], [47.1032, -119.3176], [47.1032, -119.3176], [47.1032, -119.3176], [47.1032, -119.3176], [47.1032, -119.3176], [47.1032, -119.3176], [47.1032, -119.3176], [47.1032, -119.3176], [47.1032, -119.3176], [44.97287, -124.01641], [44.97287, -124.01641], [44.97287, -124.01641], [44.97287, -124.01641], [33.1825, -117.29553], [39.288739, -84.349266], [39.288739, -84.349266], [39.288739, -84.349266], [39.288739, -84.349266], [39.288739, -84.349266], [39.288739, -84.349266], [39.288739, -84.349266], [39.288739, -84.349266], [39.288739, -84.349266], [31.3124, -92.4778], [40.42074, -104.7723], [40.42074, -104.7723], [40.42074, -104.7723], [40.42074, -104.7723], [40.42074, -104.7723], [43.53126, -70.36024], [43.53126, -70.36024], [43.53126, -70.36024], [43.53126, -70.36024], [30.39781, -97.718], [30.39781, -97.718], [30.39781, -97.718], [30.39781, -97.718], [31.97716, -102.11606], [31.88892, -102.33335], [35.1968, -84.88497], [43.59462, -116.17709], [43.59462, -116.17709], [43.59462, -116.17709], [43.48619, -71.53614], [36.80553, -114.06719], [37.52771, -77.32922], [37.52771, -77.32922], [37.52771, -77.32922], [29.15911, -80.97293], [29.15911, -80.97293], [29.15911, -80.97293], [29.05632, -81.30475], [29.05632, -81.30475], [29.05632, -81.30475], [36.63699, -93.4129], [40.39276, -105.56186], [40.39276, -105.56186], [43.630775, -72.79709], [43.630775, -72.79709], [40.49105, -81.47224], [40.417286, -82.90712], [43.491, -71.52673], [43.20496, -72.7731], [36.78112, -76.23843], [36.78112, -76.23843], [36.78112, -76.23843], [32.46717, -83.74465], [35.82274, -83.57623], [30.49456, -87.22458], [30.49456, -87.22458], [30.49544, -87.22484], [38.62469, -90.18861], [38.62469, -90.18861], [38.62469, -90.18861], [38.62469, -90.18861], [38.62469, -90.18861], [38.62469, -90.18861], [38.62469, -90.18861], [38.62469, -90.18861], [38.62469, -90.18861], [38.62469, -90.18861], [38.62469, -90.18861], [42.14945, -72.47322], [39.44466, -77.9805], [39.37186, -76.45937], [26.024508, -80.11535], [26.024508, -80.11535], [26.024508, -80.11535], [26.024508, -80.11535], [26.024508, -80.11535], [26.024508, -80.11535], [26.024508, -80.11535], [26.024508, -80.11535], [26.024508, -80.11535], [26.024508, -80.11535], [26.024508, -80.11535], [26.024508, -80.11535], [26.024508, -80.11535], [26.024508, -80.11535], [26.024508, -80.11535], [34.338232, -79.522479], [34.338232, -79.522479], [40.70271, -73.8153], [42.3702, -76.8679], [42.3702, -76.8679], [41.33131, -75.73683], [41.33131, -75.73683], [41.33131, -75.73683], [41.33131, -75.73683], [34.96104, -90.00876], [34.96104, -90.00876], [33.830417, -84.49147], [33.830417, -84.49147], [33.830417, -84.49147], [32.74077, -97.02752], [35.8267, -78.58679], [36.08217, -96.04493], [34.18353, -101.72718], [41.4512, -75.6368], [41.4512, -75.6368], [41.4512, -75.6368], [41.4512, -75.6368], [41.4512, -75.6368], [41.4512, -75.6368], [41.4512, -75.6368], [41.4512, -75.6368], [41.4512, -75.6368], [41.4512, -75.6368], [41.4512, -75.6368], [41.4512, -75.6368], [31.39617, -103.50528], [35.19576, -101.87081], [35.19576, -101.87081], [43.62833, -89.77523], [43.62833, -89.77523], [21.281084, -157.82661], [21.281084, -157.82661], [21.281084, -157.82661], [21.281084, -157.82661], [21.281084, -157.82661], [32.39842, -80.68583], [32.39842, -80.68583], [32.275773, -81.081571], [32.275773, -81.081571], [32.275773, -81.081571], [32.275773, -81.081571], [32.275773, -81.081571], [32.275773, -81.081571], [32.275773, -81.081571], [32.275773, -81.081571], [32.275773, -81.081571], [40.665629, -73.784037], [40.665629, -73.784037], [36.88586, -76.18147], [35.04185, -85.16014], [33.921727, -84.491939], [33.921727, -84.491939], [33.921727, -84.491939], [32.22726, -101.46966], [32.22726, -101.46966], [32.68155, -97.412285], [32.68155, -97.412285], [29.69769, -95.12491], [29.69769, -95.12491], [29.69769, -95.12491], [42.33978, -83.06718], [42.33978, -83.06718], [42.33978, -83.06718], [42.33978, -83.06718], [42.33978, -83.06718], [42.33978, -83.06718], [42.33978, -83.06718], [42.33978, -83.06718], [32.31885, -110.97626], [33.31091, -111.84188], [33.50291, -111.93309], [34.13897, -109.95358], [58.362766, -134.52943], [58.362766, -134.52943], [58.362766, -134.52943], [58.362766, -134.52943], [34.36466, -89.55758], [34.36466, -89.55758], [34.36466, -89.55758], [34.36466, -89.55758], [34.36466, -89.55758], [39.18661, -96.54947], [39.18661, -96.54947], [39.18661, -96.54947], [41.11683, -101.7157], [41.11683, -101.7157], [41.11683, -101.7157], [41.11683, -101.7157], [41.11683, -101.7157], [39.0438, -94.59647], [39.0438, -94.59647], [39.0438, -94.59647], [39.0438, -94.59647], [39.0438, -94.59647], [39.0438, -94.59647], [39.24041, -94.46157], [60.614468, -151.25456], [38.30182, -80.83136], [36.94661, -80.95185], [35.08288, -81.70391], [35.08288, -81.70391], [35.01818, -85.3765], [35.01818, -85.3765], [43.3727, -72.33991], [30.19817, -93.23776], [47.7107, -104.16141], [44.11712, -70.44369], [37.34909, -108.57083], [46.41177, -117.00039], [40.12351, -87.54117], [34.1137, -109.89142], [34.1137, -109.89142], [34.1137, -109.89142], [20.917433, -156.67715], [20.917433, -156.67715], [20.917433, -156.67715], [20.917433, -156.67715], [20.917433, -156.67715], [20.917433, -156.67715], [20.917433, -156.67715], [20.917433, -156.67715], [20.917433, -156.67715], [20.917433, -156.67715], [20.917433, -156.67715], [20.917433, -156.67715], [20.917433, -156.67715], [20.917433, -156.67715], [20.917433, -156.67715], [20.917433, -156.67715], [20.917433, -156.67715], [44.89019, -97.14418], [44.89019, -97.14418], [44.89019, -97.14418], [44.89019, -97.14418], [44.89019, -97.14418], [39.79586, -105.02458], [33.38421, -111.87608], [33.38421, -111.87608], [33.38421, -111.87608], [33.38421, -111.87608], [33.38421, -111.87608], [33.38421, -111.87608], [37.72089, -97.24155], [37.72089, -97.24155], [37.72089, -97.24155], [37.72089, -97.24155], [37.72089, -97.24155], [37.72089, -97.24155], [37.72089, -97.24155], [37.72089, -97.24155], [42.00878, -93.57829], [42.00878, -93.57829], [42.00878, -93.57829], [42.8815, -78.8773], [42.8815, -78.8773], [45.350616, -84.967575], [40.58451, -105.07762], [40.58451, -105.07762], [40.58451, -105.07762], [40.58451, -105.07762], [30.72942, -86.56652], [30.72942, -86.56652], [34.1347, -116.1031], [34.1347, -116.1031], [34.1347, -116.1031], [34.1347, -116.1031], [34.1347, -116.1031], [46.21565, -119.78738], [46.21565, -119.78738], [46.21565, -119.78738], [48.53222, -123.0237], [43.8715, -91.2134], [43.8715, -91.2134], [43.8715, -91.2134], [43.8715, -91.2134], [37.44348, -94.70742], [37.168224, -101.33462], [38.89482, -99.31863], [38.89482, -99.31863], [40.09805, -101.534355], [42.44682, -96.33576], [48.58393, -93.39711], [46.43463, -92.74935], [46.43463, -92.74935], [45.68442, -92.96185], [34.35479, -82.91042], [33.5089, -82.50371], [45.55158, -94.20826], [45.54915, -94.20804], [45.54915, -94.20804], [45.54915, -94.20804], [33.04355, -84.97869], [33.11612, -83.26032], [37.4272, -89.64302], [37.4272, -89.64302], [37.4272, -89.64302], [37.4272, -89.64302], [37.4272, -89.64302], [36.89169, -89.53665], [36.89169, -89.53665], [37.68382, -92.64338], [39.46058, -87.41476], [41.03418, -85.25536], [41.03418, -85.25536], [41.03418, -85.25536], [38.25232, -85.75327], [29.62, -82.38617], [29.62, -82.38617], [29.62, -82.38617], [29.62, -82.38617], [45.03515, -87.14832], [38.87092, -77.36796], [38.87092, -77.36796], [37.35629, -79.95644], [37.56678, -77.47474], [37.56678, -77.47474], [37.56678, -77.47474], [37.56678, -77.47474], [37.56678, -77.47474], [38.885876, -77.11707], [38.885876, -77.11707], [38.885876, -77.11707], [38.885876, -77.11707], [34.85895, -82.26295], [34.91312, -82.1042], [34.91312, -82.1042], [34.91312, -82.1042], [36.09497, -115.18189], [40.23393, -77.13658], [40.23393, -77.13658], [40.23393, -77.13658], [32.75547, -96.46963], [32.75547, -96.46963], [40.43551, -79.7566], [40.43551, -79.7566], [40.09727, -79.8839], [40.09727, -79.8839], [40.09727, -79.8839], [40.09727, -79.8839], [32.78382, -97.06068], [32.78382, -97.06068], [32.78382, -97.06068], [32.78382, -97.06068], [42.04809, -80.08264], [42.04809, -80.08264], [42.04809, -80.08264], [42.04809, -80.08264], [42.04809, -80.08264], [42.04809, -80.08264], [42.04809, -80.08264], [42.04809, -80.08264], [42.04809, -80.08264], [42.04809, -80.08264], [42.04809, -80.08264], [42.04809, -80.08264], [39.167097, -86.570891], [39.167097, -86.570891], [39.167097, -86.570891], [39.167097, -86.570891], [39.167097, -86.570891], [38.977239, -76.551949], [38.977239, -76.551949], [38.977239, -76.551949], [34.4445, -119.2532], [48.17455, -111.94314], [45.6993, -111.04863], [46.90716, -114.03886], [46.90716, -114.03886], [46.90716, -114.03886], [46.90716, -114.03886], [46.90716, -114.03886], [45.75454, -108.53982], [45.75454, -108.53982], [45.75454, -108.53982], [45.75454, -108.53982], [45.75454, -108.53982], [45.75454, -108.53982], [46.47089, -113.23608], [45.22677, -112.62817], [45.22677, -112.62817], [46.39322, -105.82188], [46.39322, -105.82188], [46.39322, -105.82188], [46.39883, -105.82296], [46.39883, -105.82296], [46.39883, -105.82296], [46.39322, -105.82188], [45.98528, -112.50594], [45.98528, -112.50594], [45.98528, -112.50594], [45.98528, -112.50594], [45.69862, -111.05039], [45.69862, -111.05039], [46.00641, -98.52794], [46.85033, -96.88209], [48.20631, -101.31634], [34.9925, -78.35184], [46.86508, -96.84595], [46.86508, -96.84595], [46.86508, -96.84595], [46.86508, -96.84595], [70.13362, -143.61252], [44.01977, -107.92751], [44.01977, -107.92751], [44.49223, -108.0557], [44.49223, -108.0557], [44.49223, -108.0557], [44.50264, -108.05593], [44.50264, -108.05593], [42.76398, -105.40002], [42.85444, -106.26659], [42.85444, -106.26659], [42.85444, -106.26659], [42.85444, -106.26659], [42.85444, -106.26659], [42.85444, -106.26659], [42.85444, -106.26659], [43.84645, -104.18912], [36.70894, -105.40714], [36.711823, -105.41255], [36.8848, -104.43365], [45.488396, -69.63753], [37.75158, -81.073105], [28.43834, -99.23574], [44.07112, -111.45362], [32.516094, -96.820335], [29.42667, -98.48081], [29.42667, -98.48081], [29.42667, -98.48081], [29.42667, -98.48081], [29.42667, -98.48081], [29.42667, -98.48081], [29.42667, -98.48081], [29.42667, -98.48081], [29.42667, -98.48081], [29.42053, -98.4968], [32.53912, -97.31124], [32.53912, -97.31124], [32.74871, -97.35283], [32.74871, -97.35283], [32.74871, -97.35283], [32.74871, -97.35283], [32.4188, -97.22686], [32.4188, -97.22686], [39.8798, -83.04505], [39.8798, -83.04505], [37.21306, -93.37116], [37.21306, -93.37116], [37.21306, -93.37116], [41.31174, -84.36274], [33.9502, -83.4119], [33.9502, -83.4119], [33.9502, -83.4119], [33.9502, -83.4119], [43.04838, -77.09458], [43.04838, -77.09458], [43.04838, -77.09458], [40.85604, -81.41629], [40.85604, -81.41629], [38.252922, -85.75175], [38.252922, -85.75175], [38.252922, -85.75175], [38.252922, -85.75175], [38.252922, -85.75175], [38.252922, -85.75175], [38.252922, -85.75175], [38.252922, -85.75175], [41.2619, -96.083972], [41.2619, -96.083972], [41.2619, -96.083972], [39.37094, -76.46179], [39.37094, -76.46179], [39.37094, -76.46179], [39.37094, -76.46179], [43.05255, -76.56202], [41.76658, -75.48286], [36.09257, -95.9238], [40.05747, -84.23471], [40.05747, -84.23471], [41.61915, -83.6945], [34.76062, -77.41679], [43.25888, -70.59891], [43.25888, -70.59891], [45.17957, -87.1482], [45.17957, -87.1482], [45.307198, -85.2588], [45.307198, -85.2588], [43.63441, -89.77094], [33.59209, -85.04333], [33.59209, -85.04333], [43.48216, -83.96853], [43.48216, -83.96853], [43.48216, -83.96853], [43.48216, -83.96853], [43.48216, -83.96853], [37.63453, -77.4548], [37.63453, -77.4548], [36.200363, -83.338806], [37.39994, -77.4274], [37.39994, -77.4274], [37.39994, -77.4274], [37.97347, -87.58008], [40.53312, -88.99778], [41.68098, -91.56467], [41.69765, -91.60403], [41.69765, -91.60403], [39.08477, -94.58051], [39.08477, -94.58051], [39.08477, -94.58051], [39.08477, -94.58051], [39.08477, -94.58051], [39.08477, -94.58051], [39.08477, -94.58051], [39.08477, -94.58051], [39.08477, -94.58051], [39.08477, -94.58051], [39.08477, -94.58051], [39.08477, -94.58051], [39.08477, -94.58051], [39.08477, -94.58051], [39.08477, -94.58051], [39.08477, -94.58051], [39.08477, -94.58051], [39.08477, -94.58051], [39.08477, -94.58051], [39.08477, -94.58051], [39.08477, -94.58051], [39.08477, -94.58051], [39.08477, -94.58051], [39.08477, -94.58051], [39.08477, -94.58051], [39.08477, -94.58051], [39.08477, -94.58051], [39.08477, -94.58051], [39.08477, -94.58051], [39.08477, -94.58051], [39.08477, -94.58051], [39.08477, -94.58051], [39.08477, -94.58051], [39.08477, -94.58051], [39.08477, -94.58051], [39.08477, -94.58051], [39.08477, -94.58051], [39.08477, -94.58051], [39.08477, -94.58051], [39.08477, -94.58051], [39.08477, -94.58051], [39.08477, -94.58051], [39.08477, -94.58051], [39.08477, -94.58051], [39.08477, -94.58051], [47.66092, -117.40987], [47.66092, -117.40987], [47.66092, -117.40987], [47.66092, -117.40987], [47.66092, -117.40987], [47.66092, -117.40987], [47.66092, -117.40987], [47.66092, -117.40987], [47.66092, -117.40987], [47.66092, -117.40987], [47.66092, -117.40987], [29.7072, -95.4044], [29.7072, -95.4044], [29.7072, -95.4044], [29.7072, -95.4044], [45.2018, -123.16803], [45.2018, -123.16803], [45.2018, -123.16803], [45.2018, -123.16803], [45.2018, -123.16803], [45.2018, -123.16803], [45.2018, -123.16803], [36.69351, -121.80303], [36.130257, -115.155525], [36.130257, -115.155525], [36.130257, -115.155525], [36.130257, -115.155525], [41.97902, -91.67569], [41.97902, -91.67569], [41.97902, -91.67569], [41.97902, -91.67569], [41.97902, -91.67569], [41.97902, -91.67569], [41.97902, -91.67569], [41.97902, -91.67569], [38.62996, -90.281], [38.62996, -90.281], [38.62996, -90.281], [38.62996, -90.281], [38.62996, -90.281], [38.62996, -90.281], [38.62996, -90.281], [38.62996, -90.281], [38.62996, -90.281], [38.62996, -90.281], [30.61252, -86.95989], [30.61252, -86.95989], [41.071, -74.1392], [41.071, -74.1392], [35.9791, -77.8473], [40.335476, -75.9237], [40.335476, -75.9237], [34.0124, -118.4961], [34.0124, -118.4961], [34.0124, -118.4961], [34.0124, -118.4961], [34.0124, -118.4961], [34.0124, -118.4961], [34.0124, -118.4961], [34.0124, -118.4961], [34.0124, -118.4961], [34.0124, -118.4961], [34.0124, -118.4961], [34.0124, -118.4961], [34.0124, -118.4961], [34.0124, -118.4961], [34.0124, -118.4961], [34.0124, -118.4961], [34.0124, -118.4961], [34.0124, -118.4961], [34.0124, -118.4961], [34.0124, -118.4961], [34.0124, -118.4961], [34.0124, -118.4961], [34.0124, -118.4961], [34.0124, -118.4961], [34.0124, -118.4961], [34.0124, -118.4961], [34.0124, -118.4961], [34.0124, -118.4961], [34.0124, -118.4961], [34.0124, -118.4961], [34.0124, -118.4961], [34.0124, -118.4961], [42.69572, -74.93355], [39.88177, -83.04512], [39.88177, -83.04512], [39.88177, -83.04512], [39.88177, -83.04512], [39.88177, -83.04512], [39.88177, -83.04512], [39.88177, -83.04512], [39.88177, -83.04512], [39.88177, -83.04512], [39.88177, -83.04512], [39.88177, -83.04512], [39.36006, -82.97827], [47.92105, -122.30019], [47.92105, -122.30019], [47.92105, -122.30019], [35.52756, -120.70268], [30.479883, -84.30708], [30.479883, -84.30708], [30.479883, -84.30708], [30.479883, -84.30708], [30.479883, -84.30708], [30.479883, -84.30708], [30.479883, -84.30708], [30.479883, -84.30708], [30.479883, -84.30708], [39.39798, -123.35002], [38.12452, -121.26123], [38.12452, -121.26123], [38.12452, -121.26123], [35.61471, -117.6715], [36.77693, -76.26845], [36.77693, -76.26845], [29.65579, -95.254195], [29.65579, -95.254195], [40.96052, -77.76053], [40.96052, -77.76053], [40.96052, -77.76053], [35.06903, -91.90785], [42.77919, -71.24128], [41.05463, -74.07048], [41.05463, -74.07048], [41.05463, -74.07048], [41.05463, -74.07048], [41.05463, -74.07048], [41.05463, -74.07048], [38.724, -82.85906], [39.6033, -77.8091], [39.6033, -77.8091], [39.6033, -77.8091], [42.40455, -86.27374], [28.05204, -82.42633], [28.05204, -82.42633], [28.05204, -82.42633], [48.64759, -122.87083], [48.64759, -122.87083], [37.12588, -80.53854], [37.12588, -80.53854], [37.12588, -80.53854], [37.12588, -80.53854], [42.2703, -88.9714], [42.2703, -88.9714], [42.2703, -88.9714], [42.2703, -88.9714], [42.2703, -88.9714], [42.2703, -88.9714], [42.2703, -88.9714], [42.2703, -88.9714], [37.735054, -122.196815], [40.54714, -84.57129], [39.29647, -84.31937], [39.29647, -84.31937], [39.29647, -84.31937], [39.29647, -84.31937], [39.29647, -84.31937], [39.29647, -84.31937], [39.29647, -84.31937], [43.49108, -96.77154], [43.49108, -96.77154], [43.49108, -96.77154], [45.09258, -87.64838], [34.00182, -118.483], [34.00182, -118.483], [34.00182, -118.483], [34.00182, -118.483], [34.00182, -118.483], [34.00182, -118.483], [34.00182, -118.483], [34.00182, -118.483], [34.00182, -118.483], [39.99962, -82.89356], [40.05478, -85.64918], [41.944115, -87.645996], [41.944115, -87.645996], [41.944115, -87.645996], [41.944115, -87.645996], [42.40687, -90.41977], [38.24331, -86.12626], [38.57924, -122.57841], [36.7788, -76.24254], [33.86182, -118.29887], [33.86182, -118.29887], [33.86182, -118.29887], [36.0578, -94.19834], [36.0578, -94.19834], [39.12915, -100.85365], [38.95378, -90.36155], [38.95378, -90.36155], [38.95378, -90.36155], [40.04902, -78.51213], [40.04902, -78.51213], [39.35104, -94.76145], [39.35104, -94.76145], [39.35104, -94.76145], [39.35104, -94.76145], [39.35104, -94.76145], [39.35104, -94.76145], [39.35104, -94.76145], [38.56981, -94.85776], [38.86851592, -78.52828032], [38.86851592, -78.52828032], [42.33832, -79.55534], [42.33832, -79.55534], [42.33832, -79.55534], [41.99226, -87.86227], [35.9325, -79.032], [42.03567, -93.867], [42.03567, -93.867], [42.03567, -93.867], [42.03567, -93.867], [42.98943, -83.739], [42.98943, -83.739], [42.98943, -83.739], [42.98943, -83.739], [42.02065, -93.61084], [41.37268, -93.55905], [35.28719, -120.66178], [32.6161, -83.69378], [32.92826, -84.33448], [32.92826, -84.33448], [32.92826, -84.33448], [32.92826, -84.33448], [32.90634, -83.68974], [39.16258, -94.62122], [30.37569, -86.34954], [30.37569, -86.34954], [42.7441, -84.66112], [33.849064, -84.37302], [33.849064, -84.37302], [45.82375, -120.81071], [45.82375, -120.81071], [48.07519, -123.13643], [29.538499, -98.567198], [29.538499, -98.567198], [29.538499, -98.567198], [29.538499, -98.567198], [29.538499, -98.567198], [29.538499, -98.567198], [29.538499, -98.567198], [29.538499, -98.567198], [29.538499, -98.567198], [33.635284, -117.92447], [38.2688, -80.84223], [38.99078, -95.23017], [38.99078, -95.23017], [38.99078, -95.23017], [38.99078, -95.23017], [38.84859, -97.62172], [40.38449, -104.69045], [43.515397, -96.776096], [43.515397, -96.776096], [43.515397, -96.776096], [43.515397, -96.776096], [43.515397, -96.776096], [43.515397, -96.776096], [35.44836, -97.59717], [35.44836, -97.59717], [35.44836, -97.59717], [35.44836, -97.59717], [41.392876, -89.46686], [41.392876, -89.46686], [38.88519, -94.79277], [38.88519, -94.79277], [38.88519, -94.79277], [38.88519, -94.79277], [38.88519, -94.79277], [38.88519, -94.79277], [42.91079, -70.81308], [34.035, -118.1171], [34.035, -118.1171], [28.123753, -82.740159], [28.123753, -82.740159], [28.123753, -82.740159], [28.123753, -82.740159], [28.123753, -82.740159], [28.123753, -82.740159], [28.123753, -82.740159], [28.123753, -82.740159], [45.65921, -91.54932], [45.65921, -91.54932], [43.62829, -89.76244], [43.62829, -89.76244], [33.68824, -85.15169], [37.59895, -76.44419], [38.08516, -78.98658], [38.08516, -78.98658], [36.94773, -81.05639], [37.30901, -79.97067], [37.30901, -79.97067], [37.30901, -79.97067], [37.30901, -79.97067], [37.30901, -79.97067], [37.39412, -79.15856], [37.3338, -79.1907], [37.3338, -79.1907], [37.3338, -79.1907], [37.67414, -113.06217], [37.67414, -113.06217], [37.67414, -113.06217], [45.42685, -117.28027], [45.48265, -120.73244], [42.19361, -120.34695], [42.19361, -120.34695], [48.64944, -118.73789], [42.35323, -122.87268], [42.36973, -122.87769], [42.35323, -122.87268], [42.46297, -123.32209], [42.46297, -123.32209], [38.93885, -111.85469], [38.93885, -111.85469], [30.3124, -81.65269], [30.3124, -81.65269], [30.3124, -81.65269], [30.3124, -81.65269], [30.3124, -81.65269], [30.3124, -81.65269], [43.57664, -73.671394], [40.81587, -84.93645], [37.82594, -85.47043], [37.82594, -85.47043], [36.1382, -120.35749], [36.1382, -120.35749], [40.16859, -122.22747], [43.04699, -86.22058], [43.04699, -86.22058], [45.76926, -84.73103], [45.76926, -84.73103], [32.52805, -93.69846], [34.96276, -89.99557], [34.96276, -89.99557], [34.96276, -89.99557], [34.96276, -89.99557], [31.53883, -110.25603], [31.53883, -110.25603], [35.19401, -111.62005], [35.19401, -111.62005], [35.19401, -111.62005], [38.39347, -81.58753], [38.39347, -81.58753], [38.39347, -81.58753], [38.39347, -81.58753], [38.39347, -81.58753], [38.39347, -81.58753], [38.79714, -97.61196], [36.38562, -92.28081], [44.1997, -106.78294], [36.03132, -86.80034], [36.03132, -86.80034], [43.521307, -96.775442], [43.521307, -96.775442], [43.521307, -96.775442], [43.521307, -96.775442], [43.521307, -96.775442], [37.247807, -121.77403], [37.247807, -121.77403], [37.247807, -121.77403], [37.247807, -121.77403], [37.247807, -121.77403], [37.247807, -121.77403], [37.247807, -121.77403], [37.247807, -121.77403], [37.247807, -121.77403], [38.92966, -77.248634], [38.92966, -77.248634], [38.92966, -77.248634], [38.92966, -77.248634], [39.05286, -84.63176], [37.46498, -77.42698], [37.46498, -77.42698], [37.46498, -77.42698], [37.46498, -77.42698], [37.46498, -77.42698], [37.46498, -77.42698], [37.46498, -77.42698], [37.46498, -77.42698], [37.46498, -77.42698], [37.46498, -77.42698], [46.70786, -123.98496], [46.70786, -123.98496], [46.70786, -123.98496], [46.70786, -123.98496], [40.247444, -74.29787], [40.247444, -74.29787], [40.247444, -74.29787], [40.247444, -74.29787], [40.247444, -74.29787], [40.247444, -74.29787], [40.247444, -74.29787], [40.247444, -74.29787], [40.247444, -74.29787], [40.247444, -74.29787], [40.247444, -74.29787], [40.247444, -74.29787], [40.247444, -74.29787], [40.247444, -74.29787], [40.247444, -74.29787], [40.247444, -74.29787], [40.247444, -74.29787], [40.247444, -74.29787], [40.52617, -74.36163], [40.52617, -74.36163], [45.902782, -84.73701], [46.72153, -92.07006], [47.49401, -112.39062], [47.49401, -112.39062], [60.48985, -149.82098], [33.17071, -117.2255], [33.17071, -117.2255], [33.17071, -117.2255], [42.96002, -87.93687], [42.96002, -87.93687], [42.96002, -87.93687], [42.96002, -87.93687], [42.96002, -87.93687], [42.96002, -87.93687], [43.058216, -77.65022], [43.058216, -77.65022], [43.058216, -77.65022], [43.058216, -77.65022], [43.058216, -77.65022], [43.058216, -77.65022], [43.058216, -77.65022], [43.058216, -77.65022], [28.45255, -81.46749], [28.45255, -81.46749], [28.45255, -81.46749], [28.45255, -81.46749], [28.45255, -81.46749], [28.45255, -81.46749], [28.45255, -81.46749], [28.45255, -81.46749], [28.45255, -81.46749], [28.45255, -81.46749], [28.45255, -81.46749], [28.45255, -81.46749], [28.45255, -81.46749], [28.45255, -81.46749], [28.45255, -81.46749], [36.872215, -106.58516], [43.49605, -74.36086], [37.321552, -80.03204], [37.321552, -80.03204], [37.321552, -80.03204], [37.321552, -80.03204], [37.321552, -80.03204], [37.321552, -80.03204], [37.321552, -80.03204], [37.321552, -80.03204], [37.321552, -80.03204], [37.321552, -80.03204], [37.321552, -80.03204], [37.321552, -80.03204], [38.85756, -104.89322], [38.85756, -104.89322], [38.85756, -104.89322], [38.85756, -104.89322], [38.85756, -104.89322], [48.392075, -122.49484], [48.392075, -122.49484], [48.392075, -122.49484], [42.04168, -75.02345], [26.51793, -82.19204], [26.51793, -82.19204], [26.51793, -82.19204], [47.315853, -122.299644], [47.315853, -122.299644], [47.315853, -122.299644], [47.315853, -122.299644], [34.09003, -118.38541], [37.114094, -76.50578], [37.114094, -76.50578], [40.89989, -74.63469], [40.89989, -74.63469], [41.45884, -81.4874], [40.745007, -73.58876], [35.6602, -80.45664], [35.6602, -80.45664], [43.948467, -71.505104], [43.948467, -71.505104], [43.948467, -71.505104], [34.426613, -110.58548], [41.624416, -79.67749], [46.16217, -98.42703], [33.306564, -111.897606], [33.306564, -111.897606], [48.18328, -103.62949], [38.30646, -104.6112], [38.30646, -104.6112], [38.30646, -104.6112], [38.30646, -104.6112], [38.30646, -104.6112], [41.72022, -86.25148], [41.72022, -86.25148], [41.72022, -86.25148], [61.18119, -149.93788], [61.18119, -149.93788], [61.18119, -149.93788], [61.18119, -149.93788], [61.18119, -149.93788], [61.18119, -149.93788], [61.18119, -149.93788], [61.18119, -149.93788], [61.18119, -149.93788], [61.18119, -149.93788], [41.21639, -86.42251], [41.21639, -86.42251], [42.001747, -70.024864], [38.396343, -79.91434], [34.26359, -116.81884], [34.26359, -116.81884], [34.26359, -116.81884], [30.592897, -103.9436], [32.65476, -79.94238], [34.068027, -118.27014], [34.068027, -118.27014], [34.068027, -118.27014], [34.068027, -118.27014], [34.068027, -118.27014], [34.068027, -118.27014], [34.068027, -118.27014], [34.068027, -118.27014], [41.783825, -80.85764], [46.911793, -124.11028], [46.911793, -124.11028], [39.894577, -83.81426], [39.894577, -83.81426], [39.894577, -83.81426], [39.894577, -83.81426], [39.894577, -83.81426], [37.154762, -93.261314], [32.262257, -101.49201], [47.937267, -119.00316], [47.937267, -119.00316], [47.937267, -119.00316], [32.394726, -84.95484], [32.394726, -84.95484], [32.394726, -84.95484], [32.394726, -84.95484], [32.394726, -84.95484], [32.394726, -84.95484], [32.394726, -84.95484], [32.394726, -84.95484], [32.394726, -84.95484], [32.394726, -84.95484], [36.85265, -76.21203], [36.85265, -76.21203], [33.6062, -114.56938], [33.6062, -114.56938], [41.51679, -72.71862], [40.800117, -105.58694], [38.49181, -94.94932], [38.49181, -94.94932], [38.49181, -94.94932], [41.812249, -87.950818], [41.812249, -87.950818], [41.812249, -87.950818], [41.812249, -87.950818], [41.812249, -87.950818], [41.812249, -87.950818], [33.9652, -112.73532], [35.49354, -83.3139], [35.49354, -83.3139], [35.49354, -83.3139], [35.49354, -83.3139], [35.49354, -83.3139], [40.88648, -97.10204], [40.88648, -97.10204], [38.61008, -86.11781], [38.61008, -86.11781], [40.99384, -76.64061], [40.99384, -76.64061], [40.99384, -76.64061], [40.99384, -76.64061], [40.99384, -76.64061], [40.99384, -76.64061], [40.99384, -76.64061], [43.42851, -73.71063], [39.03629, -82.6269], [39.03629, -82.6269], [40.77211, -82.55024], [41.04109, -83.67496], [41.04109, -83.67496], [37.0977, -93.79666], [30.58338, -98.27234], [34.4463, -83.1284], [43.054, -86.2448], [34.932408, -82.0298399], [43.02184, -77.43977], [43.02184, -77.43977], [43.02184, -77.43977], [43.02184, -77.43977], [43.1317, -77.6669], [43.1317, -77.6669], [43.1317, -77.6669], [43.1317, -77.6669], [43.1317, -77.6669], [43.1317, -77.6669], [36.15037, -78.72443], [43.55478, -70.4019], [26.09218, -80.15757], [26.09218, -80.15757], [26.09218, -80.15757], [26.09218, -80.15757], [26.09218, -80.15757], [26.09218, -80.15757], [26.09218, -80.15757], [26.09218, -80.15757], [26.09218, -80.15757], [26.09218, -80.15757], [26.09218, -80.15757], [26.09218, -80.15757], [26.09218, -80.15757], [26.09218, -80.15757], [26.09218, -80.15757], [26.09218, -80.15757], [26.09218, -80.15757], [26.09218, -80.15757], [26.09218, -80.15757], [39.690807, -75.655461], [39.690807, -75.655461], [39.690807, -75.655461], [39.690807, -75.655461], [39.690807, -75.655461], [44.78551, -91.5288], [44.78551, -91.5288], [44.78551, -91.5288], [44.78551, -91.5288], [33.457153, -90.665085], [45.7504, -108.55175], [45.75419, -108.53346], [45.7504, -108.55175], [47.49504, -111.28957], [47.49504, -111.28957], [47.49504, -111.28957], [47.49504, -111.28957], [37.482002, -90.842545], [37.482002, -90.842545], [37.482002, -90.842545], [37.90469, -90.51503], [37.90469, -90.51503], [30.38722, -86.40029], [30.38722, -86.40029], [43.87766, -91.18924], [43.87766, -91.18924], [43.87766, -91.18924], [42.99747, -96.04583], [43.12224, -94.69949], [42.43638, -96.36794], [42.43638, -96.36794], [39.9297, -86.0624], [42.971134, -85.655365], [26.161492, -81.684787], [26.161492, -81.684787], [26.161492, -81.684787], [26.161492, -81.684787], [26.161492, -81.684787], [26.161492, -81.684787], [35.13015, -92.89413], [36.17125, -94.18552], [33.68434, -93.61175], [35.82745, -90.67876], [30.44533, -91.24407], [34.78167, -111.76244], [34.78167, -111.76244], [34.78167, -111.76244], [34.78167, -111.76244], [46.40707, -86.6519], [46.40707, -86.6519], [38.397175, -82.71136], [38.397175, -82.71136], [38.397175, -82.71136], [38.397175, -82.71136], [36.08009, -94.20217], [36.08009, -94.20217], [36.08009, -94.20217], [36.08009, -94.20217], [41.113922, -100.76719], [43.627487, -89.761345], [42.154083, -87.84717], [36.77298, -76.34129], [34.14215, -97.11329], [34.14215, -97.11329], [47.208492, -122.29389], [35.2486, -91.7278], [35.2783, -93.11906], [35.28241, -93.09554], [47.46391, -122.21961], [47.46391, -122.21961], [47.46391, -122.21961], [43.18893, -86.23799], [43.18893, -86.23799], [43.18893, -86.23799], [43.18893, -86.23799], [43.18893, -86.23799], [43.18893, -86.23799], [43.18893, -86.23799], [43.18893, -86.23799], [43.18893, -86.23799], [43.18893, -86.23799], [43.18893, -86.23799], [28.03667, -82.65676], [28.03667, -82.65676], [28.03667, -82.65676], [28.03667, -82.65676], [28.03667, -82.65676], [30.2518, -97.749], [30.2518, -97.749], [41.18055, -83.41996], [41.18055, -83.41996], [30.247455, -97.750463], [30.247455, -97.750463], [29.14367, -80.96562], [39.8524, -82.83008], [39.8524, -82.83008], [39.8524, -82.83008], [39.8524, -82.83008], [39.8524, -82.83008], [41.74527, -73.58454], [41.74527, -73.58454], [32.47026, -83.74621], [32.47026, -83.74621], [43.02974, -91.13097], [43.02974, -91.13097], [43.02974, -91.13097], [43.02974, -91.13097], [43.02974, -91.13097], [43.02974, -91.13097], [43.61546, -116.25492], [43.61546, -116.25492], [27.969898, -82.56264], [27.969898, -82.56264], [27.969898, -82.56264], [27.969898, -82.56264], [27.969898, -82.56264], [27.969898, -82.56264], [27.969898, -82.56264], [27.969898, -82.56264], [27.969898, -82.56264], [27.969898, -82.56264], [27.969898, -82.56264], [27.969898, -82.56264], [35.1338, -106.6077], [35.1338, -106.6077], [35.1338, -106.6077], [35.1338, -106.6077], [35.1338, -106.6077], [35.1338, -106.6077], [35.1338, -106.6077], [35.1338, -106.6077], [42.3643, -71.24418], [27.466, -82.6973], [27.466, -82.6973], [40.25105, -76.81864], [40.25105, -76.81864], [40.25105, -76.81864], [40.25105, -76.81864], [40.25105, -76.81864], [40.25105, -76.81864], [40.25105, -76.81864], [40.25105, -76.81864], [40.25105, -76.81864], [40.25105, -76.81864], [42.243, -72.55], [39.86117, -86.39668], [39.86117, -86.39668], [39.86117, -86.39668], [39.86117, -86.39668], [44.04536, -92.51896], [38.72734, -82.85904], [43.14796, -93.3574], [43.14796, -93.3574], [40.97704, -91.53733], [40.97704, -91.53733], [40.97704, -91.53733], [41.55909, -90.52104], [41.55909, -90.52104], [42.43909, -96.34684], [42.43909, -96.34684], [42.43909, -96.34684], [40.3167, -75.8044], [30.8644, -93.2873], [40.0773, -86.9033], [40.0773, -86.9033], [40.0773, -86.9033], [40.0773, -86.9033], [40.0773, -86.9033], [40.0773, -86.9033], [40.0773, -86.9033], [41.67948, -91.56688], [41.67948, -91.56688], [28.82072, -81.7137], [28.82072, -81.7137], [28.82072, -81.7137], [28.82072, -81.7137], [30.79039, -81.65359], [30.79039, -81.65359], [30.79039, -81.65359], [30.79039, -81.65359], [30.79039, -81.65359], [30.79039, -81.65359], [32.141, -81.23495], [45.67062, -118.78643], [45.69596, -120.73317], [44.96653, -124.01639], [42.20362, -121.71017], [42.20362, -121.71017], [43.99136, -102.24139], [43.99136, -102.24139], [43.99136, -102.24139], [43.99136, -102.24139], [43.99136, -102.24139], [35.68802, -85.76277], [59.51068, -139.66888], [31.78694, -106.41275], [42.31698, -122.86261], [42.31698, -122.86261], [35.08754, -80.86142], [47.37409, -102.75508], [47.37409, -102.75508], [44.75914, -85.58099], [44.75914, -85.58099], [44.75914, -85.58099], [44.75914, -85.58099], [44.75914, -85.58099], [35.15621, -90.15445], [42.68045, -73.783356], [42.68045, -73.783356], [42.68045, -73.783356], [35.50937, -83.31444], [35.50937, -83.31444], [35.37461, -83.22868], [35.37461, -83.22868], [43.72242, -91.97672], [44.60907, -87.4366], [44.60907, -87.4366], [43.65689, -72.78804], [43.65689, -72.78804], [44.514168, -72.01139], [44.514168, -72.01139], [43.59801, -73.02295], [36.05976, -102.52154], [30.98559, -103.74583], [30.98559, -103.74583], [30.98559, -103.74583], [30.98559, -103.74583], [30.98559, -103.74583], [37.82757, -112.43551], [33.41504, -112.0076], [33.41504, -112.0076], [27.46491, -82.69798], [46.249184, -119.104385], [46.249184, -119.104385], [46.249184, -119.104385], [46.249184, -119.104385], [39.97708, -74.06784], [39.97708, -74.06784], [41.9558, -80.4556], [42.04762, -80.0835], [42.04762, -80.0835], [42.04762, -80.0835], [42.04762, -80.0835], [42.04762, -80.0835], [42.04762, -80.0835], [42.04762, -80.0835], [42.04762, -80.0835], [42.04762, -80.0835], [42.04762, -80.0835], [42.04762, -80.0835], [29.2789, -81.0334], [32.4505, -99.7629], [36.32513, -86.70006], [36.32513, -86.70006], [36.32513, -86.70006], [36.32513, -86.70006], [39.8546, -84.1919], [39.8546, -84.1919], [39.8546, -84.1919], [39.8546, -84.1919], [39.8546, -84.1919], [39.8546, -84.1919], [39.8546, -84.1919], [39.8546, -84.1919], [39.8546, -84.1919], [39.8546, -84.1919], [39.8546, -84.1919], [30.33599, -90.98923], [30.33599, -90.98923], [28.100626, -81.953212], [28.100626, -81.953212], [28.100626, -81.953212], [43.12996, -75.581], [31.81416, -106.55447], [28.9734, -80.8977], [29.27357, -81.03028], [29.27357, -81.03028], [29.27357, -81.03028], [29.27357, -81.03028], [35.193768, -111.6216], [35.193768, -111.6216], [35.193768, -111.6216], [35.193768, -111.6216], [35.193768, -111.6216], [38.7642, -75.2114], [28.816, -97.849], [43.60913, -89.790535], [41.32329, -79.201515], [41.32329, -79.201515], [41.32329, -79.201515], [41.32329, -79.201515], [41.32329, -79.201515], [40.58604, -78.32608], [36.4666, -86.67885], [44.63158, -123.05812], [44.63158, -123.05812], [44.63158, -123.05812], [44.63158, -123.05812], [44.63158, -123.05812], [44.63158, -123.05812], [44.63158, -123.05812], [44.9314, -123.3101], [47.934478, -97.076757], [40.831452, -115.764549], [40.831452, -115.764549], [33.87719, -84.47343], [33.87719, -84.47343], [33.87719, -84.47343], [33.87719, -84.47343], [33.87719, -84.47343], [33.87719, -84.47343], [33.87719, -84.47343], [45.699, -111.0465], [45.699, -111.0465], [40.13287, -88.22052], [40.13287, -88.22052], [40.13287, -88.22052], [42.45113, -91.92133], [28.337484, -81.591571], [28.337484, -81.591571], [28.337484, -81.591571], [28.337484, -81.591571], [28.337484, -81.591571], [28.337484, -81.591571], [28.337484, -81.591571], [28.337484, -81.591571], [28.337484, -81.591571], [28.337484, -81.591571], [28.337484, -81.591571], [28.337484, -81.591571], [28.337484, -81.591571], [28.337484, -81.591571], [28.337484, -81.591571], [28.337484, -81.591571], [28.337484, -81.591571], [28.337484, -81.591571], [28.337484, -81.591571], [28.337484, -81.591571], [28.337484, -81.591571], [28.337484, -81.591571], [28.337484, -81.591571], [28.337484, -81.591571], [28.337484, -81.591571], [28.337484, -81.591571], [28.337484, -81.591571], [28.337484, -81.591571], [28.337484, -81.591571], [28.337484, -81.591571], [28.337484, -81.591571], [28.337484, -81.591571], [32.44513, -84.9264], [32.44513, -84.9264], [32.44513, -84.9264], [32.44513, -84.9264], [32.44513, -84.9264], [32.44513, -84.9264], [32.44513, -84.9264], [32.44513, -84.9264], [32.44513, -84.9264], [32.44513, -84.9264], [28.335657, -81.58545], [28.335657, -81.58545], [28.335657, -81.58545], [28.335657, -81.58545], [42.469, -73.20267], [42.469, -73.20267], [28.302862, -81.44759], [28.302862, -81.44759], [28.302862, -81.44759], [28.302862, -81.44759], [29.56927, -90.68337], [32.49094, -92.05335], [32.49094, -92.05335], [32.49094, -92.05335], [32.49094, -92.05335], [48.44237, -122.33638], [48.44237, -122.33638], [48.44237, -122.33638], [48.44237, -122.33638], [46.071613, -118.34248], [46.071613, -118.34248], [21.908293, -159.47493], [21.908293, -159.47493], [19.438604, -155.88747], [19.438604, -155.88747], [44.2853, -90.83532], [33.9271, -84.3433], [33.9271, -84.3433], [33.9271, -84.3433], [33.9271, -84.3433], [33.9271, -84.3433], [33.9271, -84.3433], [33.9271, -84.3433], [33.9271, -84.3433], [33.9271, -84.3433], [33.9271, -84.3433], [33.9271, -84.3433], [45.61398, -89.34041], [43.746857, -87.705215], [43.746857, -87.705215], [43.746857, -87.705215], [43.746857, -87.705215], [43.746857, -87.705215], [43.746857, -87.705215], [43.746857, -87.705215], [43.746857, -87.705215], [43.746857, -87.705215], [43.746857, -87.705215], [39.8914, -84.1907], [39.8914, -84.1907], [39.8914, -84.1907], [39.8914, -84.1907], [39.8945, -83.8079], [39.8945, -83.8079], [39.8945, -83.8079], [39.8945, -83.8079], [39.8945, -83.8079], [43.5591, -87.9405], [34.96377, -89.99208], [38.655273, -79.33246], [37.36525, -81.03982], [37.36525, -81.03982], [37.36525, -81.03982], [37.00895, -98.48913], [38.78318, -97.62036], [38.78318, -97.62036], [38.78318, -97.62036], [38.78318, -97.62036], [38.78318, -97.62036], [38.78318, -97.62036], [36.3363, -92.26112], [44.53967, -107.7613], [44.53967, -107.7613], [44.24363, -121.19353], [44.24363, -121.19353], [44.24363, -121.19353], [44.24363, -121.19353], [45.75697, -87.07725], [46.46296, -90.15438], [46.46337, -90.16975], [46.46296, -90.15438], [46.46337, -90.16975], [46.46337, -90.16975], [46.46296, -90.15438], [46.46296, -90.15438], [44.3909, -68.2066], [44.3909, -68.2066], [44.3909, -68.2066], [44.3909, -68.2066], [44.3909, -68.2066], [44.0579, -121.3124], [44.0579, -121.3124], [44.0579, -121.3124], [44.0579, -121.3124], [44.0579, -121.3124], [43.1198, -77.5578], [43.1198, -77.5578], [43.9475, -124.1037], [43.9475, -124.1037], [39.65012, -75.748398], [39.65012, -75.748398], [39.65012, -75.748398], [39.65012, -75.748398], [39.65012, -75.748398], [39.65012, -75.748398], [39.65012, -75.748398], [39.65012, -75.748398], [39.65012, -75.748398], [39.65012, -75.748398], [39.65012, -75.748398], [39.65012, -75.748398], [39.65012, -75.748398], [39.65012, -75.748398], [39.65012, -75.748398], [39.65012, -75.748398], [39.65012, -75.748398], [39.65012, -75.748398], [39.65012, -75.748398], [39.65012, -75.748398], [39.65012, -75.748398], [39.65012, -75.748398], [39.65012, -75.748398], [39.65012, -75.748398], [39.65012, -75.748398], [39.65012, -75.748398], [39.65012, -75.748398], [39.65012, -75.748398], [39.65012, -75.748398], [39.65012, -75.748398], [39.65012, -75.748398], [29.5356, -95.14122], [30.15907, -85.66929], [38.01243, -84.51635], [37.13337, -85.9731], [37.20476, -85.94012], [37.20476, -85.94012], [37.20476, -85.94012], [37.20476, -85.94012], [37.20476, -85.94012], [37.20476, -85.94012], [37.20476, -85.94012], [37.09536, -84.62074], [37.09536, -84.62074], [33.9505, -93.84155], [36.41082, -90.59328], [36.39969, -93.74742], [33.46506, -94.04165], [33.46506, -94.04165], [39.1169, -84.4974], [36.02986, -78.92174], [36.02986, -78.92174], [36.02986, -78.92174], [36.02986, -78.92174], [36.02986, -78.92174], [45.780056, -108.5134], [45.780056, -108.5134], [32.31305, -95.27633], [35.08215, -80.88229], [35.08215, -80.88229], [35.08215, -80.88229], [35.08215, -80.88229], [41.0196, -80.6331], [41.0196, -80.6331], [41.0196, -80.6331], [41.0196, -80.6331], [41.0196, -80.6331], [41.0196, -80.6331], [35.88652, -78.84881], [35.88652, -78.84881], [35.88652, -78.84881], [35.119835, -106.67516], [43.349243, -83.865616], [43.349243, -83.865616], [43.349243, -83.865616], [43.349243, -83.865616], [45.1875, -87.125], [32.00162, -80.84593], [43.9809, -88.585], [43.9809, -88.585], [26.19224, -98.23212], [26.19224, -98.23212], [26.19224, -98.23212], [26.19224, -98.23212], [39.03705, -94.34757], [39.03705, -94.34757], [39.03705, -94.34757], [39.03705, -94.34757], [40.34626, -75.9661], [40.34626, -75.9661], [40.34626, -75.9661], [40.34626, -75.9661], [42.3498, -122.8715], [42.3498, -122.8715], [42.3498, -122.8715], [42.3498, -122.8715], [42.3498, -122.8715], [42.3498, -122.8715], [42.3498, -122.8715], [42.3498, -122.8715], [42.3498, -122.8715], [36.0999, -115.1828], [36.0999, -115.1828], [36.0999, -115.1828], [36.0999, -115.1828], [36.0999, -115.1828], [42.62524, -70.64056], [43.323566, -83.74079], [43.323566, -83.74079], [20.704187, -156.445865], [20.704187, -156.445865], [20.704187, -156.445865], [20.704187, -156.445865], [20.704187, -156.445865], [37.7901, -81.2102], [37.7901, -81.2102], [37.7901, -81.2102], [47.64428, -117.5762], [47.64428, -117.5762], [47.64428, -117.5762], [47.64428, -117.5762], [47.61251, -122.334435], [47.61251, -122.334435], [47.61251, -122.334435], [40.94069, -73.74256], [40.94069, -73.74256], [41.7407, -111.8348], [41.886963, -87.62485], [41.886963, -87.62485], [41.886963, -87.62485], [41.886963, -87.62485], [41.886963, -87.62485], [41.886963, -87.62485], [41.886963, -87.62485], [36.946995, -81.05739], [36.946995, -81.05739], [36.946995, -81.05739], [36.946995, -81.05739], [36.946995, -81.05739], [34.1132, -84.7152], [45.74652, -85.52234], [45.74652, -85.52234], [42.01284, -87.94187], [30.72009, -86.56942], [47.317158, -122.29799], [47.317158, -122.29799], [47.317158, -122.29799], [47.317158, -122.29799], [47.317158, -122.29799], [33.46514, -112.24111], [35.695904, -79.79509], [46.264046, -119.252464], [46.264046, -119.252464], [46.264046, -119.252464], [37.16165, -104.51319], [37.16165, -104.51319], [37.16165, -104.51319], [37.16165, -104.51319], [42.343487, -71.577736], [43.07589, -91.13947], [35.64962, -106.00272], [35.64962, -106.00272], [35.64962, -106.00272], [35.64962, -106.00272], [35.64962, -106.00272], [35.64962, -106.00272], [37.77001, -111.60876], [37.77001, -111.60876], [37.77001, -111.60876], [37.77001, -111.60876], [37.77001, -111.60876], [37.77001, -111.60876], [37.77001, -111.60876], [37.77001, -111.60876], [44.35537, -106.6993], [44.35537, -106.6993], [40.020752, -76.18583], [40.020752, -76.18583], [40.020752, -76.18583], [40.020752, -76.18583], [44.2226, -71.73549], [44.2226, -71.73549], [44.2226, -71.73549], [41.75069, -70.12027], [41.75069, -70.12027], [41.75069, -70.12027], [41.75069, -70.12027], [41.75069, -70.12027], [43.0183, -74.9926], [41.52984, -83.46414], [42.86604, -109.87216], [48.937325, -122.752426], [48.937325, -122.752426], [48.937325, -122.752426], [32.80371, -116.9519], [32.80371, -116.9519], [32.80371, -116.9519], [32.80371, -116.9519], [32.80371, -116.9519], [32.80371, -116.9519], [32.80371, -116.9519], [32.80371, -116.9519], [32.80371, -116.9519], [32.80371, -116.9519], [32.80371, -116.9519], [37.60937, -97.32977], [37.60937, -97.32977], [37.60937, -97.32977], [33.31974, -111.8424], [43.70015, -72.28886], [43.70015, -72.28886], [43.662285, -116.335304], [45.61126, -123.94556], [45.61126, -123.94556], [41.72939, -70.39925], [47.69993, -116.7969], [35.66639, -88.83012], [61.18531, -149.912]],\n",
       "                {&quot;blur&quot;: 15, &quot;maxZoom&quot;: 1, &quot;minOpacity&quot;: 0.2, &quot;radius&quot;: 18}\n",
       "            ).addTo(map_ca68d51670059a5ff3a6e158e1f38684);\n",
       "        \n",
       "&lt;/script&gt;\" style=\"position:absolute;width:100%;height:100%;left:0;top:0;border:none !important;\" allowfullscreen webkitallowfullscreen mozallowfullscreen></iframe></div></div>"
      ],
      "text/plain": [
       "<folium.folium.Map at 0x24a998eeee0>"
      ]
     },
     "execution_count": 8,
     "metadata": {},
     "output_type": "execute_result"
    }
   ],
   "source": [
    "# Graph 4 : Heat Maps\n",
    "from folium import Map\n",
    "from folium.plugins import HeatMap\n",
    "\n",
    "location_map = Map(location=[39.155929, -76.716341], zoom_start=4)\n",
    "hm_wide = HeatMap(list(zip(df['latitude'].values, df['longitude'].values)), min_opacity=0.2, radius=18, blur=15, max_zoom=1)\n",
    "location_map.add_child(hm_wide)"
   ]
  },
  {
   "cell_type": "markdown",
   "id": "e912e045",
   "metadata": {},
   "source": [
    "MILESTONE 2: "
   ]
  },
  {
   "cell_type": "code",
   "execution_count": 9,
   "id": "7a4b011a",
   "metadata": {},
   "outputs": [],
   "source": [
    "#dropping unnecessary columns because these are not essential in looking at the reviews of the data. \n",
    "df = df.drop(['id', 'reviews.dateSeen', 'dateAdded', 'dateUpdated', 'reviews.sourceURLs', 'reviews.userCity', 'reviews.userProvince', 'reviews.username', 'sourceURLs', 'websites', 'categories', 'primaryCategories', 'address', 'keys'], axis=1).drop_duplicates()"
   ]
  },
  {
   "cell_type": "code",
   "execution_count": 10,
   "id": "df979db4",
   "metadata": {},
   "outputs": [],
   "source": [
    "#Dropping the two missing pieces of info from above. \n",
    "df = df.dropna()"
   ]
  },
  {
   "cell_type": "code",
   "execution_count": 11,
   "id": "0fd97648",
   "metadata": {},
   "outputs": [
    {
     "data": {
      "text/plain": [
       "['reviews.text']"
      ]
     },
     "execution_count": 11,
     "metadata": {},
     "output_type": "execute_result"
    }
   ],
   "source": [
    "#iterate through each row to make sure everyone row is a string\n",
    "for i in range(0,len(df)-1):\n",
    "    if type(df.iloc[i]['reviews.text']) !=str:\n",
    "        df.iloc[i]['reviews.text']=str(df.iloc[i])\n",
    "['reviews.text']"
   ]
  },
  {
   "cell_type": "code",
   "execution_count": 12,
   "id": "271a31a6",
   "metadata": {},
   "outputs": [
    {
     "data": {
      "text/html": [
       "<div>\n",
       "<style scoped>\n",
       "    .dataframe tbody tr th:only-of-type {\n",
       "        vertical-align: middle;\n",
       "    }\n",
       "\n",
       "    .dataframe tbody tr th {\n",
       "        vertical-align: top;\n",
       "    }\n",
       "\n",
       "    .dataframe thead th {\n",
       "        text-align: right;\n",
       "    }\n",
       "</style>\n",
       "<table border=\"1\" class=\"dataframe\">\n",
       "  <thead>\n",
       "    <tr style=\"text-align: right;\">\n",
       "      <th></th>\n",
       "      <th>city</th>\n",
       "      <th>country</th>\n",
       "      <th>latitude</th>\n",
       "      <th>longitude</th>\n",
       "      <th>name</th>\n",
       "      <th>postalCode</th>\n",
       "      <th>province</th>\n",
       "      <th>reviews.date</th>\n",
       "      <th>reviews.rating</th>\n",
       "      <th>reviews.text</th>\n",
       "      <th>reviews.title</th>\n",
       "      <th>sentiment</th>\n",
       "    </tr>\n",
       "  </thead>\n",
       "  <tbody>\n",
       "    <tr>\n",
       "      <th>0</th>\n",
       "      <td>Rancho Santa Fe</td>\n",
       "      <td>US</td>\n",
       "      <td>32.990959</td>\n",
       "      <td>-117.186136</td>\n",
       "      <td>Rancho Valencia Resort Spa</td>\n",
       "      <td>92067</td>\n",
       "      <td>CA</td>\n",
       "      <td>2013-11-14T00:00:00Z</td>\n",
       "      <td>5</td>\n",
       "      <td>Our experience at Rancho Valencia was absolute...</td>\n",
       "      <td>Best romantic vacation ever!!!!</td>\n",
       "      <td>1</td>\n",
       "    </tr>\n",
       "    <tr>\n",
       "      <th>1</th>\n",
       "      <td>Rancho Santa Fe</td>\n",
       "      <td>US</td>\n",
       "      <td>32.990959</td>\n",
       "      <td>-117.186136</td>\n",
       "      <td>Rancho Valencia Resort Spa</td>\n",
       "      <td>92067</td>\n",
       "      <td>CA</td>\n",
       "      <td>2014-07-06T00:00:00Z</td>\n",
       "      <td>5</td>\n",
       "      <td>Amazing place. Everyone was extremely warm and...</td>\n",
       "      <td>Sweet sweet serenity</td>\n",
       "      <td>1</td>\n",
       "    </tr>\n",
       "    <tr>\n",
       "      <th>2</th>\n",
       "      <td>Rancho Santa Fe</td>\n",
       "      <td>US</td>\n",
       "      <td>32.990959</td>\n",
       "      <td>-117.186136</td>\n",
       "      <td>Rancho Valencia Resort Spa</td>\n",
       "      <td>92067</td>\n",
       "      <td>CA</td>\n",
       "      <td>2015-01-02T00:00:00Z</td>\n",
       "      <td>5</td>\n",
       "      <td>We booked a 3 night stay at Rancho Valencia to...</td>\n",
       "      <td>Amazing Property and Experience</td>\n",
       "      <td>1</td>\n",
       "    </tr>\n",
       "    <tr>\n",
       "      <th>3</th>\n",
       "      <td>Hanover</td>\n",
       "      <td>US</td>\n",
       "      <td>39.155929</td>\n",
       "      <td>-76.716341</td>\n",
       "      <td>Aloft Arundel Mills</td>\n",
       "      <td>21076</td>\n",
       "      <td>MD</td>\n",
       "      <td>2016-05-15T00:00:00Z</td>\n",
       "      <td>2</td>\n",
       "      <td>Currently in bed writing this for the past hr ...</td>\n",
       "      <td>Never again...beware, if you want sleep.</td>\n",
       "      <td>0</td>\n",
       "    </tr>\n",
       "    <tr>\n",
       "      <th>4</th>\n",
       "      <td>Hanover</td>\n",
       "      <td>US</td>\n",
       "      <td>39.155929</td>\n",
       "      <td>-76.716341</td>\n",
       "      <td>Aloft Arundel Mills</td>\n",
       "      <td>21076</td>\n",
       "      <td>MD</td>\n",
       "      <td>2016-07-09T00:00:00Z</td>\n",
       "      <td>5</td>\n",
       "      <td>I live in Md and the Aloft is my Home away fro...</td>\n",
       "      <td>ALWAYS GREAT STAY...</td>\n",
       "      <td>1</td>\n",
       "    </tr>\n",
       "  </tbody>\n",
       "</table>\n",
       "</div>"
      ],
      "text/plain": [
       "              city country   latitude   longitude                        name  \\\n",
       "0  Rancho Santa Fe      US  32.990959 -117.186136  Rancho Valencia Resort Spa   \n",
       "1  Rancho Santa Fe      US  32.990959 -117.186136  Rancho Valencia Resort Spa   \n",
       "2  Rancho Santa Fe      US  32.990959 -117.186136  Rancho Valencia Resort Spa   \n",
       "3          Hanover      US  39.155929  -76.716341         Aloft Arundel Mills   \n",
       "4          Hanover      US  39.155929  -76.716341         Aloft Arundel Mills   \n",
       "\n",
       "  postalCode province          reviews.date  reviews.rating  \\\n",
       "0      92067       CA  2013-11-14T00:00:00Z               5   \n",
       "1      92067       CA  2014-07-06T00:00:00Z               5   \n",
       "2      92067       CA  2015-01-02T00:00:00Z               5   \n",
       "3      21076       MD  2016-05-15T00:00:00Z               2   \n",
       "4      21076       MD  2016-07-09T00:00:00Z               5   \n",
       "\n",
       "                                        reviews.text  \\\n",
       "0  Our experience at Rancho Valencia was absolute...   \n",
       "1  Amazing place. Everyone was extremely warm and...   \n",
       "2  We booked a 3 night stay at Rancho Valencia to...   \n",
       "3  Currently in bed writing this for the past hr ...   \n",
       "4  I live in Md and the Aloft is my Home away fro...   \n",
       "\n",
       "                              reviews.title  sentiment  \n",
       "0           Best romantic vacation ever!!!!          1  \n",
       "1                      Sweet sweet serenity          1  \n",
       "2           Amazing Property and Experience          1  \n",
       "3  Never again...beware, if you want sleep.          0  \n",
       "4                      ALWAYS GREAT STAY...          1  "
      ]
     },
     "execution_count": 12,
     "metadata": {},
     "output_type": "execute_result"
    }
   ],
   "source": [
    "#Change ratings column to a int . \n",
    "df['reviews.rating'] = df['reviews.rating'].astype(int)\n",
    "\n",
    "#get rid of rating of 3\n",
    "df = df[df['reviews.rating']!=3]\n",
    "\n",
    "#Seperate positive (4 or 5) and negative (1,2) and no middle\n",
    "def sentiment (n):\n",
    "    return 1 if n >=4 else 0\n",
    "\n",
    "df['sentiment'] = df['reviews.rating'].apply(sentiment)\n",
    "df.head()"
   ]
  },
  {
   "cell_type": "code",
   "execution_count": 13,
   "id": "66839719",
   "metadata": {},
   "outputs": [
    {
     "data": {
      "text/html": [
       "<div>\n",
       "<style scoped>\n",
       "    .dataframe tbody tr th:only-of-type {\n",
       "        vertical-align: middle;\n",
       "    }\n",
       "\n",
       "    .dataframe tbody tr th {\n",
       "        vertical-align: top;\n",
       "    }\n",
       "\n",
       "    .dataframe thead th {\n",
       "        text-align: right;\n",
       "    }\n",
       "</style>\n",
       "<table border=\"1\" class=\"dataframe\">\n",
       "  <thead>\n",
       "    <tr style=\"text-align: right;\">\n",
       "      <th></th>\n",
       "      <th>city</th>\n",
       "      <th>country</th>\n",
       "      <th>latitude</th>\n",
       "      <th>longitude</th>\n",
       "      <th>name</th>\n",
       "      <th>postalCode</th>\n",
       "      <th>province</th>\n",
       "      <th>reviews.date</th>\n",
       "      <th>reviews.rating</th>\n",
       "      <th>reviews.text</th>\n",
       "      <th>reviews.title</th>\n",
       "      <th>sentiment</th>\n",
       "      <th>reviews</th>\n",
       "    </tr>\n",
       "  </thead>\n",
       "  <tbody>\n",
       "    <tr>\n",
       "      <th>0</th>\n",
       "      <td>Rancho Santa Fe</td>\n",
       "      <td>US</td>\n",
       "      <td>32.990959</td>\n",
       "      <td>-117.186136</td>\n",
       "      <td>Rancho Valencia Resort Spa</td>\n",
       "      <td>92067</td>\n",
       "      <td>CA</td>\n",
       "      <td>2013-11-14T00:00:00Z</td>\n",
       "      <td>5</td>\n",
       "      <td>Our experience at Rancho Valencia was absolute...</td>\n",
       "      <td>Best romantic vacation ever!!!!</td>\n",
       "      <td>1</td>\n",
       "      <td>(Best romantic vacation ever!!!!,  , Our exper...</td>\n",
       "    </tr>\n",
       "    <tr>\n",
       "      <th>1</th>\n",
       "      <td>Rancho Santa Fe</td>\n",
       "      <td>US</td>\n",
       "      <td>32.990959</td>\n",
       "      <td>-117.186136</td>\n",
       "      <td>Rancho Valencia Resort Spa</td>\n",
       "      <td>92067</td>\n",
       "      <td>CA</td>\n",
       "      <td>2014-07-06T00:00:00Z</td>\n",
       "      <td>5</td>\n",
       "      <td>Amazing place. Everyone was extremely warm and...</td>\n",
       "      <td>Sweet sweet serenity</td>\n",
       "      <td>1</td>\n",
       "      <td>(Sweet sweet serenity,  , Amazing place. Every...</td>\n",
       "    </tr>\n",
       "    <tr>\n",
       "      <th>2</th>\n",
       "      <td>Rancho Santa Fe</td>\n",
       "      <td>US</td>\n",
       "      <td>32.990959</td>\n",
       "      <td>-117.186136</td>\n",
       "      <td>Rancho Valencia Resort Spa</td>\n",
       "      <td>92067</td>\n",
       "      <td>CA</td>\n",
       "      <td>2015-01-02T00:00:00Z</td>\n",
       "      <td>5</td>\n",
       "      <td>We booked a 3 night stay at Rancho Valencia to...</td>\n",
       "      <td>Amazing Property and Experience</td>\n",
       "      <td>1</td>\n",
       "      <td>(Amazing Property and Experience,  , We booked...</td>\n",
       "    </tr>\n",
       "    <tr>\n",
       "      <th>3</th>\n",
       "      <td>Hanover</td>\n",
       "      <td>US</td>\n",
       "      <td>39.155929</td>\n",
       "      <td>-76.716341</td>\n",
       "      <td>Aloft Arundel Mills</td>\n",
       "      <td>21076</td>\n",
       "      <td>MD</td>\n",
       "      <td>2016-05-15T00:00:00Z</td>\n",
       "      <td>2</td>\n",
       "      <td>Currently in bed writing this for the past hr ...</td>\n",
       "      <td>Never again...beware, if you want sleep.</td>\n",
       "      <td>0</td>\n",
       "      <td>(Never again...beware, if you want sleep.,  , ...</td>\n",
       "    </tr>\n",
       "    <tr>\n",
       "      <th>4</th>\n",
       "      <td>Hanover</td>\n",
       "      <td>US</td>\n",
       "      <td>39.155929</td>\n",
       "      <td>-76.716341</td>\n",
       "      <td>Aloft Arundel Mills</td>\n",
       "      <td>21076</td>\n",
       "      <td>MD</td>\n",
       "      <td>2016-07-09T00:00:00Z</td>\n",
       "      <td>5</td>\n",
       "      <td>I live in Md and the Aloft is my Home away fro...</td>\n",
       "      <td>ALWAYS GREAT STAY...</td>\n",
       "      <td>1</td>\n",
       "      <td>(ALWAYS GREAT STAY...,  , I live in Md and the...</td>\n",
       "    </tr>\n",
       "  </tbody>\n",
       "</table>\n",
       "</div>"
      ],
      "text/plain": [
       "              city country   latitude   longitude                        name  \\\n",
       "0  Rancho Santa Fe      US  32.990959 -117.186136  Rancho Valencia Resort Spa   \n",
       "1  Rancho Santa Fe      US  32.990959 -117.186136  Rancho Valencia Resort Spa   \n",
       "2  Rancho Santa Fe      US  32.990959 -117.186136  Rancho Valencia Resort Spa   \n",
       "3          Hanover      US  39.155929  -76.716341         Aloft Arundel Mills   \n",
       "4          Hanover      US  39.155929  -76.716341         Aloft Arundel Mills   \n",
       "\n",
       "  postalCode province          reviews.date  reviews.rating  \\\n",
       "0      92067       CA  2013-11-14T00:00:00Z               5   \n",
       "1      92067       CA  2014-07-06T00:00:00Z               5   \n",
       "2      92067       CA  2015-01-02T00:00:00Z               5   \n",
       "3      21076       MD  2016-05-15T00:00:00Z               2   \n",
       "4      21076       MD  2016-07-09T00:00:00Z               5   \n",
       "\n",
       "                                        reviews.text  \\\n",
       "0  Our experience at Rancho Valencia was absolute...   \n",
       "1  Amazing place. Everyone was extremely warm and...   \n",
       "2  We booked a 3 night stay at Rancho Valencia to...   \n",
       "3  Currently in bed writing this for the past hr ...   \n",
       "4  I live in Md and the Aloft is my Home away fro...   \n",
       "\n",
       "                              reviews.title  sentiment  \\\n",
       "0           Best romantic vacation ever!!!!          1   \n",
       "1                      Sweet sweet serenity          1   \n",
       "2           Amazing Property and Experience          1   \n",
       "3  Never again...beware, if you want sleep.          0   \n",
       "4                      ALWAYS GREAT STAY...          1   \n",
       "\n",
       "                                             reviews  \n",
       "0  (Best romantic vacation ever!!!!,  , Our exper...  \n",
       "1  (Sweet sweet serenity,  , Amazing place. Every...  \n",
       "2  (Amazing Property and Experience,  , We booked...  \n",
       "3  (Never again...beware, if you want sleep.,  , ...  \n",
       "4  (ALWAYS GREAT STAY...,  , I live in Md and the...  "
      ]
     },
     "execution_count": 13,
     "metadata": {},
     "output_type": "execute_result"
    }
   ],
   "source": [
    "def combined_features(row):\n",
    "    return row['reviews.title'] , ' ' , row['reviews.text']\n",
    "\n",
    "df['reviews'] = df.apply(combined_features,axis=1)\n",
    "df.head()"
   ]
  },
  {
   "cell_type": "code",
   "execution_count": 14,
   "id": "9b029369",
   "metadata": {},
   "outputs": [
    {
     "name": "stderr",
     "output_type": "stream",
     "text": [
      "[nltk_data] Downloading package wordnet to\n",
      "[nltk_data]     C:\\Users\\nekei\\AppData\\Roaming\\nltk_data...\n",
      "[nltk_data]   Package wordnet is already up-to-date!\n"
     ]
    }
   ],
   "source": [
    "# import libraries\n",
    "import nltk\n",
    "nltk.download('wordnet')\n",
    "from nltk.stem import WordNetLemmatizer\n",
    "import re"
   ]
  },
  {
   "cell_type": "code",
   "execution_count": 15,
   "id": "c79a615a",
   "metadata": {},
   "outputs": [],
   "source": [
    "#converting all letters to lower case \n",
    "df['reviews'] = df['reviews'].apply(lambda x : \" \".join(x.lower()for x in str(x).split()))\n",
    "\n",
    "#remove non alpha characters\n",
    "df['reviews'] = df['reviews'].apply(lambda x : \" \".join([re.sub('[^A-Za-z]+','',x)for x in nltk.word_tokenize(x)]))\n",
    "\n",
    "#remove extra spaces\n",
    "df['reviews'] = df['reviews'].apply(lambda x : re.sub(' +', ' ',x))\n",
    "\n",
    "#lemmatization (takes away suffixes to bring out root word)\n",
    "lemmatizer = WordNetLemmatizer()\n",
    "df['reviews'] = df['reviews'].apply(lambda x: \" \".join([lemmatizer.lemmatize(w) for w in nltk.word_tokenize(x)]))"
   ]
  },
  {
   "cell_type": "code",
   "execution_count": 16,
   "id": "5b2154b9",
   "metadata": {},
   "outputs": [],
   "source": [
    "#remove stop words\n",
    "from nltk.corpus import stopwords\n",
    "stop = stopwords.words('english')\n",
    "df['reviews'] = df['reviews'].apply(lambda x: \" \".join([x for x in x.split() if x not in stop]))"
   ]
  },
  {
   "cell_type": "code",
   "execution_count": 17,
   "id": "32f8a550",
   "metadata": {},
   "outputs": [],
   "source": [
    "#import libraries\n",
    "from nltk.stem.porter import PorterStemmer\n",
    "\n",
    "#Stemming words \n",
    "def stem_words(text):\n",
    "    porter = PorterStemmer()\n",
    "    stemmed = ' '.join([porter.stem(word) for word in text.split()])\n",
    "    return stemmed\n",
    "\n",
    "#Using porter stemmer to stem words\n",
    "df['reviews.text'] = df['reviews.text'].apply(lambda x : stem_words(x))\n",
    "\n",
    "#Tokenize\n",
    "def tokenization (text) :\n",
    "    tokens = re.split('W+',text)\n",
    "    return tokens\n",
    "\n",
    "df['reviews.text'] = df['reviews.text'].apply(lambda x : tokenization(x))\n",
    "\n",
    "df['reviews.text'] = df['reviews.text'].astype(str)"
   ]
  },
  {
   "cell_type": "markdown",
   "id": "bf1e6848",
   "metadata": {},
   "source": [
    "I would like to add another part in here to focus more so on the reviews and graphs of the reviews since I have cleanned the text now because that is my main focus at the point for my project. "
   ]
  },
  {
   "cell_type": "code",
   "execution_count": 18,
   "id": "52c6cb0e",
   "metadata": {},
   "outputs": [
    {
     "data": {
      "text/plain": [
       "'loved stay staff friendly helpful room large nicely furnished feel new first stay actually opulent require free breakfast wa good sufficient choice including fresh fruit salad egg bacon bagel pastry wa great location purpose'"
      ]
     },
     "execution_count": 18,
     "metadata": {},
     "output_type": "execute_result"
    }
   ],
   "source": [
    "df['reviews'][10]"
   ]
  },
  {
   "cell_type": "code",
   "execution_count": 19,
   "id": "f91df7be",
   "metadata": {},
   "outputs": [
    {
     "name": "stderr",
     "output_type": "stream",
     "text": [
      "C:\\Users\\nekei\\Anaconda\\lib\\site-packages\\seaborn\\_decorators.py:36: FutureWarning: Pass the following variable as a keyword arg: x. From version 0.12, the only valid positional argument will be `data`, and passing other arguments without an explicit keyword will result in an error or misinterpretation.\n",
      "  warnings.warn(\n"
     ]
    },
    {
     "data": {
      "text/plain": [
       "<AxesSubplot:xlabel='reviews.rating', ylabel='count'>"
      ]
     },
     "execution_count": 19,
     "metadata": {},
     "output_type": "execute_result"
    },
    {
     "data": {
      "image/png": "[encoded data removed]",
      "text/plain": [
       "<Figure size 432x288 with 1 Axes>"
      ]
     },
     "metadata": {
      "needs_background": "light"
     },
     "output_type": "display_data"
    }
   ],
   "source": [
    "#creating bar charts for the number of each obersevation including three since that is neutral\n",
    "sns.countplot(df['reviews.rating'])"
   ]
  },
  {
   "cell_type": "code",
   "execution_count": 20,
   "id": "501c2c35",
   "metadata": {},
   "outputs": [
    {
     "name": "stderr",
     "output_type": "stream",
     "text": [
      "C:\\Users\\nekei\\Anaconda\\lib\\site-packages\\seaborn\\_decorators.py:36: FutureWarning: Pass the following variable as a keyword arg: x. From version 0.12, the only valid positional argument will be `data`, and passing other arguments without an explicit keyword will result in an error or misinterpretation.\n",
      "  warnings.warn(\n"
     ]
    },
    {
     "data": {
      "text/plain": [
       "<AxesSubplot:xlabel='sentiment', ylabel='count'>"
      ]
     },
     "execution_count": 20,
     "metadata": {},
     "output_type": "execute_result"
    },
    {
     "data": {
      "image/png": "[encoded data removed]",
      "text/plain": [
       "<Figure size 432x288 with 1 Axes>"
      ]
     },
     "metadata": {
      "needs_background": "light"
     },
     "output_type": "display_data"
    }
   ],
   "source": [
    "#showing bar charts for sentiment which seperated graph into good (1) or bad (2)\n",
    "sns.countplot(df['sentiment'])"
   ]
  },
  {
   "cell_type": "code",
   "execution_count": 21,
   "id": "51490712",
   "metadata": {},
   "outputs": [
    {
     "data": {
      "text/html": [
       "<div>\n",
       "<style scoped>\n",
       "    .dataframe tbody tr th:only-of-type {\n",
       "        vertical-align: middle;\n",
       "    }\n",
       "\n",
       "    .dataframe tbody tr th {\n",
       "        vertical-align: top;\n",
       "    }\n",
       "\n",
       "    .dataframe thead th {\n",
       "        text-align: right;\n",
       "    }\n",
       "</style>\n",
       "<table border=\"1\" class=\"dataframe\">\n",
       "  <thead>\n",
       "    <tr style=\"text-align: right;\">\n",
       "      <th></th>\n",
       "      <th>Word</th>\n",
       "      <th>Freq</th>\n",
       "    </tr>\n",
       "  </thead>\n",
       "  <tbody>\n",
       "    <tr>\n",
       "      <th>0</th>\n",
       "      <td>wa</td>\n",
       "      <td>13829</td>\n",
       "    </tr>\n",
       "    <tr>\n",
       "      <th>1</th>\n",
       "      <td>room</td>\n",
       "      <td>7725</td>\n",
       "    </tr>\n",
       "    <tr>\n",
       "      <th>2</th>\n",
       "      <td>hotel</td>\n",
       "      <td>7493</td>\n",
       "    </tr>\n",
       "    <tr>\n",
       "      <th>3</th>\n",
       "      <td>great</td>\n",
       "      <td>4922</td>\n",
       "    </tr>\n",
       "    <tr>\n",
       "      <th>4</th>\n",
       "      <td>stay</td>\n",
       "      <td>4642</td>\n",
       "    </tr>\n",
       "    <tr>\n",
       "      <th>5</th>\n",
       "      <td>staff</td>\n",
       "      <td>4040</td>\n",
       "    </tr>\n",
       "    <tr>\n",
       "      <th>6</th>\n",
       "      <td>good</td>\n",
       "      <td>3393</td>\n",
       "    </tr>\n",
       "    <tr>\n",
       "      <th>7</th>\n",
       "      <td>clean</td>\n",
       "      <td>3287</td>\n",
       "    </tr>\n",
       "    <tr>\n",
       "      <th>8</th>\n",
       "      <td>nice</td>\n",
       "      <td>3134</td>\n",
       "    </tr>\n",
       "    <tr>\n",
       "      <th>9</th>\n",
       "      <td>breakfast</td>\n",
       "      <td>2608</td>\n",
       "    </tr>\n",
       "    <tr>\n",
       "      <th>10</th>\n",
       "      <td>location</td>\n",
       "      <td>2410</td>\n",
       "    </tr>\n",
       "    <tr>\n",
       "      <th>11</th>\n",
       "      <td>friendly</td>\n",
       "      <td>2100</td>\n",
       "    </tr>\n",
       "    <tr>\n",
       "      <th>12</th>\n",
       "      <td>place</td>\n",
       "      <td>1941</td>\n",
       "    </tr>\n",
       "    <tr>\n",
       "      <th>13</th>\n",
       "      <td>nt</td>\n",
       "      <td>1891</td>\n",
       "    </tr>\n",
       "    <tr>\n",
       "      <th>14</th>\n",
       "      <td>would</td>\n",
       "      <td>1887</td>\n",
       "    </tr>\n",
       "    <tr>\n",
       "      <th>15</th>\n",
       "      <td>comfortable</td>\n",
       "      <td>1761</td>\n",
       "    </tr>\n",
       "    <tr>\n",
       "      <th>16</th>\n",
       "      <td>bed</td>\n",
       "      <td>1647</td>\n",
       "    </tr>\n",
       "    <tr>\n",
       "      <th>17</th>\n",
       "      <td>night</td>\n",
       "      <td>1640</td>\n",
       "    </tr>\n",
       "    <tr>\n",
       "      <th>18</th>\n",
       "      <td>time</td>\n",
       "      <td>1604</td>\n",
       "    </tr>\n",
       "    <tr>\n",
       "      <th>19</th>\n",
       "      <td>stayed</td>\n",
       "      <td>1569</td>\n",
       "    </tr>\n",
       "    <tr>\n",
       "      <th>20</th>\n",
       "      <td>service</td>\n",
       "      <td>1556</td>\n",
       "    </tr>\n",
       "    <tr>\n",
       "      <th>21</th>\n",
       "      <td>u</td>\n",
       "      <td>1540</td>\n",
       "    </tr>\n",
       "    <tr>\n",
       "      <th>22</th>\n",
       "      <td>one</td>\n",
       "      <td>1381</td>\n",
       "    </tr>\n",
       "    <tr>\n",
       "      <th>23</th>\n",
       "      <td>area</td>\n",
       "      <td>1319</td>\n",
       "    </tr>\n",
       "    <tr>\n",
       "      <th>24</th>\n",
       "      <td>helpful</td>\n",
       "      <td>1247</td>\n",
       "    </tr>\n",
       "    <tr>\n",
       "      <th>25</th>\n",
       "      <td>well</td>\n",
       "      <td>1126</td>\n",
       "    </tr>\n",
       "    <tr>\n",
       "      <th>26</th>\n",
       "      <td>pool</td>\n",
       "      <td>1057</td>\n",
       "    </tr>\n",
       "    <tr>\n",
       "      <th>27</th>\n",
       "      <td>desk</td>\n",
       "      <td>1052</td>\n",
       "    </tr>\n",
       "    <tr>\n",
       "      <th>28</th>\n",
       "      <td>front</td>\n",
       "      <td>1002</td>\n",
       "    </tr>\n",
       "    <tr>\n",
       "      <th>29</th>\n",
       "      <td>restaurant</td>\n",
       "      <td>995</td>\n",
       "    </tr>\n",
       "  </tbody>\n",
       "</table>\n",
       "</div>"
      ],
      "text/plain": [
       "           Word   Freq\n",
       "0            wa  13829\n",
       "1          room   7725\n",
       "2         hotel   7493\n",
       "3         great   4922\n",
       "4          stay   4642\n",
       "5         staff   4040\n",
       "6          good   3393\n",
       "7         clean   3287\n",
       "8          nice   3134\n",
       "9     breakfast   2608\n",
       "10     location   2410\n",
       "11     friendly   2100\n",
       "12        place   1941\n",
       "13           nt   1891\n",
       "14        would   1887\n",
       "15  comfortable   1761\n",
       "16          bed   1647\n",
       "17        night   1640\n",
       "18         time   1604\n",
       "19       stayed   1569\n",
       "20      service   1556\n",
       "21            u   1540\n",
       "22          one   1381\n",
       "23         area   1319\n",
       "24      helpful   1247\n",
       "25         well   1126\n",
       "26         pool   1057\n",
       "27         desk   1052\n",
       "28        front   1002\n",
       "29   restaurant    995"
      ]
     },
     "execution_count": 21,
     "metadata": {},
     "output_type": "execute_result"
    }
   ],
   "source": [
    "#Looking at unique words that is common throughout and its freq\n",
    "\n",
    "#Spliting words in the reviews column\n",
    "total_words = \" \".join(df['reviews'])\n",
    "total_words = total_words.split()\n",
    "\n",
    "#finding freq of all words\n",
    "words = len(total_words)\n",
    "\n",
    "#creating word dist variable to use nltk to show freq dist\n",
    "word_dist = nltk.FreqDist(total_words)\n",
    "\n",
    "#creating a new df for word freq\n",
    "freq_df = pd.DataFrame (word_dist.most_common(words),\n",
    "                       columns = ['Word','Freq'])\n",
    "freq_df[0:30]"
   ]
  },
  {
   "cell_type": "markdown",
   "id": "b9d48056",
   "metadata": {},
   "source": [
    "Milestone 3: "
   ]
  },
  {
   "cell_type": "code",
   "execution_count": 22,
   "id": "b222460c",
   "metadata": {},
   "outputs": [
    {
     "name": "stdout",
     "output_type": "stream",
     "text": [
      "Train:  (6401,) (6401,) Test:  ((2134,), (2134,))\n"
     ]
    }
   ],
   "source": [
    "#split data into training and testing sets\n",
    "from sklearn.model_selection import train_test_split\n",
    "\n",
    "x = df['reviews']\n",
    "y = df['sentiment']\n",
    "\n",
    "x_train,x_test,y_train, y_test = train_test_split(x, y, test_size = 0.25, random_state = 30)\n",
    "\n",
    "print(\"Train: \",x_train.shape, y_train.shape,\"Test: \", (x_test.shape,y_test.shape))"
   ]
  },
  {
   "cell_type": "code",
   "execution_count": 23,
   "id": "5401e1e7",
   "metadata": {},
   "outputs": [],
   "source": [
    "#import TfIdfVectorizer\n",
    "from sklearn.feature_extraction.text import TfidfVectorizer\n",
    "tv = TfidfVectorizer()\n",
    "\n",
    "#fit training and test data\n",
    "tf_x_train = tv.fit_transform(x_train)\n",
    "tf_x_test = tv.transform(x_test)"
   ]
  },
  {
   "cell_type": "code",
   "execution_count": 24,
   "id": "e6b3c934",
   "metadata": {},
   "outputs": [],
   "source": [
    "#Using SVM for classification\n",
    "from sklearn.svm import LinearSVC\n",
    "svc = LinearSVC(random_state=0)\n",
    "\n",
    "#fit training data into model\n",
    "svc.fit(tf_x_train,y_train)\n",
    "\n",
    "#Predicting test data\n",
    "y_test_pred = svc.predict(tf_x_test)"
   ]
  },
  {
   "cell_type": "code",
   "execution_count": 25,
   "id": "f862579a",
   "metadata": {},
   "outputs": [
    {
     "data": {
      "text/plain": [
       "{'0': {'precision': 0.8566308243727598,\n",
       "  'recall': 0.7836065573770492,\n",
       "  'f1-score': 0.8184931506849316,\n",
       "  'support': 305},\n",
       " '1': {'precision': 0.9644204851752022,\n",
       "  'recall': 0.9781301257517769,\n",
       "  'f1-score': 0.971226927252986,\n",
       "  'support': 1829},\n",
       " 'accuracy': 0.950328022492971,\n",
       " 'macro avg': {'precision': 0.9105256547739811,\n",
       "  'recall': 0.8808683415644131,\n",
       "  'f1-score': 0.8948600389689587,\n",
       "  'support': 2134},\n",
       " 'weighted avg': {'precision': 0.9490147464007201,\n",
       "  'recall': 0.950328022492971,\n",
       "  'f1-score': 0.9493975918016005,\n",
       "  'support': 2134}}"
      ]
     },
     "execution_count": 25,
     "metadata": {},
     "output_type": "execute_result"
    }
   ],
   "source": [
    "#analyze the results\n",
    "from sklearn.metrics import classification_report\n",
    "\n",
    "report=classification_report(y_test, y_test_pred,output_dict=True)\n",
    "report"
   ]
  },
  {
   "cell_type": "markdown",
   "id": "b4cd98e4",
   "metadata": {},
   "source": [
    "I got a 95.17% accuracy with SVM , I am going to try Logistic Regression now"
   ]
  },
  {
   "cell_type": "code",
   "execution_count": 26,
   "id": "4a9e9166",
   "metadata": {},
   "outputs": [],
   "source": [
    "#LogReg \n",
    "from sklearn.linear_model import LogisticRegression\n",
    "\n",
    "log_reg = LogisticRegression(max_iter=1000,solver='saga')"
   ]
  },
  {
   "cell_type": "code",
   "execution_count": 27,
   "id": "d9dc549e",
   "metadata": {},
   "outputs": [
    {
     "data": {
      "text/plain": [
       "LogisticRegression(max_iter=1000, solver='saga')"
      ]
     },
     "execution_count": 27,
     "metadata": {},
     "output_type": "execute_result"
    }
   ],
   "source": [
    "#Fitting logistic regression model\n",
    "log_reg.fit(tf_x_train,y_train)"
   ]
  },
  {
   "cell_type": "code",
   "execution_count": 28,
   "id": "669a10ad",
   "metadata": {},
   "outputs": [],
   "source": [
    "#predicting the output of data\n",
    "y_test_pred=log_reg.predict(tf_x_test)"
   ]
  },
  {
   "cell_type": "code",
   "execution_count": 29,
   "id": "074ea0a8",
   "metadata": {},
   "outputs": [
    {
     "data": {
      "text/plain": [
       "{'0': {'precision': 0.92,\n",
       "  'recall': 0.6032786885245902,\n",
       "  'f1-score': 0.7287128712871288,\n",
       "  'support': 305},\n",
       " '1': {'precision': 0.937435367114788,\n",
       "  'recall': 0.9912520503007107,\n",
       "  'f1-score': 0.9635928780228542,\n",
       "  'support': 1829},\n",
       " 'accuracy': 0.9358013120899719,\n",
       " 'macro avg': {'precision': 0.928717683557394,\n",
       "  'recall': 0.7972653694126505,\n",
       "  'f1-score': 0.8461528746549916,\n",
       "  'support': 2134},\n",
       " 'weighted avg': {'precision': 0.9349434332019434,\n",
       "  'recall': 0.9358013120899719,\n",
       "  'f1-score': 0.9300228676880855,\n",
       "  'support': 2134}}"
      ]
     },
     "execution_count": 29,
     "metadata": {},
     "output_type": "execute_result"
    }
   ],
   "source": [
    "#anaylzing with classification report\n",
    "from sklearn.metrics import classification_report\n",
    "report=classification_report(y_test, y_test_pred,output_dict=True)\n",
    "report"
   ]
  },
  {
   "cell_type": "markdown",
   "id": "01bc7e54",
   "metadata": {},
   "source": [
    "I got a 93.53% accuracy with LogReg"
   ]
  },
  {
   "cell_type": "markdown",
   "id": "d5c6bc32",
   "metadata": {},
   "source": [
    "Now I am going to repeat those steps with another dataframe from Datafiniti to see how well my model is. The dataset is \"Datafiniti_Hotel_Reviews_Jun19.csv\" , which is 1,400 hotels and about 10,000 reviews. "
   ]
  },
  {
   "cell_type": "code",
   "execution_count": 30,
   "id": "2bbca1b7",
   "metadata": {},
   "outputs": [],
   "source": [
    "df2 = pd.read_csv(\"Datafiniti_Hotel_Reviews_Jun19.csv\")\n",
    "\n",
    "#dropping unnecessary columns because these are not essential in looking at the reviews of the data. \n",
    "df2 = df2.drop(['id', 'reviews.dateSeen','reviews.dateAdded', 'dateAdded', 'dateUpdated', 'reviews.sourceURLs', 'reviews.userCity', 'reviews.userProvince', 'reviews.username', 'sourceURLs', 'websites', 'categories', 'primaryCategories', 'address', 'keys'], axis=1).drop_duplicates()"
   ]
  },
  {
   "cell_type": "code",
   "execution_count": 31,
   "id": "a369180d",
   "metadata": {},
   "outputs": [
    {
     "data": {
      "text/plain": [
       "['reviews.text']"
      ]
     },
     "execution_count": 31,
     "metadata": {},
     "output_type": "execute_result"
    }
   ],
   "source": [
    "for i in range(0,len(df2)-1):\n",
    "    if type(df2.iloc[i]['reviews.text']) !=str:\n",
    "        df2.iloc[i]['reviews.text']=str(df.iloc[i])\n",
    "['reviews.text']"
   ]
  },
  {
   "cell_type": "code",
   "execution_count": 32,
   "id": "d1d1f312",
   "metadata": {},
   "outputs": [
    {
     "data": {
      "text/html": [
       "<div>\n",
       "<style scoped>\n",
       "    .dataframe tbody tr th:only-of-type {\n",
       "        vertical-align: middle;\n",
       "    }\n",
       "\n",
       "    .dataframe tbody tr th {\n",
       "        vertical-align: top;\n",
       "    }\n",
       "\n",
       "    .dataframe thead th {\n",
       "        text-align: right;\n",
       "    }\n",
       "</style>\n",
       "<table border=\"1\" class=\"dataframe\">\n",
       "  <thead>\n",
       "    <tr style=\"text-align: right;\">\n",
       "      <th></th>\n",
       "      <th>city</th>\n",
       "      <th>country</th>\n",
       "      <th>latitude</th>\n",
       "      <th>longitude</th>\n",
       "      <th>name</th>\n",
       "      <th>postalCode</th>\n",
       "      <th>province</th>\n",
       "      <th>reviews.date</th>\n",
       "      <th>reviews.rating</th>\n",
       "      <th>reviews.text</th>\n",
       "      <th>reviews.title</th>\n",
       "      <th>sentiment</th>\n",
       "    </tr>\n",
       "  </thead>\n",
       "  <tbody>\n",
       "    <tr>\n",
       "      <th>1</th>\n",
       "      <td>Carmel by the Sea</td>\n",
       "      <td>US</td>\n",
       "      <td>36.557220</td>\n",
       "      <td>-121.921940</td>\n",
       "      <td>Best Western Carmel's Town House Lodge</td>\n",
       "      <td>93921</td>\n",
       "      <td>CA</td>\n",
       "      <td>2016-04-02T00:00:00Z</td>\n",
       "      <td>4</td>\n",
       "      <td>We stayed in the king suite with the separatio...</td>\n",
       "      <td>Clean rooms at solid rates in the heart of Carmel</td>\n",
       "      <td>1</td>\n",
       "    </tr>\n",
       "    <tr>\n",
       "      <th>3</th>\n",
       "      <td>Carmel by the Sea</td>\n",
       "      <td>US</td>\n",
       "      <td>36.557220</td>\n",
       "      <td>-121.921940</td>\n",
       "      <td>Best Western Carmel's Town House Lodge</td>\n",
       "      <td>93921</td>\n",
       "      <td>CA</td>\n",
       "      <td>2016-08-22T00:00:00Z</td>\n",
       "      <td>5</td>\n",
       "      <td>Not cheap but excellent location. Price is som...</td>\n",
       "      <td>Very good</td>\n",
       "      <td>1</td>\n",
       "    </tr>\n",
       "    <tr>\n",
       "      <th>4</th>\n",
       "      <td>Carmel by the Sea</td>\n",
       "      <td>US</td>\n",
       "      <td>36.557220</td>\n",
       "      <td>-121.921940</td>\n",
       "      <td>Best Western Carmel's Town House Lodge</td>\n",
       "      <td>93921</td>\n",
       "      <td>CA</td>\n",
       "      <td>2016-03-21T00:00:00Z</td>\n",
       "      <td>2</td>\n",
       "      <td>If you get the room that they advertised on th...</td>\n",
       "      <td>Low chance to come back here</td>\n",
       "      <td>0</td>\n",
       "    </tr>\n",
       "    <tr>\n",
       "      <th>5</th>\n",
       "      <td>Lexington</td>\n",
       "      <td>US</td>\n",
       "      <td>38.047014</td>\n",
       "      <td>-84.497742</td>\n",
       "      <td>21c Museum Hotel Lexington</td>\n",
       "      <td>40507</td>\n",
       "      <td>KY</td>\n",
       "      <td>2016-03-15T00:00:00Z</td>\n",
       "      <td>4</td>\n",
       "      <td>This is such a fun, lovely hotel. The attentio...</td>\n",
       "      <td>Loved staying here</td>\n",
       "      <td>1</td>\n",
       "    </tr>\n",
       "    <tr>\n",
       "      <th>6</th>\n",
       "      <td>Lexington</td>\n",
       "      <td>US</td>\n",
       "      <td>38.047014</td>\n",
       "      <td>-84.497742</td>\n",
       "      <td>21c Museum Hotel Lexington</td>\n",
       "      <td>40507</td>\n",
       "      <td>KY</td>\n",
       "      <td>2016-04-18T00:00:00Z</td>\n",
       "      <td>1</td>\n",
       "      <td>We recently stayed at this hotel on a trip to ...</td>\n",
       "      <td>Does not live up to its reputation</td>\n",
       "      <td>0</td>\n",
       "    </tr>\n",
       "  </tbody>\n",
       "</table>\n",
       "</div>"
      ],
      "text/plain": [
       "                city country   latitude   longitude  \\\n",
       "1  Carmel by the Sea      US  36.557220 -121.921940   \n",
       "3  Carmel by the Sea      US  36.557220 -121.921940   \n",
       "4  Carmel by the Sea      US  36.557220 -121.921940   \n",
       "5          Lexington      US  38.047014  -84.497742   \n",
       "6          Lexington      US  38.047014  -84.497742   \n",
       "\n",
       "                                     name postalCode province  \\\n",
       "1  Best Western Carmel's Town House Lodge      93921       CA   \n",
       "3  Best Western Carmel's Town House Lodge      93921       CA   \n",
       "4  Best Western Carmel's Town House Lodge      93921       CA   \n",
       "5              21c Museum Hotel Lexington      40507       KY   \n",
       "6              21c Museum Hotel Lexington      40507       KY   \n",
       "\n",
       "           reviews.date  reviews.rating  \\\n",
       "1  2016-04-02T00:00:00Z               4   \n",
       "3  2016-08-22T00:00:00Z               5   \n",
       "4  2016-03-21T00:00:00Z               2   \n",
       "5  2016-03-15T00:00:00Z               4   \n",
       "6  2016-04-18T00:00:00Z               1   \n",
       "\n",
       "                                        reviews.text  \\\n",
       "1  We stayed in the king suite with the separatio...   \n",
       "3  Not cheap but excellent location. Price is som...   \n",
       "4  If you get the room that they advertised on th...   \n",
       "5  This is such a fun, lovely hotel. The attentio...   \n",
       "6  We recently stayed at this hotel on a trip to ...   \n",
       "\n",
       "                                       reviews.title  sentiment  \n",
       "1  Clean rooms at solid rates in the heart of Carmel          1  \n",
       "3                                          Very good          1  \n",
       "4                       Low chance to come back here          0  \n",
       "5                                 Loved staying here          1  \n",
       "6                 Does not live up to its reputation          0  "
      ]
     },
     "execution_count": 32,
     "metadata": {},
     "output_type": "execute_result"
    }
   ],
   "source": [
    "#Change ratings column to a int . \n",
    "df2['reviews.rating'] = df2['reviews.rating'].astype(int)\n",
    "\n",
    "#get rid of rating of 3\n",
    "df2 = df2[df2['reviews.rating']!=3]\n",
    "\n",
    "#Seperate positive (4 or 5) and negative (1,2) and no middle\n",
    "def sentiment (n):\n",
    "    return 1 if n >=4 else 0\n",
    "\n",
    "df2['sentiment'] = df2['reviews.rating'].apply(sentiment)\n",
    "df2.head()"
   ]
  },
  {
   "cell_type": "code",
   "execution_count": 33,
   "id": "a6a8bfe4",
   "metadata": {},
   "outputs": [
    {
     "data": {
      "text/html": [
       "<div>\n",
       "<style scoped>\n",
       "    .dataframe tbody tr th:only-of-type {\n",
       "        vertical-align: middle;\n",
       "    }\n",
       "\n",
       "    .dataframe tbody tr th {\n",
       "        vertical-align: top;\n",
       "    }\n",
       "\n",
       "    .dataframe thead th {\n",
       "        text-align: right;\n",
       "    }\n",
       "</style>\n",
       "<table border=\"1\" class=\"dataframe\">\n",
       "  <thead>\n",
       "    <tr style=\"text-align: right;\">\n",
       "      <th></th>\n",
       "      <th>city</th>\n",
       "      <th>country</th>\n",
       "      <th>latitude</th>\n",
       "      <th>longitude</th>\n",
       "      <th>name</th>\n",
       "      <th>postalCode</th>\n",
       "      <th>province</th>\n",
       "      <th>reviews.date</th>\n",
       "      <th>reviews.rating</th>\n",
       "      <th>reviews.text</th>\n",
       "      <th>reviews.title</th>\n",
       "      <th>sentiment</th>\n",
       "      <th>reviews</th>\n",
       "    </tr>\n",
       "  </thead>\n",
       "  <tbody>\n",
       "    <tr>\n",
       "      <th>1</th>\n",
       "      <td>Carmel by the Sea</td>\n",
       "      <td>US</td>\n",
       "      <td>36.557220</td>\n",
       "      <td>-121.921940</td>\n",
       "      <td>Best Western Carmel's Town House Lodge</td>\n",
       "      <td>93921</td>\n",
       "      <td>CA</td>\n",
       "      <td>2016-04-02T00:00:00Z</td>\n",
       "      <td>4</td>\n",
       "      <td>We stayed in the king suite with the separatio...</td>\n",
       "      <td>Clean rooms at solid rates in the heart of Carmel</td>\n",
       "      <td>1</td>\n",
       "      <td>(Clean rooms at solid rates in the heart of Ca...</td>\n",
       "    </tr>\n",
       "    <tr>\n",
       "      <th>3</th>\n",
       "      <td>Carmel by the Sea</td>\n",
       "      <td>US</td>\n",
       "      <td>36.557220</td>\n",
       "      <td>-121.921940</td>\n",
       "      <td>Best Western Carmel's Town House Lodge</td>\n",
       "      <td>93921</td>\n",
       "      <td>CA</td>\n",
       "      <td>2016-08-22T00:00:00Z</td>\n",
       "      <td>5</td>\n",
       "      <td>Not cheap but excellent location. Price is som...</td>\n",
       "      <td>Very good</td>\n",
       "      <td>1</td>\n",
       "      <td>(Very good,  , Not cheap but excellent locatio...</td>\n",
       "    </tr>\n",
       "    <tr>\n",
       "      <th>4</th>\n",
       "      <td>Carmel by the Sea</td>\n",
       "      <td>US</td>\n",
       "      <td>36.557220</td>\n",
       "      <td>-121.921940</td>\n",
       "      <td>Best Western Carmel's Town House Lodge</td>\n",
       "      <td>93921</td>\n",
       "      <td>CA</td>\n",
       "      <td>2016-03-21T00:00:00Z</td>\n",
       "      <td>2</td>\n",
       "      <td>If you get the room that they advertised on th...</td>\n",
       "      <td>Low chance to come back here</td>\n",
       "      <td>0</td>\n",
       "      <td>(Low chance to come back here,  , If you get t...</td>\n",
       "    </tr>\n",
       "    <tr>\n",
       "      <th>5</th>\n",
       "      <td>Lexington</td>\n",
       "      <td>US</td>\n",
       "      <td>38.047014</td>\n",
       "      <td>-84.497742</td>\n",
       "      <td>21c Museum Hotel Lexington</td>\n",
       "      <td>40507</td>\n",
       "      <td>KY</td>\n",
       "      <td>2016-03-15T00:00:00Z</td>\n",
       "      <td>4</td>\n",
       "      <td>This is such a fun, lovely hotel. The attentio...</td>\n",
       "      <td>Loved staying here</td>\n",
       "      <td>1</td>\n",
       "      <td>(Loved staying here,  , This is such a fun, lo...</td>\n",
       "    </tr>\n",
       "    <tr>\n",
       "      <th>6</th>\n",
       "      <td>Lexington</td>\n",
       "      <td>US</td>\n",
       "      <td>38.047014</td>\n",
       "      <td>-84.497742</td>\n",
       "      <td>21c Museum Hotel Lexington</td>\n",
       "      <td>40507</td>\n",
       "      <td>KY</td>\n",
       "      <td>2016-04-18T00:00:00Z</td>\n",
       "      <td>1</td>\n",
       "      <td>We recently stayed at this hotel on a trip to ...</td>\n",
       "      <td>Does not live up to its reputation</td>\n",
       "      <td>0</td>\n",
       "      <td>(Does not live up to its reputation,  , We rec...</td>\n",
       "    </tr>\n",
       "  </tbody>\n",
       "</table>\n",
       "</div>"
      ],
      "text/plain": [
       "                city country   latitude   longitude  \\\n",
       "1  Carmel by the Sea      US  36.557220 -121.921940   \n",
       "3  Carmel by the Sea      US  36.557220 -121.921940   \n",
       "4  Carmel by the Sea      US  36.557220 -121.921940   \n",
       "5          Lexington      US  38.047014  -84.497742   \n",
       "6          Lexington      US  38.047014  -84.497742   \n",
       "\n",
       "                                     name postalCode province  \\\n",
       "1  Best Western Carmel's Town House Lodge      93921       CA   \n",
       "3  Best Western Carmel's Town House Lodge      93921       CA   \n",
       "4  Best Western Carmel's Town House Lodge      93921       CA   \n",
       "5              21c Museum Hotel Lexington      40507       KY   \n",
       "6              21c Museum Hotel Lexington      40507       KY   \n",
       "\n",
       "           reviews.date  reviews.rating  \\\n",
       "1  2016-04-02T00:00:00Z               4   \n",
       "3  2016-08-22T00:00:00Z               5   \n",
       "4  2016-03-21T00:00:00Z               2   \n",
       "5  2016-03-15T00:00:00Z               4   \n",
       "6  2016-04-18T00:00:00Z               1   \n",
       "\n",
       "                                        reviews.text  \\\n",
       "1  We stayed in the king suite with the separatio...   \n",
       "3  Not cheap but excellent location. Price is som...   \n",
       "4  If you get the room that they advertised on th...   \n",
       "5  This is such a fun, lovely hotel. The attentio...   \n",
       "6  We recently stayed at this hotel on a trip to ...   \n",
       "\n",
       "                                       reviews.title  sentiment  \\\n",
       "1  Clean rooms at solid rates in the heart of Carmel          1   \n",
       "3                                          Very good          1   \n",
       "4                       Low chance to come back here          0   \n",
       "5                                 Loved staying here          1   \n",
       "6                 Does not live up to its reputation          0   \n",
       "\n",
       "                                             reviews  \n",
       "1  (Clean rooms at solid rates in the heart of Ca...  \n",
       "3  (Very good,  , Not cheap but excellent locatio...  \n",
       "4  (Low chance to come back here,  , If you get t...  \n",
       "5  (Loved staying here,  , This is such a fun, lo...  \n",
       "6  (Does not live up to its reputation,  , We rec...  "
      ]
     },
     "execution_count": 33,
     "metadata": {},
     "output_type": "execute_result"
    }
   ],
   "source": [
    "df2['reviews'] = df2.apply(combined_features,axis =1 )\n",
    "df2.head()"
   ]
  },
  {
   "cell_type": "code",
   "execution_count": 34,
   "id": "85ad777f",
   "metadata": {},
   "outputs": [],
   "source": [
    "#converting all letters to lower case \n",
    "df2['reviews'] = df2['reviews'].apply(lambda x : \" \".join(x.lower()for x in str(x).split()))\n",
    "\n",
    "#remove non alpha characters\n",
    "df2['reviews'] = df2['reviews'].apply(lambda x : \" \".join([re.sub('[^A-Za-z]+','',x)for x in nltk.word_tokenize(x)]))\n",
    "\n",
    "#remove extra spaces\n",
    "df2['reviews'] = df2['reviews'].apply(lambda x : re.sub(' +', ' ',x))\n",
    "\n",
    "#lemmatization (takes away suffixes to bring out root word)\n",
    "df2['reviews'] = df2['reviews'].apply(lambda x: \" \".join([lemmatizer.lemmatize(w) for w in nltk.word_tokenize(x)]))"
   ]
  },
  {
   "cell_type": "code",
   "execution_count": 35,
   "id": "c8245891",
   "metadata": {},
   "outputs": [],
   "source": [
    "#remove stop words\n",
    "df2['reviews'] = df2['reviews'].apply(lambda x: \" \".join([x for x in x.split() if x not in stop]))"
   ]
  },
  {
   "cell_type": "code",
   "execution_count": 36,
   "id": "d1475548",
   "metadata": {},
   "outputs": [],
   "source": [
    "#Using porter stemmer to stem words\n",
    "df2['reviews.text'] = df2['reviews.text'].apply(lambda x : stem_words(x))\n",
    "\n",
    "#Tokenize\n",
    "df2['reviews.text'] = df2['reviews.text'].apply(lambda x : tokenization(x))\n",
    "\n",
    "df2['reviews.text'] = df2['reviews.text'].astype(str)"
   ]
  },
  {
   "cell_type": "code",
   "execution_count": 37,
   "id": "f250fac0",
   "metadata": {},
   "outputs": [
    {
     "name": "stdout",
     "output_type": "stream",
     "text": [
      "Train:  (6463,) (6463,) Test:  ((2155,), (2155,))\n"
     ]
    }
   ],
   "source": [
    "x2 = df2['reviews']\n",
    "y2 = df2['sentiment']\n",
    "\n",
    "x2_train,x2_test,y2_train, y2_test = train_test_split(x2, y2, test_size = 0.25, random_state = 30)\n",
    "\n",
    "print(\"Train: \",x2_train.shape, y2_train.shape,\"Test: \", (x2_test.shape,y2_test.shape))"
   ]
  },
  {
   "cell_type": "code",
   "execution_count": 38,
   "id": "52e91312",
   "metadata": {},
   "outputs": [],
   "source": [
    "#fit training and test data\n",
    "tf_x2_train = tv.fit_transform(x2_train)\n",
    "tf_x2_test = tv.transform(x2_test)"
   ]
  },
  {
   "cell_type": "code",
   "execution_count": 39,
   "id": "6a4e796a",
   "metadata": {},
   "outputs": [],
   "source": [
    "#fit training data into model\n",
    "svc.fit(tf_x2_train,y2_train)\n",
    "\n",
    "#Predicting test data\n",
    "y2_test_pred = svc.predict(tf_x2_test)"
   ]
  },
  {
   "cell_type": "code",
   "execution_count": 40,
   "id": "c4a01270",
   "metadata": {},
   "outputs": [
    {
     "data": {
      "text/plain": [
       "{'0': {'precision': 0.9140271493212669,\n",
       "  'recall': 0.7593984962406015,\n",
       "  'f1-score': 0.8295687885010268,\n",
       "  'support': 266},\n",
       " '1': {'precision': 0.9669079627714581,\n",
       "  'recall': 0.9899417681312864,\n",
       "  'f1-score': 0.9782893015956055,\n",
       "  'support': 1889},\n",
       " 'accuracy': 0.9614849187935035,\n",
       " 'macro avg': {'precision': 0.9404675560463625,\n",
       "  'recall': 0.874670132185944,\n",
       "  'f1-score': 0.9039290450483162,\n",
       "  'support': 2155},\n",
       " 'weighted avg': {'precision': 0.9603806790694857,\n",
       "  'recall': 0.9614849187935035,\n",
       "  'f1-score': 0.9599321524154858,\n",
       "  'support': 2155}}"
      ]
     },
     "execution_count": 40,
     "metadata": {},
     "output_type": "execute_result"
    }
   ],
   "source": [
    "report2=classification_report(y2_test, y2_test_pred,output_dict=True)\n",
    "report2"
   ]
  },
  {
   "cell_type": "markdown",
   "id": "d4422171",
   "metadata": {},
   "source": [
    "My accuracy was 96.15% which is better than what I did on my first data frame."
   ]
  }
 ],
 "metadata": {
  "kernelspec": {
   "display_name": "Python 3 (ipykernel)",
   "language": "python",
   "name": "python3"
  },
  "language_info": {
   "codemirror_mode": {
    "name": "ipython",
    "version": 3
   },
   "file_extension": ".py",
   "mimetype": "text/x-python",
   "name": "python",
   "nbconvert_exporter": "python",
   "pygments_lexer": "ipython3",
   "version": "3.8.8"
  }
 },
 "nbformat": 4,
 "nbformat_minor": 5
}
